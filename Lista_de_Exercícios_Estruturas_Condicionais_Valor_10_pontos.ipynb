{
  "nbformat": 4,
  "nbformat_minor": 0,
  "metadata": {
    "colab": {
      "provenance": [],
      "authorship_tag": "ABX9TyPd5QYbzykuJKLRswuWXbuU",
      "include_colab_link": true
    },
    "kernelspec": {
      "name": "python3",
      "display_name": "Python 3"
    },
    "language_info": {
      "name": "python"
    }
  },
  "cells": [
    {
      "cell_type": "markdown",
      "metadata": {
        "id": "view-in-github",
        "colab_type": "text"
      },
      "source": [
        "<a href=\"https://colab.research.google.com/github/marciojr30/ALGESTDADOS_20251/blob/main/Lista_de_Exerc%C3%ADcios_Estruturas_Condicionais_Valor_10_pontos.ipynb\" target=\"_parent\"><img src=\"https://colab.research.google.com/assets/colab-badge.svg\" alt=\"Open In Colab\"/></a>"
      ]
    },
    {
      "cell_type": "markdown",
      "source": [
        "**Atividade Avaliatia I** - Márcio Alves Nascimento Júnior"
      ],
      "metadata": {
        "id": "vb5mV7i3Cm9W"
      }
    },
    {
      "cell_type": "code",
      "execution_count": null,
      "metadata": {
        "colab": {
          "base_uri": "https://localhost:8080/"
        },
        "id": "0Lid_F6L4rR-",
        "outputId": "569584f3-533d-4704-df72-228f37fc5ba1"
      },
      "outputs": [
        {
          "output_type": "stream",
          "name": "stdout",
          "text": [
            "Digite um número: 564\n",
            "564.0 é  maior que 50.\n"
          ]
        }
      ],
      "source": [
        "#1 - Peça um número ao usuário e verifique se ele é menor que 50. Informe o resultado com uma mensagem.\n",
        "\n",
        "num1 = float(input('Digite um número: '))\n",
        "\n",
        "if num1 < 50:\n",
        "  print(f'{num1} é menor que 50.')\n",
        "elif num1 == 50:\n",
        "  print(f'{num1} é igual a 50.')\n",
        "else:\n",
        "  print(f'{num1} é  maior que 50.')"
      ]
    },
    {
      "cell_type": "code",
      "source": [
        "#2 - Solicite um número ao usuário e informe se ele é divisível por 7. Para isso, utilize uma verificação simples.\n",
        "\n",
        "num1 = float(input('Digite um número: '))\n",
        "if num1%7 == 0:\n",
        "  print(f'{num1} é divisível por 7.')\n",
        "else:\n",
        "  print(f'{num1} não é divisível por 7.')"
      ],
      "metadata": {
        "colab": {
          "base_uri": "https://localhost:8080/"
        },
        "id": "C4vNe0pn52yy",
        "outputId": "2696c564-711f-4b46-c064-d29e2389a5fe"
      },
      "execution_count": null,
      "outputs": [
        {
          "output_type": "stream",
          "name": "stdout",
          "text": [
            "Digite um número: 7\n",
            "7.0 é divisível por 7.\n"
          ]
        }
      ]
    },
    {
      "cell_type": "code",
      "source": [
        "#3 - Peça um nome ao usuário e verifique se ele contém a letra \"o\". Exiba uma mensagem informando o resultado.\n",
        "\n",
        "nome = input('Digite um nome qualquer: ')\n",
        "nome = nome.lower()\n",
        "if 'o' in nome:\n",
        "  print(f'{nome} contém a letra \"o\".')\n",
        "else:\n",
        "  print(f'{nome} não contém a letra \"o\".')"
      ],
      "metadata": {
        "colab": {
          "base_uri": "https://localhost:8080/"
        },
        "id": "m4OmG5C662Ga",
        "outputId": "81f48356-6996-45bb-b86b-e7b2e0d05e74"
      },
      "execution_count": null,
      "outputs": [
        {
          "output_type": "stream",
          "name": "stdout",
          "text": [
            "Digite um nome qualquer: Márcio\n",
            "márcio contém a letra \"o\".\n"
          ]
        }
      ]
    },
    {
      "cell_type": "markdown",
      "source": [],
      "metadata": {
        "id": "ipHgAO8TCjDO"
      }
    },
    {
      "cell_type": "code",
      "source": [
        "#4 - Solicite um número inteiro e verifique se ele termina em 0. Utilize operações matemáticas para essa verificação.\n",
        "num1 = int(input('Digite um número: '))\n",
        "if num1%10 == 0:\n",
        "  print(f'{num1} termina em 0.')\n",
        "else:\n",
        "  print(f'{num1} não termina em 0.')"
      ],
      "metadata": {
        "colab": {
          "base_uri": "https://localhost:8080/"
        },
        "id": "NqLTmQHJ8U4s",
        "outputId": "b00f0595-07d8-45a5-9a74-5bfa44967b74"
      },
      "execution_count": null,
      "outputs": [
        {
          "output_type": "stream",
          "name": "stdout",
          "text": [
            "Digite um número: 108\n",
            "108 não termina em 0.\n"
          ]
        }
      ]
    },
    {
      "cell_type": "code",
      "source": [
        "#5 - Peça a idade de uma pessoa e informe se ela tem idade suficiente para votar (considerando 16 anos como idade mínima).\n",
        "idade = int(input('Digite sua idade: '))\n",
        "if idade >= 16:\n",
        "  print('Sua idade é suficiente para votar!')\n",
        "else:\n",
        "  print('Sua idade não é suficiente para votar.')"
      ],
      "metadata": {
        "colab": {
          "base_uri": "https://localhost:8080/"
        },
        "id": "rc5piAXy_F2X",
        "outputId": "3f8514fb-dda4-4bd2-b230-c0bac0dd4c17"
      },
      "execution_count": null,
      "outputs": [
        {
          "output_type": "stream",
          "name": "stdout",
          "text": [
            "Digite sua idade: 16\n",
            "Sua idade é suficiente para votar!\n"
          ]
        }
      ]
    },
    {
      "cell_type": "code",
      "source": [
        "#6 - Solicite ao usuário que digite um único caractere e informe se ele é uma vogal (a, e, i, o, u).\n",
        "letra = input('Digite uma letra: ')\n",
        "letra = letra.lower()\n",
        "vogal = ['a', 'e', 'i', 'o', 'u']\n",
        "if letra in vogal:\n",
        "  print('Sua letra é uma vogal.')\n",
        "else:\n",
        "  print('Sua letra não é uma vogal.')"
      ],
      "metadata": {
        "colab": {
          "base_uri": "https://localhost:8080/"
        },
        "id": "CGU6q6G9AIAm",
        "outputId": "b71af8c6-f4eb-46e8-e46f-efe08dd87b9b"
      },
      "execution_count": null,
      "outputs": [
        {
          "output_type": "stream",
          "name": "stdout",
          "text": [
            "Digite uma letra: a\n",
            "Sua letra é uma vogal.\n"
          ]
        }
      ]
    },
    {
      "cell_type": "code",
      "source": [
        "#7 - Peça a temperatura atual em graus Celsius e classifique-a como \"abaixo de zero\", \"entre 0°C e 20°C\" ou \"acima de 20°C\".\n",
        "temp = float(input('Digite uma temperatura em graus Celsius: '))\n",
        "if temp > 20:\n",
        "  print('Sua temperatura é acima de 20°.')\n",
        "elif 0 <= temp <= 20:\n",
        "  print('Sua temperatura esat entre 0° e 20°.')\n",
        "else:\n",
        "  print('Sua temperatura é abaixo de 0°')"
      ],
      "metadata": {
        "colab": {
          "base_uri": "https://localhost:8080/"
        },
        "id": "8shcCvjGBP_m",
        "outputId": "40e40064-b408-4a7e-c10c-2409f70f2b30"
      },
      "execution_count": null,
      "outputs": [
        {
          "output_type": "stream",
          "name": "stdout",
          "text": [
            "Digite uma temperatura em graus Celsius: 40\n",
            "Sua temperatura é acima de 20°.\n"
          ]
        }
      ]
    },
    {
      "cell_type": "code",
      "source": [
        "#8 - Solicite um número e informe se ele é maior que 1000. Exiba uma mensagem apropriada.\n",
        "num1 = float(input('Digte um núemro qualquer: '))\n",
        "if num1 > 1000:\n",
        "  print(f'{num1} é maior que 1000.')\n",
        "else:\n",
        "  print(f'{num1} é menor que 1000.')"
      ],
      "metadata": {
        "colab": {
          "base_uri": "https://localhost:8080/"
        },
        "id": "_BTCqWYtCaxX",
        "outputId": "23da6602-f7ad-4e5c-c7c9-fb5d622c483a"
      },
      "execution_count": null,
      "outputs": [
        {
          "output_type": "stream",
          "name": "stdout",
          "text": [
            "Digte um núemro qualquer: 3000\n",
            "3000.0 é maior que 1000.\n"
          ]
        }
      ]
    },
    {
      "cell_type": "code",
      "source": [
        "#9 - Peça um valor em reais e informe se ele é múltiplo de 50, ou seja, se o valor pode ser pago apenas com notas de R$50,00.\n",
        "num1 = int(input('Digite um valor em reais: '))\n",
        "if num1%50 == 0:\n",
        "  print(f'{num1} pode ser pago apenas com notas de 50 reais.')\n",
        "else:\n",
        "   print(f'{num1} não pode ser pago apenas com notas de 50 reais.')"
      ],
      "metadata": {
        "colab": {
          "base_uri": "https://localhost:8080/"
        },
        "id": "Suq1yuIxEUE1",
        "outputId": "3ddf26fa-9b5f-4952-8b52-5168f05773ea"
      },
      "execution_count": null,
      "outputs": [
        {
          "output_type": "stream",
          "name": "stdout",
          "text": [
            "Digite um valor em reais: 100\n",
            "100 pode ser pago apenas com notas de 50 reais.\n"
          ]
        }
      ]
    },
    {
      "cell_type": "code",
      "source": [
        "#10 - Solicite um número ao usuário e verifique se ele está no intervalo entre 100 e 200 (inclusive). Informe o resultado.\n",
        "num1 = float(input('Digite um número qualquer: '))\n",
        "if 100 <= num1 <= 200:\n",
        "  print(f'{num1} está entre 100 e 200.')\n",
        "else:\n",
        "  print(f'{num1} não está entre 100 e 200.')"
      ],
      "metadata": {
        "colab": {
          "base_uri": "https://localhost:8080/"
        },
        "id": "_4n4K-AbFmSg",
        "outputId": "43b93da9-ed5d-4669-d72a-887ec10e5c8a"
      },
      "execution_count": null,
      "outputs": [
        {
          "output_type": "stream",
          "name": "stdout",
          "text": [
            "Digite um número qualquer: 100.1\n",
            "100.1 está entre 100 e 200.\n"
          ]
        }
      ]
    },
    {
      "cell_type": "code",
      "source": [
        "#11 - Peça a altura de uma árvore em metros e informe se ela tem menos de 5 metros de altura.\n",
        "h = float(input('Digite a altura de uma árvore em metros: '))\n",
        "if h < 5:\n",
        "  print('Sua árvore é menor que 5 metros.')\n",
        "else:\n",
        "  print('Sua árvore é maior ou igual que 5 metros.')"
      ],
      "metadata": {
        "colab": {
          "base_uri": "https://localhost:8080/"
        },
        "id": "IdQ-gNN8GKEh",
        "outputId": "9c2e1953-2fbf-4c53-884b-8b96f01df33a"
      },
      "execution_count": null,
      "outputs": [
        {
          "output_type": "stream",
          "name": "stdout",
          "text": [
            "Digite a altura de uma árvore em metros: 4\n",
            "Sua árvore é menor que 5 metros.\n"
          ]
        }
      ]
    },
    {
      "cell_type": "code",
      "source": [
        "#12 - Solicite a temperatura de um líquido em graus Celsius e informe seu estado físico: \"congelado\" (≤0°C), \"líquido\" (0°C a 100°C) ou \"ebulição\" (>100°C).\n",
        "temp = float(input('Digite um temperatura qualquer em graus Celsius: '))\n",
        "if 0 < temp <= 100:\n",
        "  print(f'{temp} está no estado líquido.')\n",
        "elif temp <= 0:\n",
        "  print(f'{temp} está no estado sólido.')\n",
        "else:\n",
        "  print(f'{temp} está no estado de ebulição.')"
      ],
      "metadata": {
        "id": "-1U7QoBpLY66",
        "colab": {
          "base_uri": "https://localhost:8080/"
        },
        "outputId": "931dd2da-611c-4533-abee-fe1af2e9d268"
      },
      "execution_count": null,
      "outputs": [
        {
          "output_type": "stream",
          "name": "stdout",
          "text": [
            "Digite um temperatura qualquer em graus Celsius: 0\n",
            "0.0 está no estado sólido.\n"
          ]
        }
      ]
    },
    {
      "cell_type": "code",
      "source": [
        "#13 - Peça um número inteiro e verifique se ele é múltiplo de 10. Mostre uma mensagem indicando o resultado.\n",
        "num1 = int(input('Digite um número qualquer: '))\n",
        "if num1%10 == 0:\n",
        "  print(f'{num1} é divisível por 10.')\n",
        "else:\n",
        "  print(f'{num1} não é divisível por 10.')"
      ],
      "metadata": {
        "colab": {
          "base_uri": "https://localhost:8080/"
        },
        "id": "or5ZTKlEHUU7",
        "outputId": "cf9413e9-9368-4046-825f-f95fd0c6aaad"
      },
      "execution_count": null,
      "outputs": [
        {
          "output_type": "stream",
          "name": "stdout",
          "text": [
            "Digite um número qualquer: 4\n",
            "4 não é divisível por 10.\n"
          ]
        }
      ]
    },
    {
      "cell_type": "code",
      "source": [
        "#14 - Solicite a nota final de dois alunos e exiba qual deles teve a maior pontuação.\n",
        "nota1 = float(input('Digite a nota do aluno 1: '))\n",
        "nota2 = float(input('Digite a nota do aluno 2: '))\n",
        "if nota1 > nota2:\n",
        "  print('O aluno 1 tirou a maior pontuação!')\n",
        "elif nota1 == nota2:\n",
        "  print('Os dois alunos tiveram a mesma pontuação.')\n",
        "else:\n",
        "  print('O aluno 2 tirou a maior pontuação!')"
      ],
      "metadata": {
        "colab": {
          "base_uri": "https://localhost:8080/"
        },
        "id": "0LAZ6F6OH0WF",
        "outputId": "01130eea-66e7-419a-b4ef-b9d41e7ff908"
      },
      "execution_count": null,
      "outputs": [
        {
          "output_type": "stream",
          "name": "stdout",
          "text": [
            "Digite a nota do aluno 1: 10\n",
            "Digite a nota do aluno 2: 9\n",
            "O aluno 1 tirou a maior pontuação!\n"
          ]
        }
      ]
    },
    {
      "cell_type": "code",
      "source": [
        "#15 - Peça o nome de uma fruta e verifique se ela contém a letra \"e\". Exiba o resultado.\n",
        "fruta = input('Digite o nome de uma fruta: ')\n",
        "fruta = fruta.lower()\n",
        "if 'e' in fruta:\n",
        "  print(f'{fruta} contém a letra \"e\".')\n",
        "else:\n",
        "  print(f'{fruta} não contém a letra \"e\".')"
      ],
      "metadata": {
        "colab": {
          "base_uri": "https://localhost:8080/"
        },
        "id": "95Hc2ZE4IwIb",
        "outputId": "5135aad5-160e-4f20-e845-7841e555d837"
      },
      "execution_count": null,
      "outputs": [
        {
          "output_type": "stream",
          "name": "stdout",
          "text": [
            "Digite o nome de uma fruta: pera\n",
            "pera contém a letra \"e\".\n"
          ]
        }
      ]
    },
    {
      "cell_type": "code",
      "source": [
        "#16 - Peça a velocidade de um carro em km/h e informe se ela ultrapassa o limite de 80 km/h.\n",
        "v = int(input('Digite uma velocidade de um carro em km/h: '))\n",
        "if v > 80:\n",
        "  print('O carro ultrapassou o limte de 80km/h!')\n",
        "else:\n",
        "  print('O carro está dentro do limite de velocidade estabelecido.')"
      ],
      "metadata": {
        "colab": {
          "base_uri": "https://localhost:8080/"
        },
        "id": "4v_Fsq_NJqxX",
        "outputId": "ab71ab0b-1932-4db1-f625-d29b42d4fd7b"
      },
      "execution_count": null,
      "outputs": [
        {
          "output_type": "stream",
          "name": "stdout",
          "text": [
            "Digite uma velocidade de um carro em km/h: 81\n",
            "O carro ultrapassou o limte de 80km/h!\n"
          ]
        }
      ]
    },
    {
      "cell_type": "code",
      "source": [
        "#17 - Solicite um número ao usuário e informe se ele é divisível por 4 ou por 5. Exiba uma mensagem adequada.\n",
        "num1 = int(input('Digite um número qualquer: '))\n",
        "if num1%4 == 0 and num1%5 == 0:\n",
        "  print(f'{num1} é divisível por 4 e por 5.')\n",
        "elif num1%5 == 0:\n",
        "  print(f'{num1} é divisível por 5.')\n",
        "elif num1%4 == 0:\n",
        "  print(f'{num1} é divisível por 4.')\n",
        "else:\n",
        "  print(f'{num1} não é divisível por 4 ou 5.')"
      ],
      "metadata": {
        "colab": {
          "base_uri": "https://localhost:8080/"
        },
        "id": "3ulbvjrNKNAb",
        "outputId": "246f12f7-5fb0-4a0b-e130-6d19c5b49971"
      },
      "execution_count": null,
      "outputs": [
        {
          "output_type": "stream",
          "name": "stdout",
          "text": [
            "Digite um número qualquer: 100\n",
            "100 é divisível por 4 e por 5.\n"
          ]
        }
      ]
    },
    {
      "cell_type": "code",
      "source": [
        "#18 - Peça uma palavra ao usuário e verifique se ela contém a letra \"z\". Mostre uma mensagem informando o resultado.\n",
        "palavra = input('Digite uma palavra qualquer: ')\n",
        "palavra = palavra.lower()\n",
        "if 'z' in palavra:\n",
        "  print(f'A palavra {palavra} contém a letra \"z\".')\n",
        "else:\n",
        "  print(f'A palavra {palavra} não contém a letra \"z\".')"
      ],
      "metadata": {
        "colab": {
          "base_uri": "https://localhost:8080/"
        },
        "id": "6lf-uwKBL_Lr",
        "outputId": "2f2d52d6-095b-4db6-c202-37e16cbb7d28"
      },
      "execution_count": null,
      "outputs": [
        {
          "output_type": "stream",
          "name": "stdout",
          "text": [
            "Digite uma palavra qualquer: zebra\n",
            "A palavra zebra contém a letra \"z\".\n"
          ]
        }
      ]
    },
    {
      "cell_type": "code",
      "source": [
        "#19 - Solicite a quantidade de itens em um pedido e informe se ela é maior ou menor que 15 unidades.\n",
        "quant = int(input('Digite a quantidade de itens desejados: '))\n",
        "if quant > 15:\n",
        "  print('Este pedido é maior que 15 unidades.')\n",
        "elif quant == 15:\n",
        "  print('Este pedido tem 15 unidades.')\n",
        "else:\n",
        "  print('Este pedido é menor que 15 unidades.')"
      ],
      "metadata": {
        "colab": {
          "base_uri": "https://localhost:8080/"
        },
        "id": "ZgN7YZuWMfSk",
        "outputId": "7f360735-e5e5-44a5-8cc0-2b6b26dfac52"
      },
      "execution_count": null,
      "outputs": [
        {
          "output_type": "stream",
          "name": "stdout",
          "text": [
            "Digite a quantidade de itens desejados: 30\n",
            "Este pedido é maior que 15 unidades.\n"
          ]
        }
      ]
    },
    {
      "cell_type": "code",
      "source": [
        "#20 - Peça um número e verifique se ele termina com o dígito 7. Informe o resultado.\n",
        "num1 = int(input('Digite um número qualquer: '))\n",
        "if num1%10 == 7:\n",
        "  print(f'{num1} termina com o dígito 7.')\n",
        "else:\n",
        "  print(f'{num1} não termina com o dígito 7.')"
      ],
      "metadata": {
        "id": "at_qJcFYNps7",
        "colab": {
          "base_uri": "https://localhost:8080/"
        },
        "outputId": "b8b0e0ec-a307-4fcf-ebcb-75c0266f3dba"
      },
      "execution_count": null,
      "outputs": [
        {
          "output_type": "stream",
          "name": "stdout",
          "text": [
            "Digite um número qualquer: 1020217\n",
            "1020217 termina com o dígito 7.\n"
          ]
        }
      ]
    },
    {
      "cell_type": "code",
      "source": [
        "#21 - Solicite o ano de fabricação de um veículo e informe se ele tem mais de 20 anos.\n",
        "from datetime import datetime, date, time, timedelta\n",
        "ano_fab = int(input('Digite o ano de fabricação do veículo em AAAA: '))\n",
        "ano_atual = datetime.now().year\n",
        "ano_usado = ano_atual - ano_fab\n",
        "if ano_usado > 20:\n",
        "  print('Este veículo tem mais de 20 anos de uso.')\n",
        "elif ano_usado == 20:\n",
        "  print('Este veículo tem 20 anos de uso.')\n",
        "else:\n",
        "  print('Este veículo tem menos de 20 anos de uso.')"
      ],
      "metadata": {
        "colab": {
          "base_uri": "https://localhost:8080/"
        },
        "id": "bVFvweRIOgPV",
        "outputId": "9d41c6c4-0639-4763-b344-6ca38f3a1c4c"
      },
      "execution_count": null,
      "outputs": [
        {
          "output_type": "stream",
          "name": "stdout",
          "text": [
            "Digite o ano de fabricação do veículo em AAAA: 2015\n",
            "Este veículo tem menos de 20 anos de uso.\n"
          ]
        }
      ]
    },
    {
      "cell_type": "code",
      "source": [
        "#22 - Peça um número de telefone e verifique se ele contém o dígito 9. Exiba o resultado.\n",
        "num = input('Digite seu número de telefone com DDD: ')\n",
        "if '9' in num:\n",
        "  print('Seu número de telefone contém o dígito 9.')\n",
        "else:\n",
        "  print('Seu número de telefone não contém o dígito 9.')"
      ],
      "metadata": {
        "colab": {
          "base_uri": "https://localhost:8080/"
        },
        "id": "Wu1P26b4Vdjx",
        "outputId": "a0cc397e-5a3f-4e6c-fe64-5f57eab8bacc"
      },
      "execution_count": null,
      "outputs": [
        {
          "output_type": "stream",
          "name": "stdout",
          "text": [
            "Digite seu número de telefone com DDD: 27999008826\n",
            "Seu número de telefone contém o dígito 9.\n"
          ]
        }
      ]
    },
    {
      "cell_type": "code",
      "source": [
        "#23 - Solicite um número e informe se ele possui exatamente 2 dígitos.\n",
        "num1 = input('Digite um número qualquer: ')\n",
        "leitura = len(num1)\n",
        "if leitura == 2:\n",
        "  print(f'{num1} tem 2 dígitos.')\n",
        "else:\n",
        "  print(f'{num1} não tem 2 dígitos.')"
      ],
      "metadata": {
        "id": "H9yQ6niIVla1",
        "colab": {
          "base_uri": "https://localhost:8080/"
        },
        "outputId": "612c9d54-60f2-4289-9ac5-cd1de1b5c3f0"
      },
      "execution_count": null,
      "outputs": [
        {
          "output_type": "stream",
          "name": "stdout",
          "text": [
            "Digite um número qualquer: 11\n",
            "11 tem 2 dígitos.\n"
          ]
        }
      ]
    },
    {
      "cell_type": "code",
      "source": [
        "#24 - Peça o preço de um ingresso e aplique um desconto de 15%. Verifique se o preço com desconto ainda é superior a R$50,00 e exiba uma mensagem informando o resultado.\n",
        "ingresso = float(input('Digite o valor do ingresso: '))\n",
        "desconto = ingresso * 0.85\n",
        "if desconto < 50:\n",
        "  print(f'Seu ingresso de R${desconto:.2f} ingresso ficou menor que R$50,004.')\n",
        "else:\n",
        "  print(f'Seu ingresso ingresso de R${desconto:.2f} ficou maior que R$50,00.')"
      ],
      "metadata": {
        "colab": {
          "base_uri": "https://localhost:8080/"
        },
        "id": "ry_J6YgyVpSu",
        "outputId": "739d6d20-76b1-4025-d46c-fe8884fd3cf7"
      },
      "execution_count": null,
      "outputs": [
        {
          "output_type": "stream",
          "name": "stdout",
          "text": [
            "Digite o valor do ingresso: 70\n",
            "Seu ingresso ingresso de R$59.50 ficou maior que R$50,00.\n"
          ]
        }
      ]
    },
    {
      "cell_type": "code",
      "source": [
        "#25 - Solicite um número ao usuário e informe se ele é divisível por 8. Exiba o resultado.\n",
        "num1 = int(input('Digite um número qualquer: '))\n",
        "if num1%8 == 0:\n",
        "  print(f'{num1} é divisível por 8.')\n",
        "else:\n",
        "  print(f'{num1} não é divisível por 8.')"
      ],
      "metadata": {
        "colab": {
          "base_uri": "https://localhost:8080/"
        },
        "id": "-Y_lotGLVtWq",
        "outputId": "e96d3928-10fa-4ac4-dbb1-64d1dfadd0e1"
      },
      "execution_count": null,
      "outputs": [
        {
          "output_type": "stream",
          "name": "stdout",
          "text": [
            "Digite um número qualquer: 64\n",
            "64 é divisível por 8.\n"
          ]
        }
      ]
    },
    {
      "cell_type": "code",
      "source": [
        "#26 - Peça um número e verifique se ele é divisível tanto por 5 quanto por 9. Informe o resultado.\n",
        "num1 = int(input('Digite um número qualquer: '))\n",
        "if num1%5 == 0 and num1%9 == 0:\n",
        "  print(f'{num1} é divisível tanto por 5 quanto por 9.')\n",
        "else:\n",
        "  print(f'{num1} não é divisível tanto por 5 quanto por 9.')"
      ],
      "metadata": {
        "colab": {
          "base_uri": "https://localhost:8080/"
        },
        "id": "Co73-gHGVydq",
        "outputId": "f134b82e-de73-48f6-85d7-4a8883a2c3d6"
      },
      "execution_count": null,
      "outputs": [
        {
          "output_type": "stream",
          "name": "stdout",
          "text": [
            "Digite um número qualquer: 45\n",
            "45 é divisível tanto por 5 quanto por 9.\n"
          ]
        }
      ]
    },
    {
      "cell_type": "code",
      "source": [
        "#27 - Solicite o peso de um objeto em kg e informe se ele pesa mais de 25 kg.\n",
        "peso = float(input('Digite o peso do objeto em kg: '))\n",
        "if peso > 25:\n",
        "  print('Este objeto pesa mais de 25 kg.')\n",
        "elif peso == 25:\n",
        "  print('Este objeto pesa 25 kg.')\n",
        "else:\n",
        "  print('Este objeto pesa menos de 25 kg.')"
      ],
      "metadata": {
        "colab": {
          "base_uri": "https://localhost:8080/"
        },
        "id": "PACFOTE_V1lw",
        "outputId": "a83fe4bf-186f-4ee6-8ba5-d523df825093"
      },
      "execution_count": null,
      "outputs": [
        {
          "output_type": "stream",
          "name": "stdout",
          "text": [
            "Digite o peso do objeto em kg: 30\n",
            "Este objeto pesa mais de 25 kg.\n"
          ]
        }
      ]
    },
    {
      "cell_type": "code",
      "source": [
        "#28 - Peça uma letra ao usuário e informe se ela é uma vogal ou uma consoante. Considere letras minúsculas e maiúsculas.\n",
        "letra = input('Digite uma letra qualquer: ')\n",
        "letra = letra.lower()\n",
        "vogal = ['a', 'e', 'i', 'o', 'u']\n",
        "if letra in vogal:\n",
        "  print(f'{letra} é uma vogal.')\n",
        "else:\n",
        "  print(f'{letra} é uma consoante.')"
      ],
      "metadata": {
        "colab": {
          "base_uri": "https://localhost:8080/"
        },
        "id": "xyE1S7SKV5CH",
        "outputId": "8b87ea39-1b2f-4aaa-fb35-5f37d477de16"
      },
      "execution_count": null,
      "outputs": [
        {
          "output_type": "stream",
          "name": "stdout",
          "text": [
            "Digite uma letra qualquer: A\n",
            "a é uma vogal.\n"
          ]
        }
      ]
    },
    {
      "cell_type": "code",
      "source": [
        "#29 - Solicite a velocidade de um veículo e informe se ela está abaixo, dentro ou acima do limite de 60 km/h.\n",
        "v = int(input('Digite velociade de um veículo: '))\n",
        "if v > 60:\n",
        "  print('Este veículo está acima do limite de 60 km/h!')\n",
        "elif v == 60:\n",
        "  print('Este veículo está dentro do limite de 60km/h.')\n",
        "else:\n",
        "  print('Este veículo está abaixo do limite de 60 km/h.')"
      ],
      "metadata": {
        "colab": {
          "base_uri": "https://localhost:8080/"
        },
        "id": "XNLVdJuMV8g7",
        "outputId": "a57ddba1-c356-4b89-cac2-e9b950bd3617"
      },
      "execution_count": null,
      "outputs": [
        {
          "output_type": "stream",
          "name": "stdout",
          "text": [
            "Digite velociade de um veículo: 70\n",
            "Este veículo está acima do limite de 60 km/h!\n"
          ]
        }
      ]
    },
    {
      "cell_type": "code",
      "source": [
        "#30 - Peça um valor em reais ao usuário e verifique se ele é suficiente para comprar um produto que custa R$200,00. Exiba uma mensagem com a resposta.\n",
        "valor = float(input('Digite um valor em reais: '))\n",
        "if valor >= 200:\n",
        "  print('Seu saldo é suficiente para a compra de R$200,00.')\n",
        "else:\n",
        "  print('Seu saldo é INSUFICIENTE para a compra de R$200,00.')"
      ],
      "metadata": {
        "colab": {
          "base_uri": "https://localhost:8080/"
        },
        "id": "K9pc-hSnWG8X",
        "outputId": "a24b9ead-3f0f-4903-da8a-adb0485bfc3b"
      },
      "execution_count": null,
      "outputs": [
        {
          "output_type": "stream",
          "name": "stdout",
          "text": [
            "Digite um valor em reais: 70\n",
            "Seu saldo é INSUFICIENTE para a compra de R$200,00.\n"
          ]
        }
      ]
    }
  ]
}