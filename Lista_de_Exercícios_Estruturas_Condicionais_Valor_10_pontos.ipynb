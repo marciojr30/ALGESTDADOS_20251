{
  "nbformat": 4,
  "nbformat_minor": 0,
  "metadata": {
    "colab": {
      "provenance": [],
      "authorship_tag": "ABX9TyOqK8q6zTcEvCLPJmJ7w24+",
      "include_colab_link": true
    },
    "kernelspec": {
      "name": "python3",
      "display_name": "Python 3"
    },
    "language_info": {
      "name": "python"
    }
  },
  "cells": [
    {
      "cell_type": "markdown",
      "metadata": {
        "id": "view-in-github",
        "colab_type": "text"
      },
      "source": [
        "<a href=\"https://colab.research.google.com/github/marciojr30/ALGESTDADOS_20251/blob/main/Lista_de_Exerc%C3%ADcios_Estruturas_Condicionais_Valor_10_pontos.ipynb\" target=\"_parent\"><img src=\"https://colab.research.google.com/assets/colab-badge.svg\" alt=\"Open In Colab\"/></a>"
      ]
    },
    {
      "cell_type": "markdown",
      "source": [
        "**Atividade Avaliatia I** - Márcio Alves Nascimento Júnior"
      ],
      "metadata": {
        "id": "vb5mV7i3Cm9W"
      }
    },
    {
      "cell_type": "code",
      "source": [
        "#3 - Peça um nome ao usuário e verifique se ele contém a letra \"o\". Exiba uma mensagem informando o resultado.\n",
        "\n",
        "nome = input('Digite um nome qualquer: ')\n",
        "nome = nome.lower()\n",
        "if 'o' in nome:\n",
        "  print(f'{nome} contém a letra \"o\".')\n",
        "else:\n",
        "  print(f'{nome} não contém a letra \"o\".')"
      ],
      "metadata": {
        "colab": {
          "base_uri": "https://localhost:8080/"
        },
        "id": "m4OmG5C662Ga",
        "outputId": "81f48356-6996-45bb-b86b-e7b2e0d05e74"
      },
      "execution_count": 14,
      "outputs": [
        {
          "output_type": "stream",
          "name": "stdout",
          "text": [
            "Digite um nome qualquer: Márcio\n",
            "márcio contém a letra \"o\".\n"
          ]
        }
      ]
    },
    {
      "cell_type": "code",
      "execution_count": 3,
      "metadata": {
        "colab": {
          "base_uri": "https://localhost:8080/"
        },
        "id": "0Lid_F6L4rR-",
        "outputId": "835b3071-864c-43ad-93a6-9c99989d2344"
      },
      "outputs": [
        {
          "output_type": "stream",
          "name": "stdout",
          "text": [
            "Digite um número: 70\n",
            "70.0 é  maior que 50.\n"
          ]
        }
      ],
      "source": [
        "#1 - Peça um número ao usuário e verifique se ele é menor que 50. Informe o resultado com uma mensagem.\n",
        "\n",
        "num1 = float(input('Digite um número: '))\n",
        "\n",
        "if num1 < 50:\n",
        "  print(f'{num1} é menor que 50.')\n",
        "elif num1 == 50:\n",
        "  print(f'{num1} é igual a 50.')\n",
        "else:\n",
        "  print(f'{num1} é  maior que 50.')"
      ]
    },
    {
      "cell_type": "code",
      "source": [
        "#2 - Solicite um número ao usuário e informe se ele é divisível por 7. Para isso, utilize uma verificação simples.\n",
        "\n",
        "num1 = float(input('Digite um número: '))\n",
        "if num1%7 == 0:\n",
        "  print(f'{num1} é divisível por 7.')\n",
        "else:\n",
        "  print(f'{num1} não é divisível por 7.')"
      ],
      "metadata": {
        "colab": {
          "base_uri": "https://localhost:8080/"
        },
        "id": "C4vNe0pn52yy",
        "outputId": "2696c564-711f-4b46-c064-d29e2389a5fe"
      },
      "execution_count": 6,
      "outputs": [
        {
          "output_type": "stream",
          "name": "stdout",
          "text": [
            "Digite um número: 7\n",
            "7.0 é divisível por 7.\n"
          ]
        }
      ]
    },
    {
      "cell_type": "markdown",
      "source": [],
      "metadata": {
        "id": "ipHgAO8TCjDO"
      }
    },
    {
      "cell_type": "code",
      "source": [
        "#4 - Solicite um número inteiro e verifique se ele termina em 0. Utilize operações matemáticas para essa verificação.\n",
        "num1 = int(input('Digite um número: '))\n",
        "if num1%10 == 0:\n",
        "  print(f'{num1} termina em 0.')\n",
        "else:\n",
        "  print(f'{num1} não termina em 0.')"
      ],
      "metadata": {
        "colab": {
          "base_uri": "https://localhost:8080/"
        },
        "id": "NqLTmQHJ8U4s",
        "outputId": "b00f0595-07d8-45a5-9a74-5bfa44967b74"
      },
      "execution_count": 19,
      "outputs": [
        {
          "output_type": "stream",
          "name": "stdout",
          "text": [
            "Digite um número: 108\n",
            "108 não termina em 0.\n"
          ]
        }
      ]
    },
    {
      "cell_type": "code",
      "source": [
        "#5 - Peça a idade de uma pessoa e informe se ela tem idade suficiente para votar (considerando 16 anos como idade mínima).\n",
        "idade = int(input('Digite sua idade: '))\n",
        "if idade >= 16:\n",
        "  print('Sua idade é suficiente para votar!')\n",
        "else:\n",
        "  print('Sua idade não é suficiente para votar.')"
      ],
      "metadata": {
        "colab": {
          "base_uri": "https://localhost:8080/"
        },
        "id": "rc5piAXy_F2X",
        "outputId": "3f8514fb-dda4-4bd2-b230-c0bac0dd4c17"
      },
      "execution_count": 22,
      "outputs": [
        {
          "output_type": "stream",
          "name": "stdout",
          "text": [
            "Digite sua idade: 16\n",
            "Sua idade é suficiente para votar!\n"
          ]
        }
      ]
    },
    {
      "cell_type": "code",
      "source": [
        "#6 - Solicite ao usuário que digite um único caractere e informe se ele é uma vogal (a, e, i, o, u).\n",
        "letra = input('Digite uma letra: ')\n",
        "letra = letra.lower()\n",
        "vogal = ['a', 'e', 'i', 'o', 'u']\n",
        "if letra in vogal:\n",
        "  print('Sua letra é uma vogal.')\n",
        "else:\n",
        "  print('Sua letra não é uma vogal.')"
      ],
      "metadata": {
        "colab": {
          "base_uri": "https://localhost:8080/"
        },
        "id": "CGU6q6G9AIAm",
        "outputId": "b71af8c6-f4eb-46e8-e46f-efe08dd87b9b"
      },
      "execution_count": 25,
      "outputs": [
        {
          "output_type": "stream",
          "name": "stdout",
          "text": [
            "Digite uma letra: a\n",
            "Sua letra é uma vogal.\n"
          ]
        }
      ]
    },
    {
      "cell_type": "code",
      "source": [
        "#7 - Peça a temperatura atual em graus Celsius e classifique-a como \"abaixo de zero\", \"entre 0°C e 20°C\" ou \"acima de 20°C\".\n",
        "temp = float(input('Digite uma temperatura em graus Celsius: '))\n",
        "if temp > 20:\n",
        "  print('Sua temperatura é acima de 20°.')\n",
        "elif 0 <= temp <= 20:\n",
        "  print('Sua temperatura esat entre 0° e 20°.')\n",
        "else:\n",
        "  print('Sua temperatura é abaixo de 0°')"
      ],
      "metadata": {
        "colab": {
          "base_uri": "https://localhost:8080/"
        },
        "id": "8shcCvjGBP_m",
        "outputId": "40e40064-b408-4a7e-c10c-2409f70f2b30"
      },
      "execution_count": 28,
      "outputs": [
        {
          "output_type": "stream",
          "name": "stdout",
          "text": [
            "Digite uma temperatura em graus Celsius: 40\n",
            "Sua temperatura é acima de 20°.\n"
          ]
        }
      ]
    },
    {
      "cell_type": "code",
      "source": [
        "#8 - Solicite um número e informe se ele é maior que 1000. Exiba uma mensagem apropriada.\n",
        "num1 = float(input('Digte um núemro qualquer: '))\n",
        "if num1 > 1000:\n",
        "  print(f'{num1} é maior que 1000.')\n",
        "else:\n",
        "  print(f'{num1} é menor que 1000.')"
      ],
      "metadata": {
        "colab": {
          "base_uri": "https://localhost:8080/"
        },
        "id": "_BTCqWYtCaxX",
        "outputId": "23da6602-f7ad-4e5c-c7c9-fb5d622c483a"
      },
      "execution_count": 33,
      "outputs": [
        {
          "output_type": "stream",
          "name": "stdout",
          "text": [
            "Digte um núemro qualquer: 3000\n",
            "3000.0 é maior que 1000.\n"
          ]
        }
      ]
    },
    {
      "cell_type": "code",
      "source": [
        "#9 - Peça um valor em reais e informe se ele é múltiplo de 50, ou seja, se o valor pode ser pago apenas com notas de R$50,00.\n",
        "num1 = int(input('Digite um valor em reais: '))\n",
        "if num1%50 == 0:\n",
        "  print(f'{num1} pode ser pago apenas com notas de 50 reais.')\n",
        "else:\n",
        "   print(f'{num1} não pode ser pago apenas com notas de 50 reais.')"
      ],
      "metadata": {
        "colab": {
          "base_uri": "https://localhost:8080/"
        },
        "id": "Suq1yuIxEUE1",
        "outputId": "3ddf26fa-9b5f-4952-8b52-5168f05773ea"
      },
      "execution_count": 38,
      "outputs": [
        {
          "output_type": "stream",
          "name": "stdout",
          "text": [
            "Digite um valor em reais: 100\n",
            "100 pode ser pago apenas com notas de 50 reais.\n"
          ]
        }
      ]
    },
    {
      "cell_type": "code",
      "source": [
        "#10 - Solicite um número ao usuário e verifique se ele está no intervalo entre 100 e 200 (inclusive). Informe o resultado.\n",
        "num1 = float(input('Digite um número qualquer: '))\n",
        "if 100 <= num1 <= 200:\n",
        "  print(f'{num1} está entre 100 e 200.')\n",
        "else:\n",
        "  print(f'{num1} não está entre 100 e 200.')"
      ],
      "metadata": {
        "colab": {
          "base_uri": "https://localhost:8080/"
        },
        "id": "_4n4K-AbFmSg",
        "outputId": "43b93da9-ed5d-4669-d72a-887ec10e5c8a"
      },
      "execution_count": 42,
      "outputs": [
        {
          "output_type": "stream",
          "name": "stdout",
          "text": [
            "Digite um número qualquer: 100.1\n",
            "100.1 está entre 100 e 200.\n"
          ]
        }
      ]
    },
    {
      "cell_type": "code",
      "source": [
        "#11 - Peça a altura de uma árvore em metros e informe se ela tem menos de 5 metros de altura.\n",
        "h = float(input('Digite a altura de uma árvore em metros: '))\n",
        "if h < 5:\n",
        "  print('Sua árvore é menor que 5 metros.')\n",
        "else:\n",
        "  print('Sua árvore é maior ou igual que 5 metros.')"
      ],
      "metadata": {
        "colab": {
          "base_uri": "https://localhost:8080/"
        },
        "id": "IdQ-gNN8GKEh",
        "outputId": "9c2e1953-2fbf-4c53-884b-8b96f01df33a"
      },
      "execution_count": 48,
      "outputs": [
        {
          "output_type": "stream",
          "name": "stdout",
          "text": [
            "Digite a altura de uma árvore em metros: 4\n",
            "Sua árvore é menor que 5 metros.\n"
          ]
        }
      ]
    },
    {
      "cell_type": "code",
      "source": [
        "#12 - Solicite a temperatura de um líquido em graus Celsius e informe seu estado físico: \"congelado\" (≤0°C), \"líquido\" (0°C a 100°C) ou \"ebulição\" (>100°C).\n",
        "temp = float(input(''))"
      ],
      "metadata": {
        "id": "-1U7QoBpLY66"
      },
      "execution_count": null,
      "outputs": []
    }
  ]
}