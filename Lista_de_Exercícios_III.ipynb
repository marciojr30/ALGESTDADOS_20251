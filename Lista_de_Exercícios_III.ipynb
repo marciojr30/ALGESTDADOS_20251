{
  "nbformat": 4,
  "nbformat_minor": 0,
  "metadata": {
    "colab": {
      "provenance": [],
      "include_colab_link": true
    },
    "kernelspec": {
      "name": "python3",
      "display_name": "Python 3"
    },
    "language_info": {
      "name": "python"
    }
  },
  "cells": [
    {
      "cell_type": "markdown",
      "metadata": {
        "id": "view-in-github",
        "colab_type": "text"
      },
      "source": [
        "<a href=\"https://colab.research.google.com/github/marciojr30/ALGESTDADOS_20251/blob/main/Lista_de_Exerc%C3%ADcios_III.ipynb\" target=\"_parent\"><img src=\"https://colab.research.google.com/assets/colab-badge.svg\" alt=\"Open In Colab\"/></a>"
      ]
    },
    {
      "cell_type": "markdown",
      "source": [
        "Alunos: Jesse Jarvin Gruenewald Nucum, Márcio Alves Nascimento Júnior -\n",
        "\n",
        "*   Item da lista\n",
        "*   Item da lista\n",
        "\n",
        "Curso: Engenharia civil - 1° período"
      ],
      "metadata": {
        "id": "5_IlP8C4Xhcu"
      }
    },
    {
      "cell_type": "code",
      "execution_count": null,
      "metadata": {
        "id": "u12SwPQEXDUh",
        "colab": {
          "base_uri": "https://localhost:8080/"
        },
        "outputId": "29595241-b54b-44bc-959a-918da6b57da7"
      },
      "outputs": [
        {
          "output_type": "stream",
          "name": "stdout",
          "text": [
            "Digite o 1º número: 9\n",
            "Digite o 2º número: 8\n",
            "Digite o 3º número: 7\n",
            "Digite o 4º número: 6\n",
            "Digite o 5º número: 5\n",
            "Digite o 6º número: 4\n",
            "Digite o 7º número: 3\n",
            "Digite o 8º número: 2\n",
            "Digite o 9º número: 1\n",
            "Digite o 10º número: 1\n",
            "Digite o 11º número: 2\n",
            "Digite o 12º número: 3\n",
            "Digite o 13º número: 4\n",
            "Digite o 14º número: 5\n",
            "Digite o 15º número: 6\n",
            "[9, 8, 7, 6, 5, 4, 3, 2, 1]\n"
          ]
        }
      ],
      "source": [
        "#1 - Crie uma lista com 15 números inteiros digitados pelo usuário. Em seguida, remova todos os números repetidos, mantendo a ordem original.\n",
        "lista = []\n",
        "diferentes = []\n",
        "for i in range(15):\n",
        "  num = int(input(f'Digite o {i+1}º número: '))\n",
        "  lista.append(num)\n",
        "for numero in lista:\n",
        "  if numero not in diferentes:\n",
        "    diferentes.append(numero)\n",
        "print(diferentes)"
      ]
    },
    {
      "cell_type": "code",
      "source": [
        "#2 - Escreva um programa que leia 10 nomes e 10 idades. Armazene os nomes em uma lista e as idades em outra. Em seguida, exiba o nome da pessoa mais velha.\n",
        "nomes = ['Rossi', 'Wesley', 'Leo Ortiz', 'Leo Pereira', 'Alex Sandro', 'Pulgar', 'Gerson', 'Arrascaeta', 'Luiz Araújo', 'Pedro Queixada']\n",
        "idades = [29,21,29,29,34,31,28,31,29,27]\n",
        "maior_idade = (max(idades))\n",
        "posicao = idades.index(max(idades))\n",
        "print(f'O jogador mais velho é o {nomes[posicao]} e sua idade é de {maior_idade} anos.')"
      ],
      "metadata": {
        "id": "7UEO9syVX_3T",
        "colab": {
          "base_uri": "https://localhost:8080/"
        },
        "outputId": "400863cd-c90b-4869-ad2b-656aed217925"
      },
      "execution_count": null,
      "outputs": [
        {
          "output_type": "stream",
          "name": "stdout",
          "text": [
            "O jogador mais velho é o Alex Sandro e sua idade é de 34 anos.\n"
          ]
        }
      ]
    },
    {
      "cell_type": "code",
      "source": [
        "#3 - Faça um programa que leia uma lista de 10 números e divida todos os valores ímpares por 3 e os pares por 2, substituindo os valores originais.\n",
        "lista = [1,2,3,4,5,6,7,8,9,10]\n",
        "for indice, valor in enumerate(lista):\n",
        "  if valor%2 == 0:\n",
        "    lista[indice] = valor/2\n",
        "  else:\n",
        "    lista[indice] = valor/3\n",
        "print(lista)"
      ],
      "metadata": {
        "id": "BTvsXmJnYSPf",
        "colab": {
          "base_uri": "https://localhost:8080/"
        },
        "outputId": "392d0777-c46c-4687-9dbc-b8e8e992951e"
      },
      "execution_count": null,
      "outputs": [
        {
          "output_type": "stream",
          "name": "stdout",
          "text": [
            "[0.3333333333333333, 1.0, 1.0, 2.0, 1.6666666666666667, 3.0, 2.3333333333333335, 4.0, 3.0, 5.0]\n"
          ]
        }
      ]
    },
    {
      "cell_type": "code",
      "source": [
        "#4 - Solicite ao usuário uma frase. Armazene em uma lista cada palavra que começa com uma vogal. Exiba a lista resultante.\n",
        "vogais = ['a','á','à','e','é','ê','i','í','o','ó','u','ú']\n",
        "palavras_vogal = []\n",
        "frase = (input('Digite uma frase qualquer: ')).lower()\n",
        "lista = frase.split()\n",
        "for palavras in lista:\n",
        "  if list(palavras)[0] in vogais:\n",
        "    palavras_vogal.append(palavras)\n",
        "print(palavras_vogal)"
      ],
      "metadata": {
        "id": "ZOHMVyMdYV9K",
        "colab": {
          "base_uri": "https://localhost:8080/"
        },
        "outputId": "156909ba-fa73-4c2f-d0f7-68193698e0f0"
      },
      "execution_count": null,
      "outputs": [
        {
          "output_type": "stream",
          "name": "stdout",
          "text": [
            "Digite uma frase qualquer: O Flamengo é incrível\n",
            "['o', 'é', 'incrível']\n"
          ]
        }
      ]
    },
    {
      "cell_type": "code",
      "source": [
        "#5 - Leia 10 números inteiros e armazene-os em uma lista. Em seguida, crie uma segunda lista apenas com os números primos da primeira.\n",
        "lista = [1,2,3,4,5,6,7,11,23,111]\n",
        "primos = []\n",
        "for num in lista:\n",
        "    divisoes = 0\n",
        "    for i in range(1,num+1):\n",
        "      if num%i == 0:\n",
        "        divisoes += 1\n",
        "    if divisoes <= 2:\n",
        "      primos.append(num)\n",
        "print(f'Os números primos são: {primos}')"
      ],
      "metadata": {
        "id": "23beO04dYZ6I",
        "colab": {
          "base_uri": "https://localhost:8080/"
        },
        "outputId": "837ccf87-9389-475f-b31d-b1bb4ab6806e"
      },
      "execution_count": null,
      "outputs": [
        {
          "output_type": "stream",
          "name": "stdout",
          "text": [
            "Os números primos são: [1, 2, 3, 5, 7, 11, 23]\n"
          ]
        }
      ]
    },
    {
      "cell_type": "code",
      "source": [
        "#6 - Escreva um programa que leia uma lista de 8 elementos e verifique se ela é palíndroma (lê-se igual de trás para frente).\n",
        "lista = [1,2,3,4,4,3,2,1]\n",
        "if lista == lista[::-1]:\n",
        "  print('Esta lista é palíndroma.')\n",
        "else:\n",
        "  print('Esta lista NÃO é palíndroma.')"
      ],
      "metadata": {
        "id": "LUiiX-SmYd32",
        "colab": {
          "base_uri": "https://localhost:8080/"
        },
        "outputId": "b4959121-d603-49e8-b4c0-8a337e8bf986"
      },
      "execution_count": null,
      "outputs": [
        {
          "output_type": "stream",
          "name": "stdout",
          "text": [
            "Esta lista é palíndroma.\n"
          ]
        }
      ]
    },
    {
      "cell_type": "code",
      "source": [
        "#7 - Crie duas listas com 10 números inteiros aleatórios entre 1 e 100. Gere uma terceira lista contendo apenas os elementos que estão presentes em ambas (interseção).\n",
        "import random\n",
        "lista1 = []\n",
        "lista2 = []\n",
        "lista3 = []\n",
        "for i in range(10):\n",
        "  lista1.append(random.randint(1,100))\n",
        "  lista2.append(random.randint(1,100))\n",
        "print(f'Lista 1: {lista1}')\n",
        "print(f'Lista 2: {lista2}')\n",
        "for num in lista1:\n",
        "  if num in lista2:\n",
        "    lista3.append(num)\n",
        "    print(f'Lista 3 (interseção): {lista3}')"
      ],
      "metadata": {
        "id": "bYvBVmILYgaY",
        "colab": {
          "base_uri": "https://localhost:8080/"
        },
        "outputId": "6909d4d2-366d-495b-e6d6-09b62edcac20"
      },
      "execution_count": null,
      "outputs": [
        {
          "output_type": "stream",
          "name": "stdout",
          "text": [
            "Lista 1: [63, 36, 29, 29, 76, 73, 86, 35, 13, 43]\n",
            "Lista 2: [15, 26, 73, 37, 53, 57, 65, 24, 85, 10]\n",
            "Lista 3 (interseção): [73]\n"
          ]
        }
      ]
    },
    {
      "cell_type": "code",
      "source": [
        "#8 - Faça um programa que simule o sorteio de 6 números da Mega-Sena (entre 1 e 60) sem repetição. Armazene em uma lista e exiba.\n",
        "import random\n",
        "sorteio = []\n",
        "while len(sorteio) < 6:\n",
        "  num = random.randint(1,60)\n",
        "  if num not in sorteio:\n",
        "    sorteio.append(num)\n",
        "print(sorteio)"
      ],
      "metadata": {
        "id": "u84jKAG5YjaZ",
        "colab": {
          "base_uri": "https://localhost:8080/"
        },
        "outputId": "8459d7e0-b58c-4326-dc9c-12e69053612a"
      },
      "execution_count": null,
      "outputs": [
        {
          "output_type": "stream",
          "name": "stdout",
          "text": [
            "[39, 12, 9, 2, 34, 32]\n"
          ]
        }
      ]
    },
    {
      "cell_type": "code",
      "source": [
        "#9 - Solicite ao usuário uma lista de 10 números. Crie uma nova lista onde cada elemento é o somatório de todos os elementos anteriores da lista original.\n",
        "lista_user = []\n",
        "lista_somas = []\n",
        "somas = 0\n",
        "for i in range(10):\n",
        "  num = int(input(f'Digite o {i+1}º número da lista: '))\n",
        "  lista_user.append(num)\n",
        "print(lista_user)\n",
        "for numeros in lista_user:\n",
        "  somas += numeros\n",
        "  lista_somas.append(somas)\n",
        "print(lista_somas)"
      ],
      "metadata": {
        "id": "X4yh2UixYm8x",
        "colab": {
          "base_uri": "https://localhost:8080/"
        },
        "outputId": "e2be8ae7-f824-4350-a730-7327c5dbb5e9"
      },
      "execution_count": null,
      "outputs": [
        {
          "output_type": "stream",
          "name": "stdout",
          "text": [
            "Digite o 1º número da lista: 1\n",
            "Digite o 2º número da lista: 2\n",
            "Digite o 3º número da lista: 3\n",
            "Digite o 4º número da lista: 4\n",
            "Digite o 5º número da lista: 5\n",
            "Digite o 6º número da lista: 6\n",
            "Digite o 7º número da lista: 7\n",
            "Digite o 8º número da lista: 8\n",
            "Digite o 9º número da lista: 9\n",
            "Digite o 10º número da lista: 10\n",
            "[1, 2, 3, 4, 5, 6, 7, 8, 9, 10]\n",
            "[1, 3, 6, 10, 15, 21, 28, 36, 45, 55]\n"
          ]
        }
      ]
    },
    {
      "cell_type": "code",
      "source": [
        "#10 - Implemente uma lista de nomes e remova todos que tenham mais de 10 caracteres.\n",
        "lista = ['Kvaratskhelia', 'Dembélé','Doué']\n",
        "lista1 = []\n",
        "for nomes in lista:\n",
        "  print(nomes)\n",
        "  if len(nomes) < 10:\n",
        "    lista1.append(nomes)\n",
        "print(lista1)"
      ],
      "metadata": {
        "id": "ZqLltN7OYp4b",
        "colab": {
          "base_uri": "https://localhost:8080/"
        },
        "outputId": "813d7489-bcfa-40e7-ac9c-74d9b4c5507f"
      },
      "execution_count": null,
      "outputs": [
        {
          "output_type": "stream",
          "name": "stdout",
          "text": [
            "Kvaratskhelia\n",
            "Dembélé\n",
            "Doué\n",
            "['Dembélé', 'Doué']\n"
          ]
        }
      ]
    },
    {
      "cell_type": "code",
      "source": [
        "#11 - Crie uma matriz 4x4 com valores fornecidos pelo usuário. Exiba a soma dos elementos da diagonal secundária.\n",
        "def imprime_matriz(matriz,x,y):\n",
        "  for i in range(x):\n",
        "    for j in range(y):\n",
        "      print(matriz[i][j],end = ' ')\n",
        "    print()\n",
        "  print()\n",
        "matriz = []\n",
        "for i in range(4):\n",
        "  linha = []\n",
        "  for j in range(4):\n",
        "    num = int(input(f'Elemento [{i}][{j}] da matriz: '))\n",
        "    linha.append(num)\n",
        "  matriz.append(linha)\n",
        "imprime_matriz(matriz,4,4)\n",
        "soma = matriz[0][3] + matriz[1][2] + matriz[2][1] + matriz[3][0]\n",
        "print(f'A soma da diagonal secundária é: {soma}')"
      ],
      "metadata": {
        "id": "HTlGum1CYr_B",
        "colab": {
          "base_uri": "https://localhost:8080/"
        },
        "outputId": "2cea1d55-6d22-4a37-bc9d-aebd819e70cb"
      },
      "execution_count": null,
      "outputs": [
        {
          "output_type": "stream",
          "name": "stdout",
          "text": [
            "Elemento [0][0] da matriz: 1\n",
            "Elemento [0][1] da matriz: 2\n",
            "Elemento [0][2] da matriz: 3\n",
            "Elemento [0][3] da matriz: 4\n",
            "Elemento [1][0] da matriz: 1\n",
            "Elemento [1][1] da matriz: 2\n",
            "Elemento [1][2] da matriz: 3\n",
            "Elemento [1][3] da matriz: 4\n",
            "Elemento [2][0] da matriz: 1\n",
            "Elemento [2][1] da matriz: 2\n",
            "Elemento [2][2] da matriz: 3\n",
            "Elemento [2][3] da matriz: 4\n",
            "Elemento [3][0] da matriz: 1\n",
            "Elemento [3][1] da matriz: 2\n",
            "Elemento [3][2] da matriz: 3\n",
            "Elemento [3][3] da matriz: 4\n",
            "1 2 3 4 \n",
            "1 2 3 4 \n",
            "1 2 3 4 \n",
            "1 2 3 4 \n",
            "\n",
            "A soma da diagonal secundária é: 10\n"
          ]
        }
      ]
    },
    {
      "cell_type": "code",
      "source": [
        "#12 - Gere uma matriz 5x5 com números aleatórios entre 1 e 99. Em seguida, calcule a média dos elementos de cada linha e armazene os resultados em uma nova lista.\n",
        "def imprime_matriz(matriz,x,y):\n",
        "  for i in range(x):\n",
        "    for j in range(y):\n",
        "      print(matriz[i][j],end=' ')\n",
        "    print()\n",
        "  print()\n",
        "matriz = []\n",
        "for i in range(5):\n",
        "  linha = []\n",
        "  for j in range(5):\n",
        "    linha.append(random.randint(0,99))\n",
        "  matriz.append(linha)\n",
        "imprime_matriz(matriz,5,5)\n",
        "lista = []\n",
        "for linha in matriz:\n",
        "  media = sum(linha)/len(linha)\n",
        "  lista.append(media)\n",
        "print(f'As médias de cada linha estão na lista: {lista}')"
      ],
      "metadata": {
        "id": "s3chmV_qYyn9",
        "colab": {
          "base_uri": "https://localhost:8080/"
        },
        "outputId": "d38dbb32-a309-4059-ec34-0969d79f29a7"
      },
      "execution_count": null,
      "outputs": [
        {
          "output_type": "stream",
          "name": "stdout",
          "text": [
            "45 52 4 53 26 \n",
            "81 34 67 39 83 \n",
            "13 24 92 53 48 \n",
            "8 66 1 52 41 \n",
            "37 31 29 1 59 \n",
            "\n",
            "As médias de cada linha estão na lista: [36.0, 60.8, 46.0, 33.6, 31.4]\n"
          ]
        }
      ]
    },
    {
      "cell_type": "code",
      "source": [
        "#13 - Solicite uma matriz 3x3 preenchida pelo usuário. Verifique se ela é uma matriz identidade.\n",
        "def imprime_matriz(matriz,x,y):\n",
        "  for i in range(x):\n",
        "    for j in range(y):\n",
        "      print(matriz[i][j],end = ' ')\n",
        "    print()\n",
        "  print()\n",
        "matriz = []\n",
        "for i in range(3):\n",
        "  linha = []\n",
        "  for j in range(3):\n",
        "    num = int(input(f'Elemento [{i}][{j}] da matriz: '))\n",
        "    linha.append(num)\n",
        "  matriz.append(linha)\n",
        "imprime_matriz(matriz,3,3)\n",
        "erros = 0\n",
        "for i in range(3):\n",
        "  for j in range(3):\n",
        "    if i == j and matriz[i][j] != 1:\n",
        "      erros += 1\n",
        "    if i != j and matriz[i][j] != 0:\n",
        "      erros += 1\n",
        "if erros == 0:\n",
        "  print('É uma matriz identidade.')\n",
        "else:\n",
        "  print('NÃO é uma matriz identidade.')"
      ],
      "metadata": {
        "id": "IXatc7hhY2aG",
        "colab": {
          "base_uri": "https://localhost:8080/"
        },
        "outputId": "9a0100dd-1553-4e63-eca9-d01649943246"
      },
      "execution_count": null,
      "outputs": [
        {
          "output_type": "stream",
          "name": "stdout",
          "text": [
            "Elemento [0][0] da matriz: 1\n",
            "Elemento [0][1] da matriz: 0\n",
            "Elemento [0][2] da matriz: 0\n",
            "Elemento [1][0] da matriz: 0\n",
            "Elemento [1][1] da matriz: 1\n",
            "Elemento [1][2] da matriz: 0\n",
            "Elemento [2][0] da matriz: 0\n",
            "Elemento [2][1] da matriz: 0\n",
            "Elemento [2][2] da matriz: 1\n",
            "1 0 0 \n",
            "0 1 0 \n",
            "0 0 1 \n",
            "\n",
            "É uma matriz identidade.\n"
          ]
        }
      ]
    },
    {
      "cell_type": "code",
      "source": [
        "#14 - Faça um programa que leia uma matriz 3x3 e verifique se ela é simétrica (igual à sua transposta).\n",
        "def imprime_matriz(matriz,x,y):\n",
        "  for i in range(x):\n",
        "    for j in range(y):\n",
        "      print(matriz[i][j],end = ' ')\n",
        "    print()\n",
        "  print()\n",
        "matriz = []\n",
        "for i in range(3):\n",
        "  linha = []\n",
        "  for j in range(3):\n",
        "    num = int(input(f'Elemento [{i}][{j}] da matriz: '))\n",
        "    linha.append(num)\n",
        "  matriz.append(linha)\n",
        "imprime_matriz(matriz,3,3)\n",
        "print('Transposta:')\n",
        "for i in range(3):\n",
        "  for j in range(3):\n",
        "    print(matriz[j][i],end=' ')\n",
        "  print()\n",
        "erros = 0\n",
        "for i in range(3):\n",
        "  for j in range(3):\n",
        "    if matriz[i][j] != matriz[j][i]:\n",
        "      erros += 1\n",
        "if erros == 0:\n",
        "  print('Matriz simétrica!')\n",
        "else:\n",
        "  print('Matriz ASSIMÉTRICA!')"
      ],
      "metadata": {
        "id": "SlBFpxTDY5NJ",
        "colab": {
          "base_uri": "https://localhost:8080/"
        },
        "outputId": "cb9a457c-33fe-479e-9495-4db416c082d7"
      },
      "execution_count": null,
      "outputs": [
        {
          "output_type": "stream",
          "name": "stdout",
          "text": [
            "Elemento [0][0] da matriz: 1\n",
            "Elemento [0][1] da matriz: 1\n",
            "Elemento [0][2] da matriz: 1\n",
            "Elemento [1][0] da matriz: 1\n",
            "Elemento [1][1] da matriz: 1\n",
            "Elemento [1][2] da matriz: 1\n",
            "Elemento [2][0] da matriz: 1\n",
            "Elemento [2][1] da matriz: 1\n",
            "Elemento [2][2] da matriz: 1\n",
            "1 1 1 \n",
            "1 1 1 \n",
            "1 1 1 \n",
            "\n",
            "Transposta:\n",
            "1 1 1 \n",
            "1 1 1 \n",
            "1 1 1 \n",
            "Matriz simétrica!\n"
          ]
        }
      ]
    },
    {
      "cell_type": "code",
      "source": [
        "#15 - Crie uma matriz 5x3 onde cada elemento é igual ao produto de sua linha pelo valor da coluna. Exiba a matriz completa.\n",
        "def imprime_matriz(matriz,x,y):\n",
        "  for i in range(x):\n",
        "    for j in range(y):\n",
        "      print(matriz[i][j],end = ' ')\n",
        "    print()\n",
        "  print()\n",
        "matriz = []\n",
        "for i in range(5):\n",
        "  linha = []\n",
        "  for j in range(3):\n",
        "    num = i*j\n",
        "    linha.append(num)\n",
        "  matriz.append(linha)\n",
        "imprime_matriz(matriz,5,3)"
      ],
      "metadata": {
        "id": "u7O_J1ZMY7bS",
        "colab": {
          "base_uri": "https://localhost:8080/"
        },
        "outputId": "d0484d19-d2cf-42a1-87e4-128c14477404"
      },
      "execution_count": null,
      "outputs": [
        {
          "output_type": "stream",
          "name": "stdout",
          "text": [
            "0 0 0 \n",
            "0 1 2 \n",
            "0 2 4 \n",
            "0 3 6 \n",
            "0 4 8 \n",
            "\n"
          ]
        }
      ]
    },
    {
      "cell_type": "code",
      "source": [
        "#16 - Crie uma matriz 4x4 com números fornecidos pelo usuário. Encontre o menor valor de cada coluna e armazene em uma lista separada.\n",
        "\n",
        "matriz = []\n",
        "lista = []\n",
        "for i in range(4):\n",
        "    linha = []\n",
        "    for j in range(4):\n",
        "        valor = int(input(f\"Digite o valor para a posição ({i}, {j}): \"))\n",
        "        linha.append(valor)\n",
        "    matriz.append(linha)\n",
        "for i in range(4):\n",
        "  for j in range(4):\n",
        "    print(matriz[i][j],end=' ')\n",
        "  print()\n",
        "\n",
        "for j in range(4):\n",
        "    menor = matriz[0][j]\n",
        "    for i in range(1, 4):\n",
        "        if matriz[i][j] < menor:\n",
        "            menor = matriz[i][j]\n",
        "    lista.append(menor)\n",
        "\n",
        "print(lista)"
      ],
      "metadata": {
        "id": "CdlyEF6SY_Wj",
        "colab": {
          "base_uri": "https://localhost:8080/"
        },
        "outputId": "5c4f81dd-0ed8-41ea-ec29-2e1c97f52210"
      },
      "execution_count": null,
      "outputs": [
        {
          "output_type": "stream",
          "name": "stdout",
          "text": [
            "Digite o valor para a posição (0, 0): 1\n",
            "Digite o valor para a posição (0, 1): 2\n",
            "Digite o valor para a posição (0, 2): 3\n",
            "Digite o valor para a posição (0, 3): 4\n",
            "Digite o valor para a posição (1, 0): 5\n",
            "Digite o valor para a posição (1, 1): 5\n",
            "Digite o valor para a posição (1, 2): 5\n",
            "Digite o valor para a posição (1, 3): 5\n",
            "Digite o valor para a posição (2, 0): 5\n",
            "Digite o valor para a posição (2, 1): 5\n",
            "Digite o valor para a posição (2, 2): 5\n",
            "Digite o valor para a posição (2, 3): 5\n",
            "Digite o valor para a posição (3, 0): 5\n",
            "Digite o valor para a posição (3, 1): 5\n",
            "Digite o valor para a posição (3, 2): 5\n",
            "Digite o valor para a posição (3, 3): 5\n",
            "1 2 3 4 \n",
            "5 5 5 5 \n",
            "5 5 5 5 \n",
            "5 5 5 5 \n",
            "[1, 2, 3, 4]\n"
          ]
        }
      ]
    },
    {
      "cell_type": "code",
      "source": [
        "#17 - Dada uma matriz 3x3 com valores reais, calcule o determinante (sem usar bibliotecas externas).\n",
        "\n",
        "matriz = []\n",
        "for i in range(3):\n",
        "    linha = []\n",
        "    for j in range(3):\n",
        "        valor = float(input(f\"Digite o valor para a posição ({i}, {j}): \"))\n",
        "        linha.append(valor)\n",
        "    matriz.append(linha)\n",
        "for i in range(3):\n",
        "  for j in range(3):\n",
        "    print(matriz[i][j],end=' ')\n",
        "  print()\n",
        "\n",
        "det1 = matriz[0][0] * matriz[1][1] * matriz[2][2]\n",
        "det2 = matriz[0][1] * matriz[1][2] * matriz[2][0]\n",
        "det3 = matriz[0][2] * matriz[1][0] * matriz[2][1]\n",
        "det4 = matriz[0][2] * matriz[1][1] * matriz[2][0]\n",
        "det5 = matriz[0][1] * matriz[1][0] * matriz[2][2]\n",
        "det6 = matriz[0][0] * matriz[1][2] * matriz[2][1]\n",
        "\n",
        "det_reseltado = (det1 + det2 + det3) - (det4 + det5 + det6)\n",
        "\n",
        "print(det_reseltado)"
      ],
      "metadata": {
        "id": "B0Ul0TL0ZDq5",
        "colab": {
          "base_uri": "https://localhost:8080/"
        },
        "outputId": "02563727-a2f5-4704-f988-d0312ad3d140"
      },
      "execution_count": null,
      "outputs": [
        {
          "output_type": "stream",
          "name": "stdout",
          "text": [
            "Digite o valor para a posição (0, 0): 1\n",
            "Digite o valor para a posição (0, 1): 2\n",
            "Digite o valor para a posição (0, 2): 3\n",
            "Digite o valor para a posição (1, 0): 3\n",
            "Digite o valor para a posição (1, 1): 2\n",
            "Digite o valor para a posição (1, 2): 1\n",
            "Digite o valor para a posição (2, 0): 1\n",
            "Digite o valor para a posição (2, 1): 1\n",
            "Digite o valor para a posição (2, 2): 1\n",
            "1.0 2.0 3.0 \n",
            "3.0 2.0 1.0 \n",
            "1.0 1.0 1.0 \n",
            "0.0\n"
          ]
        }
      ]
    },
    {
      "cell_type": "code",
      "source": [
        "#18 - Faça um programa que leia duas matrizes 3x3 e calcule a matriz soma e a matriz diferença.\n",
        "\n",
        "matriz1 = []\n",
        "for i in range(3):\n",
        "  linha = []\n",
        "  for j in range(3):\n",
        "    valor = int(input(f'Digite um valor para ({i},{j})'))\n",
        "    linha.append(valor)\n",
        "  matriz1.append(linha)\n",
        "print('Matriz 1')\n",
        "for i in range(3):\n",
        "  for j in range(3):\n",
        "    print(matriz1[i][j],end=' ')\n",
        "  print()\n",
        "\n",
        "matriz2 = []\n",
        "for i in range(3):\n",
        "  lista = []\n",
        "  for j in range(3):\n",
        "    valor = int(input(f'Digite um valor para ({i},{j})'))\n",
        "    lista.append(valor)\n",
        "  matriz2.append(lista)\n",
        "print('Matriz 2')\n",
        "for i in range(3):\n",
        "  for j in range(3):\n",
        "    print(matriz2[i][j],end=' ')\n",
        "  print()"
      ],
      "metadata": {
        "id": "qjbkJQELZG2e",
        "colab": {
          "base_uri": "https://localhost:8080/"
        },
        "outputId": "0d50c502-2ad9-4ce3-a908-dc21ab406d00"
      },
      "execution_count": null,
      "outputs": [
        {
          "output_type": "stream",
          "name": "stdout",
          "text": [
            "Digite um valor para (0,0)1\n",
            "Digite um valor para (0,1)2\n",
            "Digite um valor para (0,2)3\n",
            "Digite um valor para (1,0)4\n",
            "Digite um valor para (1,1)5\n",
            "Digite um valor para (1,2)6\n",
            "Digite um valor para (2,0)7\n",
            "Digite um valor para (2,1)8\n",
            "Digite um valor para (2,2)9\n",
            "Matriz 1\n",
            "1 2 3 \n",
            "4 5 6 \n",
            "7 8 9 \n",
            "Digite um valor para (0,0)9\n",
            "Digite um valor para (0,1)8\n",
            "Digite um valor para (0,2)7\n",
            "Digite um valor para (1,0)6\n",
            "Digite um valor para (1,1)5\n",
            "Digite um valor para (1,2)4\n",
            "Digite um valor para (2,0)3\n",
            "Digite um valor para (2,1)2\n",
            "Digite um valor para (2,2)1\n",
            "Matriz 2\n",
            "9 8 7 \n",
            "6 5 4 \n",
            "3 2 1 \n"
          ]
        }
      ]
    },
    {
      "cell_type": "code",
      "source": [
        "#19 - Solicite dois conjuntos de 10 elementos fornecidos pelo usuário. Mostre a interseção, união e diferença (A - B e B - A).\n",
        "\n",
        "conjunto1 = set()\n",
        "conjunto2 = set()\n",
        "for i in range(10):\n",
        "  valor = int(input(f'Digite um valor para o conjunto 1: '))\n",
        "  conjunto1.add(valor)\n",
        "for i in range(10):\n",
        "  valor = int(input(f'Digite um valor para o conjunto 2: '))\n",
        "  conjunto2.add(valor)\n",
        "print(\"conjunto 1\")\n",
        "print(conjunto1)\n",
        "print(\"conjunto 2\")\n",
        "print(conjunto2)\n",
        "\n",
        "intersecao = conjunto1.intersection(conjunto2)\n",
        "print(f'intersecao: {intersecao}')\n",
        "\n",
        "uniao = conjunto1.union(conjunto2)\n",
        "print(f'uniao: {uniao}')\n",
        "\n",
        "diferenca1 = conjunto1.difference(conjunto2)\n",
        "print(f'conjunto 1 - conjunto 2: {diferenca1}')\n",
        "\n",
        "diferenca2 = conjunto2.difference(conjunto1)\n",
        "print(f'conjunto 2 - conjunto 1: {diferenca2}')"
      ],
      "metadata": {
        "id": "C5umQbOTZKLH",
        "colab": {
          "base_uri": "https://localhost:8080/"
        },
        "outputId": "7f0246c7-12fc-474e-a40a-f5a13263a20e"
      },
      "execution_count": null,
      "outputs": [
        {
          "output_type": "stream",
          "name": "stdout",
          "text": [
            "Digite um valor para o conjunto 1: 1\n",
            "Digite um valor para o conjunto 1: 2\n",
            "Digite um valor para o conjunto 1: 3\n",
            "Digite um valor para o conjunto 1: 4\n",
            "Digite um valor para o conjunto 1: 5\n",
            "Digite um valor para o conjunto 1: 6\n",
            "Digite um valor para o conjunto 1: 7\n",
            "Digite um valor para o conjunto 1: 8\n",
            "Digite um valor para o conjunto 1: 9\n",
            "Digite um valor para o conjunto 1: 10\n",
            "Digite um valor para o conjunto 2: 55\n",
            "Digite um valor para o conjunto 2: 44\n",
            "Digite um valor para o conjunto 2: 11\n",
            "Digite um valor para o conjunto 2: 20\n",
            "Digite um valor para o conjunto 2: 7\n",
            "Digite um valor para o conjunto 2: 8\n",
            "Digite um valor para o conjunto 2: 1\n",
            "Digite um valor para o conjunto 2: 3\n",
            "Digite um valor para o conjunto 2: 6\n",
            "Digite um valor para o conjunto 2: 64\n",
            "conjunto 1\n",
            "{1, 2, 3, 4, 5, 6, 7, 8, 9, 10}\n",
            "conjunto 2\n",
            "{64, 1, 3, 6, 7, 8, 11, 44, 20, 55}\n",
            "intersecao: {1, 3, 6, 7, 8}\n",
            "uniao: {64, 1, 2, 3, 4, 5, 6, 7, 8, 9, 10, 11, 20, 44, 55}\n",
            "conjunto 1 - conjunto 2: {2, 4, 5, 9, 10}\n",
            "conjunto 2 - conjunto 1: {64, 11, 44, 20, 55}\n"
          ]
        }
      ]
    },
    {
      "cell_type": "code",
      "source": [
        "#20 - Crie um conjunto com todas as letras usadas em uma frase digitada pelo usuário, excluindo espaços e pontuação.\n",
        "\n",
        "frase = input('Digite uma frase: ')\n",
        "conjunto = set()\n",
        "for letra in frase:\n",
        "  if letra.isalpha():\n",
        "    conjunto.add(letra)\n",
        "print(conjunto)"
      ],
      "metadata": {
        "id": "ECoOVSTmZMtP",
        "colab": {
          "base_uri": "https://localhost:8080/"
        },
        "outputId": "aafce607-70f9-4368-969a-2c9aca9f534e"
      },
      "execution_count": null,
      "outputs": [
        {
          "output_type": "stream",
          "name": "stdout",
          "text": [
            "Digite uma frase: Uma vez Flamengo, sempre Flamengo!\n",
            "{'l', 'v', 'p', 'z', 'U', 'm', 'n', 'F', 'e', 'a', 'g', 's', 'r', 'o'}\n"
          ]
        }
      ]
    },
    {
      "cell_type": "code",
      "source": [
        "#21 - Escreva um programa que armazene em um conjunto todos os números entre 1 e 100 que não são múltiplos de 2 nem de 3.\n",
        "\n",
        "conjunto = set()\n",
        "for i in range(1,101):\n",
        "  if i%2 != 0 and i%3 != 0:\n",
        "    conjunto.add(i)\n",
        "print(conjunto)"
      ],
      "metadata": {
        "id": "Lbmt85htZPS1",
        "colab": {
          "base_uri": "https://localhost:8080/"
        },
        "outputId": "905d76a0-1114-43d6-c55d-55bb8eecc0dc"
      },
      "execution_count": null,
      "outputs": [
        {
          "output_type": "stream",
          "name": "stdout",
          "text": [
            "{1, 5, 7, 11, 13, 17, 19, 23, 25, 29, 31, 35, 37, 41, 43, 47, 49, 53, 55, 59, 61, 65, 67, 71, 73, 77, 79, 83, 85, 89, 91, 95, 97}\n"
          ]
        }
      ]
    },
    {
      "cell_type": "code",
      "source": [
        "#22 - Solicite ao usuário que digite 10 palavras. Armazene em um conjunto todas as palavras distintas com mais de 5 letras.\n",
        "\n",
        "conjunto = set()\n",
        "for i in range(10):\n",
        "  palavra = input('Digite uma palavra: ')\n",
        "  if len(palavra) > 5:\n",
        "    conjunto.add(palavra)\n",
        "print(conjunto)"
      ],
      "metadata": {
        "id": "vmjeCNfPZR1J",
        "colab": {
          "base_uri": "https://localhost:8080/"
        },
        "outputId": "64fc35b4-441b-4a03-f259-2595dd4c5adc"
      },
      "execution_count": null,
      "outputs": [
        {
          "output_type": "stream",
          "name": "stdout",
          "text": [
            "Digite uma palavra: Uma\n",
            "Digite uma palavra: Vez\n",
            "Digite uma palavra: Flamengo\n",
            "Digite uma palavra: Sempre\n",
            "Digite uma palavra: Flamengo\n",
            "Digite uma palavra: Flamengo\n",
            "Digite uma palavra: sempre\n",
            "Digite uma palavra: eu\n",
            "Digite uma palavra: hei\n",
            "Digite uma palavra: de\n",
            "{'Flamengo', 'Sempre', 'sempre'}\n"
          ]
        }
      ]
    },
    {
      "cell_type": "code",
      "source": [
        "#23 - Leia dois conjuntos de inteiros. Verifique se um é subconjunto do outro.\n",
        "\n",
        "conjunto1 = set()\n",
        "conjunto2 = set()\n",
        "for i in range(10):\n",
        "  valor = int(input(f'Digite um valor para o conjunto 1: '))\n",
        "  conjunto1.add(valor)\n",
        "for i in range(5):\n",
        "  valor = int(input(f'Digite um valor para o conjunto 2: '))\n",
        "  conjunto2.add(valor)\n",
        "if conjunto1.issubset(conjunto2):\n",
        "    print(\"O primeiro conjunto é subconjunto do segundo.\")\n",
        "elif conjunto2.issubset(conjunto1):\n",
        "    print(\"O segundo conjunto é subconjunto do primeiro.\")\n",
        "else:\n",
        "    print(\"Nenhum dos conjuntos é subconjunto do outro.\")"
      ],
      "metadata": {
        "id": "178G7djSZUSQ",
        "colab": {
          "base_uri": "https://localhost:8080/"
        },
        "outputId": "df3db43c-1a6b-4490-a7cc-985553c1ce88"
      },
      "execution_count": null,
      "outputs": [
        {
          "output_type": "stream",
          "name": "stdout",
          "text": [
            "Digite um valor para o conjunto 1: 1\n",
            "Digite um valor para o conjunto 1: 2\n",
            "Digite um valor para o conjunto 1: 3\n",
            "Digite um valor para o conjunto 1: 4\n",
            "Digite um valor para o conjunto 1: 5\n",
            "Digite um valor para o conjunto 1: 6\n",
            "Digite um valor para o conjunto 1: 7\n",
            "Digite um valor para o conjunto 1: 8\n",
            "Digite um valor para o conjunto 1: 9\n",
            "Digite um valor para o conjunto 1: 10\n",
            "Digite um valor para o conjunto 2: 1\n",
            "Digite um valor para o conjunto 2: 4\n",
            "Digite um valor para o conjunto 2: 5\n",
            "Digite um valor para o conjunto 2: 7\n",
            "Digite um valor para o conjunto 2: 8\n",
            "O segundo conjunto é subconjunto do primeiro.\n"
          ]
        }
      ]
    },
    {
      "cell_type": "code",
      "source": [
        "#24 - Dado um conjunto de números inteiros, crie um novo conjunto com apenas os quadrados perfeitos encontrados.\n",
        "\n",
        "conjunto = set()\n",
        "for i in range(5):\n",
        "  valor = int(input(f'Digite um valor para o conjunto: '))\n",
        "  if valor**0.5 == int(valor**0.5):\n",
        "    conjunto.add(valor)\n",
        "print(conjunto)"
      ],
      "metadata": {
        "id": "zkofHovOZXdo",
        "colab": {
          "base_uri": "https://localhost:8080/"
        },
        "outputId": "bc6a19de-4521-4a24-b35b-79722d3eceb0"
      },
      "execution_count": null,
      "outputs": [
        {
          "output_type": "stream",
          "name": "stdout",
          "text": [
            "Digite um valor para o conjunto: 5\n",
            "Digite um valor para o conjunto: 4\n",
            "Digite um valor para o conjunto: 7\n",
            "Digite um valor para o conjunto: 9\n",
            "Digite um valor para o conjunto: 16\n",
            "{16, 9, 4}\n"
          ]
        }
      ]
    },
    {
      "cell_type": "code",
      "source": [
        "#25 - Crie um dicionário que armazene o nome e o salário de 5 funcionários. Calcule o reajuste de 10% para salários inferiores a R$ 2.000 e atualize o dicionário.\n",
        "\n",
        "funcionarios = {}\n",
        "for i in range(5):\n",
        "  nome = input('Digite o nome do funcionário: ')\n",
        "  salario = float(input('Digite o salário do funcionário: '))\n",
        "  funcionarios[nome] = salario\n",
        "for nome, salario in funcionarios.items():\n",
        "  if salario < 2000:\n",
        "    novo_salario = salario * 1.1\n",
        "    funcionarios[nome] = novo_salario\n",
        "print(f\"{funcionarios}: R$ {novo_salario}\")"
      ],
      "metadata": {
        "id": "lZpMH0DXZaIZ",
        "colab": {
          "base_uri": "https://localhost:8080/"
        },
        "outputId": "e76aa946-86b0-4c1c-fbab-510f4016c3ab"
      },
      "execution_count": null,
      "outputs": [
        {
          "output_type": "stream",
          "name": "stdout",
          "text": [
            "Digite o nome do funcionário: Jesse\n",
            "Digite o salário do funcionário: 10000\n",
            "Digite o nome do funcionário: Marlon\n",
            "Digite o salário do funcionário: 1500\n",
            "Digite o nome do funcionário: Marcio\n",
            "Digite o salário do funcionário: 750\n",
            "Digite o nome do funcionário: Gustavo\n",
            "Digite o salário do funcionário: 6500\n",
            "Digite o nome do funcionário: Papai Noel\n",
            "Digite o salário do funcionário: 50\n",
            "{'Jesse': 10000.0, 'Marlon': 1650.0000000000002, 'Marcio': 825.0000000000001, 'Gustavo': 6500.0, 'Papai Noel': 55.00000000000001}: R$ 55.00\n"
          ]
        }
      ]
    },
    {
      "cell_type": "code",
      "source": [
        "#26 - Faça um programa que armazene em um dicionário o nome de 5 alunos e uma lista com suas 3 notas. Depois, exiba o nome e a média de cada aluno.\n",
        "\n",
        "alunos = {}\n",
        "for i in range(5):\n",
        "  nome = input('Digite o nome do aluno: ')\n",
        "  notas = []\n",
        "  for j in range(3):\n",
        "    nota = float(input(f'Digite a nota {j+1} do aluno: '))\n",
        "    notas.append(nota)\n",
        "  alunos[nome] = notas\n",
        "for nome, notas in alunos.items():\n",
        "  media = sum(notas) / len(notas)\n",
        "  print(f\"Aluno: {nome}, Média: {media}\")"
      ],
      "metadata": {
        "id": "A0I3hZhgZdQD",
        "colab": {
          "base_uri": "https://localhost:8080/"
        },
        "outputId": "e91004eb-cc5f-4283-c40a-7f367ee90a8a"
      },
      "execution_count": null,
      "outputs": [
        {
          "output_type": "stream",
          "name": "stdout",
          "text": [
            "Digite o nome do aluno: Jesse\n",
            "Digite a nota 1 do aluno: 10\n",
            "Digite a nota 2 do aluno: 10\n",
            "Digite a nota 3 do aluno: 10\n",
            "Digite o nome do aluno: Marlon\n",
            "Digite a nota 1 do aluno: 10\n",
            "Digite a nota 2 do aluno: 9\n",
            "Digite a nota 3 do aluno: 8\n",
            "Digite o nome do aluno: Márcio\n",
            "Digite a nota 1 do aluno: 7\n",
            "Digite a nota 2 do aluno: 8\n",
            "Digite a nota 3 do aluno: 10\n",
            "Digite o nome do aluno: Rianny\n",
            "Digite a nota 1 do aluno: 8\n",
            "Digite a nota 2 do aluno: 7\n",
            "Digite a nota 3 do aluno: 9\n",
            "Digite o nome do aluno: Moisés\n",
            "Digite a nota 1 do aluno: 7\n",
            "Digite a nota 2 do aluno: 9\n",
            "Digite a nota 3 do aluno: 10\n",
            "Aluno: Jesse, Média: 10.0\n",
            "Aluno: Marlon, Média: 9.0\n",
            "Aluno: Márcio, Média: 8.333333333333334\n",
            "Aluno: Rianny, Média: 8.0\n",
            "Aluno: Moisés, Média: 8.666666666666666\n"
          ]
        }
      ]
    },
    {
      "cell_type": "code",
      "source": [
        "#27 - Crie um dicionário que armazene palavras e seus sinônimos. Depois, permita que o usuário digite uma palavra e veja seus sinônimos (se existirem).\n",
        "\n",
        "sinonimos = {\n",
        "    \"feliz\": [\"contente\", \"alegre\", \"satisfeito\"],\n",
        "    \"triste\": [\"abatido\", \"melancólico\", \"desanimado\"],\n",
        "    \"rápido\": [\"veloz\", \"ágil\", \"ligeiro\"],\n",
        "    \"inteligente\": [\"esperto\", \"sagaz\", \"brilhante\"],\n",
        "    \"flamengo\": [\"melhor\", \"do\", \"mundo\"]\n",
        "}\n",
        "\n",
        "palavra = input(\"Digite uma palavra para ver seus sinônimos: \").lower()\n",
        "\n",
        "if palavra in sinonimos:\n",
        "    print(\"Sinônimos de\", palavra + \":\", \", \".join(sinonimos[palavra]))\n",
        "else:\n",
        "    print(\"Palavra não encontrada no dicionário.\")\n"
      ],
      "metadata": {
        "id": "5tx9bfAAZf25",
        "colab": {
          "base_uri": "https://localhost:8080/"
        },
        "outputId": "eb28b691-0f78-4309-b2d2-b6ac61da4fdd"
      },
      "execution_count": null,
      "outputs": [
        {
          "output_type": "stream",
          "name": "stdout",
          "text": [
            "Digite uma palavra para ver seus sinônimos: flamengo\n",
            "Sinônimos de flamengo: melhor, do, mundo\n"
          ]
        }
      ]
    },
    {
      "cell_type": "code",
      "source": [
        "#28 - Solicite ao usuário 10 palavras e armazene em um dicionário onde a chave é a primeira letra e o valor é uma lista de palavras que começam com essa letra.\n",
        "\n",
        "dicionario = {}\n",
        "for i in range(10):\n",
        "  palavra = input('Digite uma palavra: ')\n",
        "  if palavra[0] in dicionario:\n",
        "    dicionario[palavra[0]].append(palavra)\n",
        "  else:\n",
        "    dicionario[palavra[0]] = [palavra]\n",
        "\n",
        "print(dicionario)"
      ],
      "metadata": {
        "id": "xnKs1BkQZiSt",
        "colab": {
          "base_uri": "https://localhost:8080/"
        },
        "outputId": "2b54a1d5-27a0-47cd-db35-28cb102ca264"
      },
      "execution_count": null,
      "outputs": [
        {
          "output_type": "stream",
          "name": "stdout",
          "text": [
            "Digite uma palavra: real\n",
            "Digite uma palavra: madrid\n",
            "Digite uma palavra: pode\n",
            "Digite uma palavra: esperar\n",
            "Digite uma palavra: a\n",
            "Digite uma palavra: sua\n",
            "Digite uma palavra: hora\n",
            "Digite uma palavra: vai\n",
            "Digite uma palavra: chegar\n",
            "Digite uma palavra: campeão\n",
            "{'r': ['real'], 'm': ['madrid'], 'p': ['pode'], 'e': ['esperar'], 'a': ['a'], 's': ['sua'], 'h': ['hora'], 'v': ['vai'], 'c': ['chegar', 'campeão']}\n"
          ]
        }
      ]
    },
    {
      "cell_type": "code",
      "source": [
        "#29 - Crie um dicionário onde as chaves são nomes de produtos e os valores são listas com preços praticados em três lojas diferentes. Encontre o produto com maior variação de preço.\n",
        "\n",
        "dicionario = {}\n",
        "for i in range(5):\n",
        "  nome = input('Digite o nome do produto: ')\n",
        "  precos = []\n",
        "  for j in range(3):\n",
        "    preco = float(input(f'Digite o preço do produto na loja {j+1}: '))\n",
        "    precos.append(preco)\n",
        "  dicionario[nome] = precos\n",
        "\n",
        "maior_variacao = 0\n",
        "produto_maior_variacao = ''\n",
        "\n",
        "for produto, precos in dicionario.items():\n",
        "    variacao = max(precos) - min(precos)\n",
        "    if variacao > maior_variacao:\n",
        "        maior_variacao = variacao\n",
        "        produto_maior_variacao = produto\n",
        "\n",
        "print(f'\\nProduto com maior variação de preço: {produto_maior_variacao}')\n",
        "print(f'Variação: R$ {maior_variacao:.2f}')"
      ],
      "metadata": {
        "id": "jfvWYw5wZkiX",
        "colab": {
          "base_uri": "https://localhost:8080/"
        },
        "outputId": "1b5082b4-a291-43cf-9194-83aded201f97"
      },
      "execution_count": null,
      "outputs": [
        {
          "output_type": "stream",
          "name": "stdout",
          "text": [
            "Digite o nome do produto: agua\n",
            "Digite o preço do produto na loja 1: 3\n",
            "Digite o preço do produto na loja 2: 4\n",
            "Digite o preço do produto na loja 3: 5\n",
            "Digite o nome do produto: pastel\n",
            "Digite o preço do produto na loja 1: 7\n",
            "Digite o preço do produto na loja 2: 8\n",
            "Digite o preço do produto na loja 3: 9\n",
            "Digite o nome do produto: caldo de cana\n",
            "Digite o preço do produto na loja 1: 10\n",
            "Digite o preço do produto na loja 2: 12\n",
            "Digite o preço do produto na loja 3: 15\n",
            "Digite o nome do produto: coca cola\n",
            "Digite o preço do produto na loja 1: 5\n",
            "Digite o preço do produto na loja 2: 6\n",
            "Digite o preço do produto na loja 3: 8\n",
            "Digite o nome do produto: hamburguer\n",
            "Digite o preço do produto na loja 1: 15\n",
            "Digite o preço do produto na loja 2: 20\n",
            "Digite o preço do produto na loja 3: 25\n",
            "\n",
            "Produto com maior variação de preço: hamburguer\n",
            "Variação: R$ 10.00\n"
          ]
        }
      ]
    },
    {
      "cell_type": "code",
      "source": [
        "#30 - Implemente um programa que leia uma frase e armazene em um dicionário o número de ocorrências de cada palavra (ignorando letras maiúsculas/minúsculas).\n",
        "\n",
        "frase = input('Digite uma frase: ')\n",
        "frase = frase.lower()\n",
        "dicionario = {}\n",
        "for palavra in frase.split():\n",
        "  if palavra in dicionario:\n",
        "    dicionario[palavra] += 1\n",
        "  else:\n",
        "        dicionario[palavra] = 1\n",
        "\n",
        "print('\\nOcorrências de cada palavra:')\n",
        "for palavra, contagem in dicionario.items():\n",
        "    print(f'{palavra}: {contagem}')"
      ],
      "metadata": {
        "id": "u1YAPmxJZnQM",
        "colab": {
          "base_uri": "https://localhost:8080/"
        },
        "outputId": "df229e3c-1a30-4a18-b2b8-8d7ebd2fb931"
      },
      "execution_count": null,
      "outputs": [
        {
          "output_type": "stream",
          "name": "stdout",
          "text": [
            "Digite uma frase: Real Madrid pode esperar, a sua hora vai chegar!\n",
            "\n",
            "Ocorrências de cada palavra:\n",
            "real: 1\n",
            "madrid: 1\n",
            "pode: 1\n",
            "esperar,: 1\n",
            "a: 1\n",
            "sua: 1\n",
            "hora: 1\n",
            "vai: 1\n",
            "chegar!: 1\n"
          ]
        }
      ]
    }
  ]
}