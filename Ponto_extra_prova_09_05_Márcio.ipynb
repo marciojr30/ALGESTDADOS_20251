{
  "nbformat": 4,
  "nbformat_minor": 0,
  "metadata": {
    "colab": {
      "provenance": [],
      "authorship_tag": "ABX9TyOO6/Y7t/JS+PA25CXzo7sY",
      "include_colab_link": true
    },
    "kernelspec": {
      "name": "python3",
      "display_name": "Python 3"
    },
    "language_info": {
      "name": "python"
    }
  },
  "cells": [
    {
      "cell_type": "markdown",
      "metadata": {
        "id": "view-in-github",
        "colab_type": "text"
      },
      "source": [
        "<a href=\"https://colab.research.google.com/github/marciojr30/ALGESTDADOS_20251/blob/main/Ponto_extra_prova_09_05_M%C3%A1rcio.ipynb\" target=\"_parent\"><img src=\"https://colab.research.google.com/assets/colab-badge.svg\" alt=\"Open In Colab\"/></a>"
      ]
    },
    {
      "cell_type": "code",
      "execution_count": 1,
      "metadata": {
        "colab": {
          "base_uri": "https://localhost:8080/"
        },
        "id": "RrtdVJTcylvl",
        "outputId": "c30cdb32-1001-4472-9c8c-7dc9c5b72cc9"
      },
      "outputs": [
        {
          "output_type": "stream",
          "name": "stdout",
          "text": [
            "2025\n"
          ]
        }
      ],
      "source": [
        "#7\n",
        "from datetime import datetime, time, date, timedelta\n",
        "data_atual = datetime.now().year\n",
        "print(data_atual)"
      ]
    },
    {
      "cell_type": "code",
      "source": [
        "#8\n",
        "for i in range(1,11): #aqui ele começa do 1 e vai até o 10 (exclui o 11 da sequência)\n",
        "    if i%3 == 0: #a % calcula o resto da divisão dos números atribuídos a i por 3, quando = 0 não há print.\n",
        "        continue #serve para pular o número que o if condicona.\n",
        "    print(i)"
      ],
      "metadata": {
        "colab": {
          "base_uri": "https://localhost:8080/"
        },
        "id": "4eteXBgSyn_k",
        "outputId": "cbd57cf1-407c-4d83-ebb0-303f6108d197"
      },
      "execution_count": 3,
      "outputs": [
        {
          "output_type": "stream",
          "name": "stdout",
          "text": [
            "1\n",
            "2\n",
            "4\n",
            "5\n",
            "7\n",
            "8\n",
            "10\n"
          ]
        }
      ]
    },
    {
      "cell_type": "code",
      "source": [
        "#9\n",
        "text = input('Digite uma frase qualquer: ')\n",
        "quant = len(text)\n",
        "if quant > 10:\n",
        "    print(quant)"
      ],
      "metadata": {
        "colab": {
          "base_uri": "https://localhost:8080/"
        },
        "id": "5ay9p1ysy0H4",
        "outputId": "58dde64f-6583-44ed-c38f-457a783ee0ff"
      },
      "execution_count": 7,
      "outputs": [
        {
          "output_type": "stream",
          "name": "stdout",
          "text": [
            "Digite uma frase qualquer: Flamengo maior da América\n",
            "25\n"
          ]
        }
      ]
    },
    {
      "cell_type": "code",
      "source": [
        "#10\n",
        "pote_a = int(input('Digite um núemero qualquer: '))\n",
        "pote_b = int(input('Digite um núemero qualquer: '))\n",
        "pote_c = 0\n",
        "pote_c = pote_a\n",
        "pote_a = pote_b\n",
        "pote_b = pote_c\n",
        "print(pote_a)\n",
        "print(pote_b)"
      ],
      "metadata": {
        "colab": {
          "base_uri": "https://localhost:8080/"
        },
        "id": "-RAU1DD5y_E3",
        "outputId": "2aa4b006-5dd7-4a46-b47c-ff97b42ded7a"
      },
      "execution_count": 6,
      "outputs": [
        {
          "output_type": "stream",
          "name": "stdout",
          "text": [
            "Digite um núemero qualquer: 1\n",
            "Digite um núemero qualquer: 2\n",
            "2\n",
            "1\n"
          ]
        }
      ]
    }
  ]
}