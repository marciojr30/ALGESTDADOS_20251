{
  "nbformat": 4,
  "nbformat_minor": 0,
  "metadata": {
    "colab": {
      "provenance": [],
      "include_colab_link": true
    },
    "kernelspec": {
      "name": "python3",
      "display_name": "Python 3"
    },
    "language_info": {
      "name": "python"
    }
  },
  "cells": [
    {
      "cell_type": "markdown",
      "metadata": {
        "id": "view-in-github",
        "colab_type": "text"
      },
      "source": [
        "<a href=\"https://colab.research.google.com/github/marciojr30/ALGESTDADOS_20251/blob/main/Lista_IV_29_06.ipynb\" target=\"_parent\"><img src=\"https://colab.research.google.com/assets/colab-badge.svg\" alt=\"Open In Colab\"/></a>"
      ]
    },
    {
      "cell_type": "code",
      "execution_count": null,
      "metadata": {
        "id": "ciNwfaU_2RNR",
        "colab": {
          "base_uri": "https://localhost:8080/"
        },
        "outputId": "778720b3-a3ee-481b-8881-d069dffea839"
      },
      "outputs": [
        {
          "output_type": "stream",
          "name": "stdout",
          "text": [
            "Quantidade de pessoas: 5\n",
            "Foi reservado 2 mesas para 5 pessoas\n",
            "Ainda restam 3 mesas com 12 lugares.\n",
            "Deseja continuar? (S/N) s\n",
            "Quantidade de pessoas: 6\n",
            "Foi reservado 2 mesas para 6 pessoas\n",
            "Ainda restam 1 mesas com 4 lugares.\n",
            "Deseja continuar? (S/N) s\n",
            "Quantidade de pessoas: 5\n",
            "Não comporta, só restam 1 mesas com 4 lugares.\n",
            "Deseja continuar? (S/N) s\n",
            "Quantidade de pessoas: 2\n",
            "Foi reservado 1 mesas para 2 pessoas\n",
            "Ainda restam 0 mesas com 0 lugares.\n",
            "Deseja continuar? (S/N) s\n",
            "Quantidade de pessoas: 1\n",
            "Não comporta, só restam 0 mesas com 0 lugares.\n",
            "Deseja continuar? (S/N) n\n",
            "Tchau!\n"
          ]
        }
      ],
      "source": [
        "#1 - Crie um algoritmo que simule um sistema de reservas de um restaurante. O programa deve solicitar o número de pessoas para a reserva e verificar se há disponibilidade, considerando que o restaurante possui apenas mesas de 4 lugares. Se o número de pessoas exceder a capacidade de uma mesa, o programa deve calcular quantas mesas serão necessárias e informar ao usuário.\n",
        "\n",
        "mesas = 5\n",
        "lugares = mesas * 4\n",
        "\n",
        "while True:\n",
        "    reservas = int(input('Quantidade de pessoas: '))\n",
        "\n",
        "    if reservas <= lugares:\n",
        "        mesas_necessarias = reservas // 4\n",
        "        if reservas % 4 != 0:\n",
        "            mesas_necessarias += 1\n",
        "            pessoas_ajustadas = mesas_necessarias * 4\n",
        "        else:\n",
        "            pessoas_ajustadas = reservas\n",
        "\n",
        "        if mesas_necessarias <= mesas:\n",
        "            print(f'Foi reservado {mesas_necessarias} mesas para {reservas} pessoas')\n",
        "            mesas -= mesas_necessarias\n",
        "            lugares -= pessoas_ajustadas\n",
        "            print(f'Ainda restam {mesas} mesas com {lugares} lugares.')\n",
        "        else:\n",
        "            print(f'Não há mesas suficientes para acomodar {reservas} pessoas.')\n",
        "            print(f'Só restam {mesas} mesas com {lugares} lugares.')\n",
        "    else:\n",
        "        print(f'Não comporta, só restam {mesas} mesas com {lugares} lugares.')\n",
        "\n",
        "    opc = input('Deseja continuar? (S/N) ')\n",
        "    if opc.upper() == 'N':\n",
        "        print('Tchau!')\n",
        "        break"
      ]
    },
    {
      "cell_type": "code",
      "source": [
        "#2 - Desenvolva um algoritmo que auxilie na gestão de estoque de uma loja. O programa deve permitir que o usuário insira o nome e a quantidade de diferentes produtos.\n",
        "# Se a quantidade de um produto for inferior a 5 unidades, o sistema deve alertar que o estoque está baixo e sugerir a reposição. O processo deve continuar até que o usuário decida encerrar.\n",
        "\n",
        "estoque = {}\n",
        "while True:\n",
        "  produto = input('Digite o nome do produto: ')\n",
        "  quantidade = int(input('Digite a quantidade: '))\n",
        "  estoque[produto] = quantidade\n",
        "  opc = input('Deseja continuar? (S/N) ')\n",
        "  if quantidade < 5:\n",
        "     print(f'Estoque baixo de {produto}!')\n",
        "  if opc.upper() == 'N':\n",
        "    print(estoque)\n",
        "    break\n"
      ],
      "metadata": {
        "id": "7M-vtFRp2dK3",
        "colab": {
          "base_uri": "https://localhost:8080/"
        },
        "outputId": "fff4544d-a02d-4b12-c01f-26c9c4cf7bf9"
      },
      "execution_count": null,
      "outputs": [
        {
          "output_type": "stream",
          "name": "stdout",
          "text": [
            "Digite o nome do produto: abacaxi\n",
            "Digite a quantidade: 5\n",
            "Deseja continuar? (S/N) s\n",
            "Digite o nome do produto: banana\n",
            "Digite a quantidade: 4\n",
            "Deseja continuar? (S/N) s\n",
            "Estoque baixo de banana!\n",
            "Digite o nome do produto: carambola\n",
            "Digite a quantidade: 3\n",
            "Deseja continuar? (S/N) s\n",
            "Estoque baixo de carambola!\n",
            "Digite o nome do produto: maça\n",
            "Digite a quantidade: 2\n",
            "Deseja continuar? (S/N) n\n",
            "Estoque baixo de maça!\n",
            "{'abacaxi': 5, 'banana': 4, 'carambola': 3, 'maça': 2}\n",
            "Tchau!\n"
          ]
        }
      ]
    },
    {
      "cell_type": "code",
      "source": [
        "#3 - Elabore um algoritmo que simule um quiz de perguntas e respostas. O programa deve apresentar uma série de perguntas ao usuário, oferecer opções de resposta e verificar se a resposta fornecida está correta.\n",
        "# Ao final, o sistema deve exibir a pontuação total do usuário e fornecer um feedback baseado no desempenho.\n",
        "\n",
        "perguntas = [\n",
        "    {\n",
        "        \"pergunta\": \"Qual maior clube do Brasil?\",\n",
        "        \"opcoes\": [\"a) Flamengo\", \"b) Corinthias\", \"c) Juventude\", \"d) Vasco da Gama\"],\n",
        "        \"resposta_correta\": \"a\"\n",
        "    },\n",
        "    {\n",
        "        \"pergunta\": \"Qual é a capital do Brasil?\",\n",
        "        \"opcoes\": [\"a) São Paulo\", \"b) Brasília\", \"c) Rio de Janeiro\", \"d) Salvador\"],\n",
        "        \"resposta_correta\": \"b\"\n",
        "    },\n",
        "    {\n",
        "        \"pergunta\": \"Qual o maior planeta do sistema solar?\",\n",
        "        \"opcoes\": [\"a) Terra\", \"b) Saturno\", \"c) Júpiter\", \"d) Marte\"],\n",
        "        \"resposta_correta\": \"c\"\n",
        "    }\n",
        "\n",
        "]\n",
        "\n",
        "pontuacao = 0\n",
        "\n",
        "for i, q in enumerate(perguntas, 1):\n",
        "    print(f\"Pergunta {i}: {q['pergunta']}\")\n",
        "    for opcao in q['opcoes']:\n",
        "        print(opcao)\n",
        "    resposta = input(\"Digite a letra da resposta correta: \").lower()\n",
        "\n",
        "    if resposta == q[\"resposta_correta\"]:\n",
        "        print(\"Resposta correta!\\n\")\n",
        "        pontuacao += 1\n",
        "    else:\n",
        "        print(f\"Resposta incorreta. A certa era: {q['resposta_correta']}\\n\")\n",
        "\n",
        "print(f\"Você acertou {pontuacao} de {len(perguntas)} perguntas.\")\n",
        "\n",
        "if pontuacao == len(perguntas):\n",
        "    print(\"Você acertou tudo!\")\n",
        "elif pontuacao >= len(perguntas) // 2:\n",
        "    print(\"Bom trabalho!\")\n",
        "else:\n",
        "    print(\"Horroroso!\")"
      ],
      "metadata": {
        "id": "DO0WaQIU2gO-",
        "colab": {
          "base_uri": "https://localhost:8080/"
        },
        "outputId": "b9d88777-e48e-444e-e3e2-74d1df365443"
      },
      "execution_count": null,
      "outputs": [
        {
          "output_type": "stream",
          "name": "stdout",
          "text": [
            "Pergunta 1: Qual maior clube do Brasil?\n",
            "a) Flamengo\n",
            "b) Corinthias\n",
            "c) Juventude\n",
            "d) Vasco da Gama\n",
            "Digite a letra da resposta correta: d\n",
            "Resposta incorreta. A certa era: a\n",
            "\n",
            "Pergunta 2: Qual é a capital do Brasil?\n",
            "a) São Paulo\n",
            "b) Brasília\n",
            "c) Rio de Janeiro\n",
            "d) Salvador\n",
            "Digite a letra da resposta correta: b\n",
            "Resposta correta!\n",
            "\n",
            "Pergunta 3: Qual o maior planeta do sistema solar?\n",
            "a) Terra\n",
            "b) Saturno\n",
            "c) Júpiter\n",
            "d) Marte\n",
            "Digite a letra da resposta correta: c\n",
            "Resposta correta!\n",
            "\n",
            "Você acertou 2 de 3 perguntas.\n",
            "Bom trabalho!\n"
          ]
        }
      ]
    },
    {
      "cell_type": "code",
      "source": [
        "#4 - Crie um algoritmo que simule um sistema de controle de acesso a um edifício. O programa deve solicitar ao usuário um código de acesso e verificar se ele é válido.\n",
        "# Caso contrário, deve permitir novas tentativas até que o número máximo de 3 tentativas seja atingido.\n",
        "# Se o acesso for concedido, uma mensagem de boas-vindas deve ser exibida; caso contrário, uma mensagem de bloqueio deve ser apresentada.\n",
        "\n",
        "codigo_correto = \"1234\"\n",
        "tentativas = 0\n",
        "max_tentativas = 3\n",
        "\n",
        "while tentativas < max_tentativas:\n",
        "    codigo_digitado = input(\"Digite o código de acesso: \")\n",
        "\n",
        "    if codigo_digitado == codigo_correto:\n",
        "        print(\"Bem-vindo ao edifício!\")\n",
        "        break\n",
        "    else:\n",
        "        tentativas += 1\n",
        "        restante = max_tentativas - tentativas\n",
        "        print(f\"Código incorreto. Tentativas restantes: {restante}\")\n",
        "\n",
        "if tentativas == max_tentativas:\n",
        "    print(\"Número máximo de tentativas atingido.\")"
      ],
      "metadata": {
        "id": "Xf4SidjG2j1H",
        "colab": {
          "base_uri": "https://localhost:8080/"
        },
        "outputId": "e82ede6f-1f69-46f9-ecc9-ebacc3d0601f"
      },
      "execution_count": null,
      "outputs": [
        {
          "output_type": "stream",
          "name": "stdout",
          "text": [
            "Digite o código de acesso: 1245\n",
            "Código incorreto. Tentativas restantes: 2\n",
            "Digite o código de acesso: 6521\n",
            "Código incorreto. Tentativas restantes: 1\n",
            "Digite o código de acesso: 64566\n",
            "Código incorreto. Tentativas restantes: 0\n",
            "Número máximo de tentativas atingido.\n"
          ]
        }
      ]
    },
    {
      "cell_type": "code",
      "source": [
        "#5 - Desenvolva um algoritmo que ajude no planejamento de uma viagem de carro. O programa deve solicitar a distância total a ser percorrida,\n",
        "# a capacidade do tanque de combustível do veículo e o consumo médio de combustível (km/l).\n",
        "# Com base nessas informações, o sistema deve calcular quantas paradas para reabastecimento serão necessárias, assumindo que o motorista sempre reabastece o tanque completamente.\n",
        "\n",
        "distancia = float(input(\"Informe a distância total da viagem (em km): \"))\n",
        "capacidade_tanque = float(input(\"Informe a capacidade do tanque (em litros): \"))\n",
        "consumo = float(input(\"Informe o consumo médio do veículo (km/l): \"))\n",
        "\n",
        "autonomia = capacidade_tanque * consumo\n",
        "\n",
        "if autonomia >= distancia:\n",
        "    paradas = 0\n",
        "else:\n",
        "    divisao = distancia / autonomia\n",
        "    if divisao == int(divisao):\n",
        "        paradas = int(divisao) - 1\n",
        "    else:\n",
        "        paradas = int(divisao)\n",
        "        paradas += 1\n",
        "        paradas -= 1\n",
        "\n",
        "print(f\"\\nPara uma viagem de {distancia:.1f} km, será(ão) necessária(s) {paradas} parada(s) para reabastecimento.\")"
      ],
      "metadata": {
        "id": "B54aWWp02oYG",
        "colab": {
          "base_uri": "https://localhost:8080/"
        },
        "outputId": "7faabb1b-cb80-4da3-b5de-edd52cf735d3"
      },
      "execution_count": null,
      "outputs": [
        {
          "output_type": "stream",
          "name": "stdout",
          "text": [
            "Informe a distância total da viagem (em km): 950\n",
            "Informe a capacidade do tanque (em litros): 50\n",
            "Informe o consumo médio do veículo (km/l): 12\n",
            "\n",
            "Para uma viagem de 950.0 km, será(ão) necessária(s) 1 parada(s) para reabastecimento.\n"
          ]
        }
      ]
    },
    {
      "cell_type": "code",
      "source": [
        "#6 - Elabore um algoritmo que simule um sistema de avaliação de filmes. O programa deve permitir que o usuário insira o título de vários filmes e uma nota de 0 a 10 para cada um. Após o usuário finalizar as entradas, o sistema deve exibir a média das notas atribuídas e listar os filmes que receberam nota superior a 8, destacando-os como altamente recomendados. deve exibir a média das notas atribuídas e listar os filmes que receberam nota superior a 8, destacando-os como altamente recomendados.\n",
        "filmes = []\n",
        "notas = []\n",
        "while True:\n",
        "  filme =  input('Digite o nome do filme que será avaliado: ')\n",
        "  if not filme:\n",
        "    print('Digite o filme novamente, houve um erro.')\n",
        "    continue\n",
        "  filmes.append(filme)\n",
        "  nota = int(input('Digite uma nota para este filme de 0 a 10: '))\n",
        "  if nota < 0 or nota > 10:\n",
        "    print('Nota inválida! Avalie de 0 a 10.')\n",
        "    continue\n",
        "  notas.append(nota)\n",
        "  continuar = input('Deseja continuar? (s/n): ')\n",
        "  if continuar.lower() == 'n':\n",
        "    break\n",
        "\n",
        "media = sum(notas)/len(notas)\n",
        "print(f'A média das notas dos filmes foi: {media:.2f}.')\n",
        "\n",
        "print('Flimes recomendados (8 ou mais de nota):')\n",
        "for i in range(len(notas)):\n",
        "  if notas[i] > 8:\n",
        "    print(f' - {filmes[i]}')"
      ],
      "metadata": {
        "id": "clZgdDME2rNd",
        "colab": {
          "base_uri": "https://localhost:8080/"
        },
        "outputId": "60d3b2e0-b014-435f-ede3-1809d61e2e73"
      },
      "execution_count": null,
      "outputs": [
        {
          "output_type": "stream",
          "name": "stdout",
          "text": [
            "Digite o nome do filme que será avaliado: a\n",
            "Digite uma nota para este filme de 0 a 10: 6\n",
            "Deseja continuar? (s/n): s\n",
            "Digite o nome do filme que será avaliado: b\n",
            "Digite uma nota para este filme de 0 a 10: 9\n",
            "Deseja continuar? (s/n): s\n",
            "Digite o nome do filme que será avaliado: c\n",
            "Digite uma nota para este filme de 0 a 10: 6\n",
            "Deseja continuar? (s/n): s\n",
            "Digite o nome do filme que será avaliado: d\n",
            "Digite uma nota para este filme de 0 a 10: 10\n",
            "Deseja continuar? (s/n): n\n",
            "A média das notas dos filmes foi: 7.75.\n",
            "Flimes recomendados (8 ou mais de nota):\n",
            " - b\n",
            " - d\n"
          ]
        }
      ]
    },
    {
      "cell_type": "code",
      "source": [
        "#7 - Crie um algoritmo que simule um sistema de monitoramento de temperatura ambiente. O programa deve solicitar ao usuário que insira a temperatura registrada a cada hora durante um período de 24 horas. Ao final, o sistema deve calcular a temperatura média do dia, identificar a temperatura mais alta e a mais baixa registradas, e alertar se em algum momento a temperatura ultrapassou 30°C ou ficou abaixo de 15°C.\n",
        "lista_hr = []\n",
        "\n",
        "lista_temp = []\n",
        "maior_que_30 = []\n",
        "menor_que_15 = []\n",
        "for i in range(24):\n",
        "  temp = int(input(f'Digite a temperatura da hora {i}:00: '))\n",
        "  lista_temp.append(temp)\n",
        "\n",
        "media = sum(lista_temp)/len(lista_temp)\n",
        "print(f'A média das temperaturas do dia foi de {media:.2f}°C.')\n",
        "max_temp = max(lista_temp)\n",
        "print(f'A temperatura mais alta registrada do dia foi {max_temp}°C.')\n",
        "min_temp = min(lista_temp)\n",
        "print(f'A temperatura mais baixa registrada do dia foi {min_temp}°C.')\n",
        "\n",
        "for temperaturas in lista_temp:\n",
        "  if temperaturas > 30:\n",
        "    maior_que_30.append(temperaturas)\n",
        "  elif temperaturas < 15:\n",
        "    menor_que_15.append(temperaturas)\n",
        "print(f'quantidade de temperaturas maiores que 30°C registradas: {len(maior_que_30)}')\n",
        "print(f'quantidade de temperaturas menores que 15°C registradas: {len(menor_que_15)}')"
      ],
      "metadata": {
        "id": "ElxvDsmF2xWF",
        "colab": {
          "base_uri": "https://localhost:8080/"
        },
        "outputId": "9770db13-1a2f-4323-ca28-92f1953b95e9"
      },
      "execution_count": null,
      "outputs": [
        {
          "output_type": "stream",
          "name": "stdout",
          "text": [
            "Digite a temperatura da hora 0:00: 23\n",
            "Digite a temperatura da hora 1:00: 23\n",
            "Digite a temperatura da hora 2:00: 3\n",
            "Digite a temperatura da hora 3:00: 23\n",
            "Digite a temperatura da hora 4:00: 23\n",
            "Digite a temperatura da hora 5:00: 23\n",
            "Digite a temperatura da hora 6:00: 3\n",
            "Digite a temperatura da hora 7:00: 23\n",
            "Digite a temperatura da hora 8:00: 23\n",
            "Digite a temperatura da hora 9:00: 23\n",
            "Digite a temperatura da hora 10:00: 30\n",
            "Digite a temperatura da hora 11:00: 30\n",
            "Digite a temperatura da hora 12:00: 12\n",
            "Digite a temperatura da hora 13:00: 23\n",
            "Digite a temperatura da hora 14:00: 23\n",
            "Digite a temperatura da hora 15:00: 23\n",
            "Digite a temperatura da hora 16:00: 23\n",
            "Digite a temperatura da hora 17:00: 23\n",
            "Digite a temperatura da hora 18:00: 23\n",
            "Digite a temperatura da hora 19:00: 23\n",
            "Digite a temperatura da hora 20:00: 23\n",
            "Digite a temperatura da hora 21:00: 23\n",
            "Digite a temperatura da hora 22:00: 23\n",
            "Digite a temperatura da hora 23:00: 23\n",
            "A média das temperaturas do dia foi de 21.458333333333332°C.\n",
            "A temperatura mais alta registrada do dia foi 30°C.\n",
            "A temperatura mais baixa registrada do dia foi 3°C.\n",
            "quantidade de temperaturas maiores que 30°C registradas: 0\n",
            "quantidade de temperaturas menores que 15°C registradas: 3\n"
          ]
        }
      ]
    },
    {
      "cell_type": "code",
      "source": [
        "#8 - Desenvolva um algoritmo que auxilie na organização de uma biblioteca pessoal. O programa deve permitir que o usuário insira o título e o autor de diversos livros. Após a inserção, o sistema deve oferecer a opção de buscar por livros de um autor específico e listar todos os títulos correspondentes. O processo deve continuar até que o usuário decida encerrar.\n",
        "livros = []\n",
        "autores = []\n",
        "while True:\n",
        "  livro = input('Digite o nome do livro: ')\n",
        "  if not livro:\n",
        "    print('Digite o livro novamente, houve um erro.')\n",
        "    continue\n",
        "  livros.append(livro)\n",
        "  autor = input('Digite o autor deste livro: ')\n",
        "  autores.append(autor)\n",
        "\n",
        "  continuar = input('Deseja continuar? (s/n): ')\n",
        "  if continuar.lower() == 'n':\n",
        "    break\n",
        "while True:\n",
        "  busca = input('Digite o autor que deseja buscar (ou \"sair\" para encerrar): ')\n",
        "  if busca.lower() == 'sair':\n",
        "      break\n",
        "  encontrou = 0\n",
        "  for i in range(len(autores)):\n",
        "    if autores[i].lower() == busca.lower():\n",
        "      print(f'Livro: {livros[i]} - Autor: {autores[i]}')\n",
        "      encontrou = 1\n",
        "  if encontrou == 0:\n",
        "    print('Nenhum livro encontrado para esse autor.')"
      ],
      "metadata": {
        "id": "JFL2HfJ52z-l",
        "colab": {
          "base_uri": "https://localhost:8080/"
        },
        "outputId": "d6c93f63-6ead-421f-bca4-5df341a6853e"
      },
      "execution_count": null,
      "outputs": [
        {
          "name": "stdout",
          "output_type": "stream",
          "text": [
            "Digite o nome do livro: livro 1\n",
            "Digite o autor deste livro: autor 1\n",
            "Deseja continuar? (s/n): s\n",
            "Digite o nome do livro: livro 2\n",
            "Digite o autor deste livro: autor 2\n",
            "Deseja continuar? (s/n): s\n",
            "Digite o nome do livro: livro 3\n",
            "Digite o autor deste livro: autor 1\n",
            "Deseja continuar? (s/n): n\n",
            "Digite o autor que deseja buscar (ou \"sair\" para encerrar): autor 1\n",
            "Livro: livro 1 - Autor: autor 1\n",
            "Livro: livro 3 - Autor: autor 1\n",
            "Digite o autor que deseja buscar (ou \"sair\" para encerrar): autor 2\n",
            "Livro: livro 2 - Autor: autor 2\n",
            "Digite o autor que deseja buscar (ou \"sair\" para encerrar): sair\n"
          ]
        }
      ]
    },
    {
      "cell_type": "code",
      "source": [
        "#9 - Elabore um algoritmo que simule um sistema de gerenciamento de tarefas domésticas. O programa deve permitir que o usuário insira diferentes tarefas e atribua um nível de prioridade a cada uma (alto, médio ou baixo). O sistema deve então exibir as tarefas organizadas por ordem de prioridade, começando pelas de alta prioridade, e permitir que o usuário marque tarefas como concluídas.\n",
        "tarefas = []\n",
        "prioridades = []\n",
        "ordem_certa = []\n",
        "while True:\n",
        "  tarefa = input('Digite a tarefa a ser feita: ')\n",
        "  if not livro:\n",
        "    print('Digite o tarefa novamente, houve um erro.')\n",
        "    continue\n",
        "  tarefas.append(tarefa)\n",
        "  prioridade = input('Digite o nível de prioridade da tarefa (alto, médio ou baixo): ')\n",
        "  if prioridade.lower() not in ['alto', 'médio', 'baixo']:\n",
        "    print('Prioridade inválida! Digite \"alto\", \"médio\" ou \"baixo\".')\n",
        "    continue\n",
        "  prioridades.append(prioridade)\n",
        "  continuar = input('Deseja continuar? (s/n): ')\n",
        "  if continuar.lower() == 'n':\n",
        "    break\n",
        "for i in range(len(prioridades)):\n",
        "  if prioridades[i] == 'alto':\n",
        "    ordem_certa.insert(0, tarefas[i])\n",
        "  elif prioridades[i] == 'médio':\n",
        "    ordem_certa.insert(1, tarefas[i])\n",
        "  else:\n",
        "    ordem_certa.insert(2, tarefas[i])\n",
        "for i in range(len(tarefas)):\n",
        "  if tarefas[i] not in ordem_certa:\n",
        "    ordem_certa.append(tarefas[i])\n",
        "print(ordem_certa)\n",
        "while True:\n",
        "  tarefa_concluida = input('Digite a tarefa concluída (ou \"sair\" para encerrar): ')\n",
        "  if tarefa_concluida.lower() == 'sair':\n",
        "    break\n",
        "  for i in range(len(ordem_certa)):\n",
        "    if ordem_certa[i] == tarefa_concluida:\n",
        "      ordem_certa.pop(i)\n",
        "      print(f'Tarefa \"{tarefa_concluida}\" concluída!')\n",
        "      break\n",
        "  else:\n",
        "    print(f'Tarefa \"{tarefa_concluida}\" não encontrada na lista.')"
      ],
      "metadata": {
        "id": "Jl_Ii_Y823JO",
        "colab": {
          "base_uri": "https://localhost:8080/"
        },
        "outputId": "44f2bf7b-c955-4a9d-d6e8-f345a76096d0"
      },
      "execution_count": null,
      "outputs": [
        {
          "name": "stdout",
          "output_type": "stream",
          "text": [
            "Digite a tarefa a ser feita: a\n",
            "Digite o nível de prioridade da tarefa (alto, médio ou baixo): baixo\n",
            "Deseja continuar? (s/n): s\n",
            "Digite a tarefa a ser feita: b\n",
            "Digite o nível de prioridade da tarefa (alto, médio ou baixo): baixo\n",
            "Deseja continuar? (s/n): s\n",
            "Digite a tarefa a ser feita: c\n",
            "Digite o nível de prioridade da tarefa (alto, médio ou baixo): médio\n",
            "Deseja continuar? (s/n): s\n",
            "Digite a tarefa a ser feita: d\n",
            "Digite o nível de prioridade da tarefa (alto, médio ou baixo): médio\n",
            "Deseja continuar? (s/n): s\n",
            "Digite a tarefa a ser feita: e\n",
            "Digite o nível de prioridade da tarefa (alto, médio ou baixo): alto\n",
            "Deseja continuar? (s/n): s\n",
            "Digite a tarefa a ser feita: f\n",
            "Digite o nível de prioridade da tarefa (alto, médio ou baixo): alto\n",
            "Deseja continuar? (s/n): n\n",
            "['f', 'e', 'a', 'd', 'c', 'b']\n",
            "Digite a tarefa concluída (ou \"sair\" para encerrar): e\n",
            "Tarefa \"e\" concluída!\n",
            "Digite a tarefa concluída (ou \"sair\" para encerrar): sair\n"
          ]
        }
      ]
    },
    {
      "cell_type": "code",
      "source": [
        "#10 - Crie um algoritmo que simule um sistema de acompanhamento de hábitos saudáveis. O programa deve permitir que o usuário registre diariamente a quantidade de copos de água ingeridos e o número de minutos dedicados a atividades físicas. Ao final de uma semana, o sistema deve calcular a média diária de consumo de água e de exercícios, compará-las com as recomendações de saúde (por exemplo, 8 copos de água e 30 minutos de exercício por dia), e fornecer um feedback sobre o desempenho do usuário.\n",
        "copos_de_agua = []\n",
        "exercicios = []\n",
        "for i in range(7):\n",
        "  agua = int(input(f'Digite a quantidade de copos de água ingeridos no dia {i+1}: '))\n",
        "  copos_de_agua.append(agua)\n",
        "  exercicio = int(input(f'Digite a quantidade de minutos de exercícios no dia {i+1}: '))\n",
        "  exercicios.append(exercicio)\n",
        "media_agua = sum(copos_de_agua)/len(copos_de_agua)\n",
        "media_exercicios = sum(exercicios)/len(exercicios)\n",
        "print(f'A média diária de copos de água ingeridos foi de {media_agua:.2f} copos.')\n",
        "print(f'A média diária de minutos de exercícios foi de {media_exercicios:.2f} minutos.')\n",
        "if media_agua > 8:\n",
        "  print('Você ingeriu mais copos de água do que é recomendado.')\n",
        "elif media_agua < 8:\n",
        "  print('Você ingeriu menos copos de água do que é recomendado.')\n",
        "  if media_exercicios > 30:\n",
        "    print('Você realizou mais minutos de exercícios do que é recomendado.')\n",
        "  elif media_exercicios < 30:\n",
        "    print('Você realizou menos minutos de exercícios do que é recomendado.')\n",
        "  else:\n",
        "    print('Você realizou a quantidade de minutos de exercícios do que é recomendado.')"
      ],
      "metadata": {
        "id": "vHcWltu0267c",
        "colab": {
          "base_uri": "https://localhost:8080/"
        },
        "outputId": "4ac5b2fb-9de6-4920-cc86-5aa2e2caa257"
      },
      "execution_count": null,
      "outputs": [
        {
          "output_type": "stream",
          "name": "stdout",
          "text": [
            "Digite a quantidade de copos de água ingeridos no dia 1: 7\n",
            "Digite a quantidade de minutos de exercícios no dia 1: 45\n",
            "Digite a quantidade de copos de água ingeridos no dia 2: 10\n",
            "Digite a quantidade de minutos de exercícios no dia 2: 55\n",
            "Digite a quantidade de copos de água ingeridos no dia 3: 6\n",
            "Digite a quantidade de minutos de exercícios no dia 3: 23\n",
            "Digite a quantidade de copos de água ingeridos no dia 4: 8\n",
            "Digite a quantidade de minutos de exercícios no dia 4: 40\n",
            "Digite a quantidade de copos de água ingeridos no dia 5: 7\n",
            "Digite a quantidade de minutos de exercícios no dia 5: 30\n",
            "Digite a quantidade de copos de água ingeridos no dia 6: 8\n",
            "Digite a quantidade de minutos de exercícios no dia 6: 25\n",
            "Digite a quantidade de copos de água ingeridos no dia 7: 5\n",
            "Digite a quantidade de minutos de exercícios no dia 7: 20\n",
            "A média diária de copos de água ingeridos foi de 7.29 copos.\n",
            "A média diária de minutos de exercícios foi de 34.00 minutos.\n",
            "Você ingeriu menos copos de água do que é recomendado.\n",
            "Você realizou mais minutos de exercícios do que é recomendado.\n"
          ]
        }
      ]
    }
  ]
}