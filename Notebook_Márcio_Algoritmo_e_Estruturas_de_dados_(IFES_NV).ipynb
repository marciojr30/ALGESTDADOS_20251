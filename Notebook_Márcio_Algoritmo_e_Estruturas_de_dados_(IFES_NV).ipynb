{
  "nbformat": 4,
  "nbformat_minor": 0,
  "metadata": {
    "colab": {
      "provenance": [],
      "authorship_tag": "ABX9TyOlq8ypA7GPDEhOpMHqxdiW",
      "include_colab_link": true
    },
    "kernelspec": {
      "name": "python3",
      "display_name": "Python 3"
    },
    "language_info": {
      "name": "python"
    }
  },
  "cells": [
    {
      "cell_type": "markdown",
      "metadata": {
        "id": "view-in-github",
        "colab_type": "text"
      },
      "source": [
        "<a href=\"https://colab.research.google.com/github/marciojr30/ALGESTDADOS_20251/blob/main/Notebook_M%C3%A1rcio_Algoritmo_e_Estruturas_de_dados_(IFES_NV).ipynb\" target=\"_parent\"><img src=\"https://colab.research.google.com/assets/colab-badge.svg\" alt=\"Open In Colab\"/></a>"
      ]
    },
    {
      "cell_type": "code",
      "execution_count": null,
      "metadata": {
        "colab": {
          "base_uri": "https://localhost:8080/"
        },
        "id": "a8oLfqFOZtda",
        "outputId": "3ee26709-773b-4b0c-80a1-754605ae4f2d"
      },
      "outputs": [
        {
          "output_type": "stream",
          "name": "stdout",
          "text": [
            "3570\n"
          ]
        }
      ],
      "source": [
        "#Soma de dois números conhecidos em Python\n",
        "num1 = 1930\n",
        "num2 = 1640\n",
        "resultado = num1 + num2\n",
        "print (resultado)\n"
      ]
    },
    {
      "cell_type": "code",
      "source": [
        "#Soma de dois números desconhecidos em Python\n",
        "num1 = int(input('digite o primeiro número: '))\n",
        "num2 = int(input('digite o segundo número: '))\n",
        "resultado = num1 + num2\n",
        "print (resultado)"
      ],
      "metadata": {
        "colab": {
          "base_uri": "https://localhost:8080/"
        },
        "id": "sMETew2nbQiy",
        "outputId": "f0edccb4-b466-4a03-fe99-9d1f8e622c54"
      },
      "execution_count": null,
      "outputs": [
        {
          "output_type": "stream",
          "name": "stdout",
          "text": [
            "digite o primeiro número: 1\n",
            "digite o segundo número: 2\n",
            "3\n"
          ]
        }
      ]
    },
    {
      "cell_type": "code",
      "source": [
        "#Crie um algoritmo em Python que calcule o valor do IMC de uma pessoa\n",
        "\n",
        "#entrada\n",
        "peso = float(input('digite o seu peso em kg: '))\n",
        "print(f'Seu peso é {peso} kg')\n",
        "altura = float(input('digite a sua altura em m: '))\n",
        "print(f'Sua altura é {altura} m')\n",
        "#processamento\n",
        "IMC = peso/(altura**2)\n",
        "#saída\n",
        "print(f'{IMC}%')"
      ],
      "metadata": {
        "colab": {
          "base_uri": "https://localhost:8080/"
        },
        "id": "IJQec_XN62Iq",
        "outputId": "b98c1bc4-8de2-43d4-ac99-b7a0d5b6cf5e"
      },
      "execution_count": null,
      "outputs": [
        {
          "output_type": "stream",
          "name": "stdout",
          "text": [
            "digite o seu peso em kg: 70\n",
            "Seu peso é 70.0 kg\n",
            "digite a sua altura em m: 1.7\n",
            "Sua altura é 1.7 m\n",
            "24.221453287197235%\n"
          ]
        }
      ]
    },
    {
      "cell_type": "code",
      "source": [],
      "metadata": {
        "id": "SxlICBLCvJKw"
      },
      "execution_count": null,
      "outputs": []
    },
    {
      "cell_type": "code",
      "source": [
        "#Criar um programa que retorne o nome, a cidade e a idade de um usuário atrávés da sua data de nascimento.\n",
        "from datetime import datetime\n",
        "\n",
        "#Atribui um valor textual a variável nome\n",
        "nome = input('Digite o seu nome: ')\n",
        "\n",
        "#Atruibui um valor textual a variável nome\n",
        "cidade = input('Digite o nome da sua cidade: ')\n",
        "\n",
        "#Data de nascimento em formato de texto\n",
        "data_nasc = input('Digite a sua data de nascimento (DD/MM/YYYY): ')\n",
        "\n",
        "#Usando a biblioteca datetime - a função now pega o valor de hoje\n",
        "#Já a função strptime pega o valor em texto e converye em tipo de datetime\n",
        "idade = datetime.now() - datetime.strptime(data_nasc, '%d/%m/%Y')\n",
        "idade = idade.days // 365\n",
        "\n",
        "print(f'Seu nome é {nome}, sua cidade é {cidade} e sua idade é {idade} anos.')"
      ],
      "metadata": {
        "colab": {
          "base_uri": "https://localhost:8080/"
        },
        "id": "GaGp7DtDQ2LF",
        "outputId": "bf35e87a-b3d7-45f9-ce96-d6fb12e7555d"
      },
      "execution_count": null,
      "outputs": [
        {
          "output_type": "stream",
          "name": "stdout",
          "text": [
            "Digite o seu nome: Márcio Alves Nascimento Júnior\n",
            "Digite o nome da sua cidade: São Gabriel da Palha - ES\n",
            "Digite a sua data de nascimento (DD/MM/YYYY): 30/05/2005\n",
            "Seu nome é Márcio Alves Nascimento Júnior, sua cidade é São Gabriel da Palha - ES e sua idade é 19 anos.\n"
          ]
        }
      ]
    },
    {
      "cell_type": "code",
      "source": [
        "from datetime import datetime, date, time, timedelta\n",
        "import pytz\n",
        "\n",
        "#data_hora_atual = datetime.now()\n",
        "#print(\"Data e Hora Atual:\", data_hora_atual)\n",
        "\n",
        "fuso_horario = pytz.timezone('America/Sao_Paulo')\n",
        "data_hora_atual = datetime.now(fuso_horario)\n",
        "print(\"Data e Hora Atual:\", data_hora_atual.strftime('%d/%m/%Y e são %H:%M'))\n",
        "\n",
        "fuso_horario = pytz.timezone('Europe/Rome')\n",
        "data_hora_atual = datetime.now(fuso_horario)\n",
        "print(\"Data e Hora Atual:\", data_hora_atual.strftime('%d/%m/%Y e são %H:%M'))\n"
      ],
      "metadata": {
        "colab": {
          "base_uri": "https://localhost:8080/"
        },
        "id": "JnLjhOR4vND2",
        "outputId": "2639c2ed-1663-4734-b074-12624e06bac2"
      },
      "execution_count": null,
      "outputs": [
        {
          "output_type": "stream",
          "name": "stdout",
          "text": [
            "Data e Hora Atual: 07/03/2025 e são 15:23\n",
            "Data e Hora Atual: 07/03/2025 e são 19:23\n"
          ]
        }
      ]
    },
    {
      "cell_type": "code",
      "source": [],
      "metadata": {
        "id": "CIC1ladWYiHY"
      },
      "execution_count": null,
      "outputs": []
    },
    {
      "cell_type": "code",
      "source": [
        "#Exercícios de fixação\n",
        "\n",
        "from datetime import datetime, date, time, timedelta\n",
        "import pytz\n",
        "\n",
        "#1 Solicite a data e hora atual do sistema e exiba-a formatada no seguinte formato: \"dia de mês de ano, HH:MM:SS\".\n",
        "fuso_horario = pytz.timezone('America/Sao_Paulo')\n",
        "data_hora_atual = datetime.now(fuso_horario)\n",
        "print(\"Data e Hora Atual:\", data_hora_atual.strftime('%d do %m de %Y e são %H:%M:%S'))\n",
        "\n",
        "#2 Pedir ao usuário sua data de nascimento (no formato dd/mm/aaaa) e calcular sua idade atual.\n",
        "data_nasc = input('Digite a sua data de nascimento (DD/MM/YYYY): ')\n",
        "idade = datetime.now() - datetime.strptime(data_nasc, '%d/%m/%Y')\n",
        "idade = idade.days // 365\n",
        "print(f'Sua idade é {idade} anos.')\n",
        "\n",
        "#3 Peça ao usuário a data de um evento futuro e calcule quantos dias faltam para ele.\n",
        "data_event = input('Digite a data de um evento futuro (DD/MM/YYYY): ')\n",
        "data_event_date = datetime.strptime(data_event, '%d/%m/%Y').date()\n",
        "calc = (data_event_date - date.today()).days\n",
        "print(f'Faltam {calc} dias para o evento.')\n",
        "\n",
        "#4 Peça ao usuário uma data e informe qual o dia da semana correspondente.\n",
        "dias = ['Segunda-feira', 'Terça-feira', 'Quarta-feira', 'Quinta-feira', 'Sexta-feira', 'Sábado', 'Domingo']\n",
        "data_user = input('Digite a data desejada (dd/mm/aaaa): ')\n",
        "data_user  = datetime.strptime(data_user, '%d/%m/%Y')\n",
        "print(f'O dia da semana é: {dias[data_user.weekday()]}')\n",
        "\n",
        "#5 Exiba a data e hora atuais em três fusos horários diferentes: São Paulo, Nova York e Tóquio.\n",
        "fuso_horario = pytz.timezone('America/Sao_Paulo')\n",
        "data_hora_atual = datetime.now(fuso_horario)\n",
        "print(\"Data e Hora Atual de São Paulo:\", data_hora_atual.strftime('%d/%m/%Y e são %H:%M'))\n",
        "\n",
        "fuso_horario = pytz.timezone('America/New_York')\n",
        "data_hora_atual = datetime.now(fuso_horario)\n",
        "print(\"Data e Hora Atual de New York:\", data_hora_atual.strftime('%d/%m/%Y e são %H:%M'))\n",
        "\n",
        "fuso_horario = pytz.timezone('Asia/Tokyo')\n",
        "data_hora_atual = datetime.now(fuso_horario)\n",
        "print(\"Data e Hora Atual de Tokyo:\", data_hora_atual.strftime('%d/%m/%Y e são %H:%M'))"
      ],
      "metadata": {
        "colab": {
          "base_uri": "https://localhost:8080/"
        },
        "id": "4uNka4TQ85B6",
        "outputId": "34096e93-e7ec-4ac8-f720-17ab32daf45e"
      },
      "execution_count": null,
      "outputs": [
        {
          "output_type": "stream",
          "name": "stdout",
          "text": [
            "Data e Hora Atual: 08 do 03 de 2025 e são 16:57:17\n",
            "Digite a sua data de nascimento (DD/MM/YYYY): 30/05/2005\n",
            "Sua idade é 19 anos.\n",
            "Digite a data de um evento futuro (DD/MM/YYYY): 30/05/2025\n",
            "Faltam 83 dias para o evento.\n",
            "Digite a data desejada (dd/mm/aaaa): 30/05/2025\n",
            "O dia da semana é: Sexta-feira\n",
            "Data e Hora Atual de São Paulo: 08/03/2025 e são 16:57\n",
            "Data e Hora Atual de New York: 08/03/2025 e são 14:57\n",
            "Data e Hora Atual de Tokyo: 09/03/2025 e são 04:57\n"
          ]
        }
      ]
    },
    {
      "cell_type": "code",
      "source": [
        "#1 - Peça dois números ao usuário e exiba a soma.\n",
        "num1 = int(input('Digite o primeiro número: '))\n",
        "num2 = int(input('Digite o segundo número: '))\n",
        "soma = num1 + num2\n",
        "print(f'O resultado é {soma}')"
      ],
      "metadata": {
        "colab": {
          "base_uri": "https://localhost:8080/"
        },
        "id": "fvKfKENxYjum",
        "outputId": "174daddd-3b36-4c4a-fe2d-8ec481f4cc3e"
      },
      "execution_count": null,
      "outputs": [
        {
          "output_type": "stream",
          "name": "stdout",
          "text": [
            "Digite o primeiro número: 1\n",
            "Digite o segundo número: 2\n",
            "O resultado é 3\n"
          ]
        }
      ]
    },
    {
      "cell_type": "code",
      "source": [
        "#2 - Solicite o primeiro e o último nome do usuário e exiba o nome completo\n",
        "primeiro_nome = input('Digite seu primeiro nome: ')\n",
        "ultimo_nome = input('Digite seu sobrenome: ')\n",
        "print(f'{primeiro_nome} {ultimo_nome}')"
      ],
      "metadata": {
        "colab": {
          "base_uri": "https://localhost:8080/"
        },
        "id": "TokoGJLpZrP-",
        "outputId": "4f2b930f-c016-4f8a-e8c9-679aa6e1154e"
      },
      "execution_count": null,
      "outputs": [
        {
          "output_type": "stream",
          "name": "stdout",
          "text": [
            "Digite seu primeiro nome: Márcio\n",
            "Digite seu sobrenome: Alves Nascimento Júnior\n",
            "Márcio Alves Nascimento Júnior\n"
          ]
        }
      ]
    },
    {
      "cell_type": "code",
      "source": [
        "#3 - Peça uma palavra e um número ao usuário e exiba a palavra repetida esse número de vezes.\n",
        "palavra = input('Digite uma palavra: ')\n",
        "multiplicador = int(input('Digite quantas vezes repetir a palavra: '))\n",
        "print((palavra + '\\n') * multiplicador)"
      ],
      "metadata": {
        "colab": {
          "base_uri": "https://localhost:8080/"
        },
        "id": "3DLhAwlzaWjT",
        "outputId": "5c1455bf-c3cb-4d47-f443-d9e5d6dbbb37"
      },
      "execution_count": null,
      "outputs": [
        {
          "output_type": "stream",
          "name": "stdout",
          "text": [
            "Digite uma palavra: bola\n",
            "Digite quantas vezes repetir a palavra: 6\n",
            "bola\n",
            "bola\n",
            "bola\n",
            "bola\n",
            "bola\n",
            "bola\n",
            "\n"
          ]
        }
      ]
    },
    {
      "cell_type": "code",
      "source": [
        "#4 - Solicite um texto e exiba-o em letras maiúsculas.\n",
        "text = input('Digite um texto: ')\n",
        "print(text.upper())"
      ],
      "metadata": {
        "colab": {
          "base_uri": "https://localhost:8080/"
        },
        "id": "aPue9aILbhxo",
        "outputId": "a4581562-1c4f-4285-9910-ae7ece010c38"
      },
      "execution_count": null,
      "outputs": [
        {
          "output_type": "stream",
          "name": "stdout",
          "text": [
            "Digite um texto: terra\n",
            "TERRA\n"
          ]
        }
      ]
    },
    {
      "cell_type": "code",
      "source": [
        "#5 - Peça uma palavra e exiba quantos caracteres ela tem.\n",
        "text = input('Digite uma palavra: ')\n",
        "resultado = len(text)\n",
        "print(resultado)"
      ],
      "metadata": {
        "colab": {
          "base_uri": "https://localhost:8080/"
        },
        "id": "QsrNEbRqc1-I",
        "outputId": "f25f0079-1710-4481-c21f-bd3ada2ab182"
      },
      "execution_count": null,
      "outputs": [
        {
          "output_type": "stream",
          "name": "stdout",
          "text": [
            "Digite uma palavra: Barcelona\n",
            "9\n"
          ]
        }
      ]
    },
    {
      "cell_type": "code",
      "source": [
        "#6 - Mostre a data e a hora atuais.\n",
        "from datetime import datetime, date, time, timedelta\n",
        "import pytz\n",
        "\n",
        "fuso_horario = pytz.timezone('America/Sao_Paulo')\n",
        "data_hora_atual = datetime.now(fuso_horario)\n",
        "print(\"Data e Hora Atual:\", data_hora_atual.strftime('%d do %m de %Y e são %H:%M:%S'))"
      ],
      "metadata": {
        "colab": {
          "base_uri": "https://localhost:8080/"
        },
        "id": "ihDCSAOGfNir",
        "outputId": "a638d73b-18f6-4c37-97a3-07e627fc6628"
      },
      "execution_count": null,
      "outputs": [
        {
          "output_type": "stream",
          "name": "stdout",
          "text": [
            "Data e Hora Atual: 13 do 03 de 2025 e são 14:12:36\n"
          ]
        }
      ]
    },
    {
      "cell_type": "code",
      "source": [
        "#7 - Solicite o ano de nascimento do usuário e calcule a idade aproximada.\n",
        "from datetime import datetime\n",
        "\n",
        "data_nasc = int(input('Digite o seu ano de nascimento: '))\n",
        "data_atual = datetime.now().year\n",
        "calc = data_atual - data_nasc\n",
        "print(f' Sua idade é: {calc}')"
      ],
      "metadata": {
        "colab": {
          "base_uri": "https://localhost:8080/"
        },
        "id": "WbV1xMc_frms",
        "outputId": "56264a0b-e67e-4a8a-bea2-045343452d5f"
      },
      "execution_count": null,
      "outputs": [
        {
          "output_type": "stream",
          "name": "stdout",
          "text": [
            "Digite o seu ano de nascimento: 2005\n",
            " Sua idade é: 20\n"
          ]
        }
      ]
    },
    {
      "cell_type": "code",
      "source": [
        "#8 - Peça três números ao usuário e exiba a média aritmética.\n",
        "num1 = float(input('Digite o primeiro número: '))\n",
        "num2 = float(input('Digite o segundo número: '))\n",
        "num3 = float(input('Digite o terceiro número: '))\n",
        "result = (num1 + num2 + num3) / 3\n",
        "print(result)"
      ],
      "metadata": {
        "colab": {
          "base_uri": "https://localhost:8080/"
        },
        "id": "GwolV7VtjW1d",
        "outputId": "f8d53e82-3e45-4325-e4dc-cd634889ed4c"
      },
      "execution_count": 24,
      "outputs": [
        {
          "output_type": "stream",
          "name": "stdout",
          "text": [
            "Digite o primeiro número: 3.5\n",
            "Digite o segundo número: 3.5\n",
            "Digite o terceiro número: 3.5\n",
            "3.5\n"
          ]
        }
      ]
    },
    {
      "cell_type": "code",
      "source": [
        "#9 - Solicite a data de nascimento do usuário no formato AAAA-MM-DD e calcule aproximadamente quantos dias ele já viveu.\n",
        "from datetime import datetime, date, time, timedelta\n",
        "import pytz\n",
        "\n",
        "data_nasc = input('Digite sua data de nascimento (dd/mm/aaaa): ')\n",
        "idade = datetime.now() - datetime.strptime(data_nasc, '%d/%m/%Y')\n",
        "idade = idade.days\n",
        "print(f'Você viveu {idade} dias.')\n"
      ],
      "metadata": {
        "id": "ACxPRYv2kUo1",
        "colab": {
          "base_uri": "https://localhost:8080/"
        },
        "outputId": "4eb3655f-3b6a-46a9-b00d-452860c7170c"
      },
      "execution_count": 6,
      "outputs": [
        {
          "output_type": "stream",
          "name": "stdout",
          "text": [
            "Digite sua data de nascimento (dd/mm/aaaa): 30/05/2005\n",
            "Você viveu 7228 dias.\n"
          ]
        }
      ]
    },
    {
      "cell_type": "code",
      "source": [
        "#10 - Solicite uma data no formato AAAA-MM-DD e exiba-a no formato DD/MM/AAAA.\n",
        "from datetime import datetime\n",
        "\n",
        "data_nasc1 = input('Digite sua data de nascimento no formato (aaaa-mm-dd): ')\n",
        "data_nasc1 = datetime.strptime(data_nasc1, '%Y-%m-%d')\n",
        "data_nasc2 = datetime.strftime(data_nasc1, '%d/%m/%Y')\n",
        "print(data_nasc2)"
      ],
      "metadata": {
        "colab": {
          "base_uri": "https://localhost:8080/"
        },
        "id": "9p4lo67V01Ig",
        "outputId": "960be09f-76fd-4578-d21e-d5c64b4c7e66"
      },
      "execution_count": 9,
      "outputs": [
        {
          "output_type": "stream",
          "name": "stdout",
          "text": [
            "Digite sua data de nascimento no formato (aaaa-mm-dd): 2005-05-30\n",
            "30/05/2005\n"
          ]
        }
      ]
    },
    {
      "cell_type": "code",
      "source": [
        "#11 - Solicite o raio de um círculo e calcule sua área.\n",
        "import math\n",
        "\n",
        "raio = float(input('Digite o raio do círculo em cm: '))\n",
        "calc = math.pi * pow(raio, 2)\n",
        "print(f'A área do seu círuclo é: {calc}')"
      ],
      "metadata": {
        "colab": {
          "base_uri": "https://localhost:8080/"
        },
        "id": "4x0j5ES94U6D",
        "outputId": "46e9bd03-3afc-4326-fcb8-84e09116f083"
      },
      "execution_count": 10,
      "outputs": [
        {
          "output_type": "stream",
          "name": "stdout",
          "text": [
            "Digite o raio do círculo em cm: 5\n",
            "A área do seu círuclo é: 78.53981633974483\n"
          ]
        }
      ]
    },
    {
      "cell_type": "code",
      "source": [
        "#12 - Solicite o peso e a altura da pessoa e calcule o IMC.\n",
        "\n",
        "peso = float(input('Digite seu peso em kg: '))\n",
        "altura = float(input('Digite sua altura em m: '))\n",
        "calc = peso / pow(altura, 2)\n",
        "print(f'Seu IMC é: {calc}')"
      ],
      "metadata": {
        "colab": {
          "base_uri": "https://localhost:8080/"
        },
        "id": "9qIJlwOW57uf",
        "outputId": "6c4acafb-e788-429b-8dd1-d98880897ee3"
      },
      "execution_count": 13,
      "outputs": [
        {
          "output_type": "stream",
          "name": "stdout",
          "text": [
            "Digite seu peso em kg: 70.5\n",
            "Digite sua altura em m: 1.74\n",
            "Seu IMC é: 23.285770907649624\n"
          ]
        }
      ]
    },
    {
      "cell_type": "code",
      "source": [
        "#13 - Peça a altura e a base de um trapézio e calcule a sua área.\n",
        "import math\n",
        "\n",
        "B = float(input('Digite a base maior: '))\n",
        "b = float(input('Digite a base menor: '))\n",
        "h = float(input('Digite a altura: '))\n",
        "calc = ((B + b)*h) / 2\n",
        "print(f'A área do trapézio é: {calc}.')"
      ],
      "metadata": {
        "colab": {
          "base_uri": "https://localhost:8080/"
        },
        "id": "zcnBVPnz6pw_",
        "outputId": "0f92bd79-7580-474a-9274-d0f4bacec375"
      },
      "execution_count": 17,
      "outputs": [
        {
          "output_type": "stream",
          "name": "stdout",
          "text": [
            "Digite a base maior: 5\n",
            "Digite a base menor: 2\n",
            "Digite a altura: 3\n",
            "A área do trapézio é: 10.5.\n"
          ]
        }
      ]
    },
    {
      "cell_type": "code",
      "source": [
        "#14 - Solicite uma temperatura em Celsius e converta-a para Fahrenheit.\n",
        "\n",
        "temperatura_c = float(input('Digite a temperatura em Celsius: '))\n",
        "temperatura_f = ((9/5) * temperatura_c) + 32\n",
        "print(f'Sua temperatura em Fahrenheit é: {temperatura_f}')"
      ],
      "metadata": {
        "colab": {
          "base_uri": "https://localhost:8080/"
        },
        "id": "cVV2TIBPCeeA",
        "outputId": "afed2349-4f95-4886-ea09-67531eff0c7a"
      },
      "execution_count": 19,
      "outputs": [
        {
          "output_type": "stream",
          "name": "stdout",
          "text": [
            "Digite a temperatura em Celsius: 30\n",
            "Sua temperatura em Fahrenheit é: 86.0\n"
          ]
        }
      ]
    },
    {
      "cell_type": "code",
      "source": [
        "#15 - Peça um número e exiba o fatorial dele.\n",
        "import math\n",
        "\n",
        "num1 = int(input('Digite um número: '))\n",
        "fatorial = 1\n",
        "for i in range(1, num1 + 1):\n",
        "  fatorial *= i\n",
        "print(f' fatorial de {num1} é {fatorial}.')"
      ],
      "metadata": {
        "colab": {
          "base_uri": "https://localhost:8080/"
        },
        "id": "_h9J8OU0DOkh",
        "outputId": "8e135785-cbf2-4ef7-ce33-7a6eeb65322e"
      },
      "execution_count": 21,
      "outputs": [
        {
          "output_type": "stream",
          "name": "stdout",
          "text": [
            "Digite um número: 10\n",
            " fatorial de 10 é 3628800.\n"
          ]
        }
      ]
    }
  ]
}