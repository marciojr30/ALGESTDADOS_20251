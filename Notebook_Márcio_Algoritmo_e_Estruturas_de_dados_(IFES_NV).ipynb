{
  "nbformat": 4,
  "nbformat_minor": 0,
  "metadata": {
    "colab": {
      "provenance": [],
      "authorship_tag": "ABX9TyMLFgIz5ODV8KheR5o+NuwE",
      "include_colab_link": true
    },
    "kernelspec": {
      "name": "python3",
      "display_name": "Python 3"
    },
    "language_info": {
      "name": "python"
    }
  },
  "cells": [
    {
      "cell_type": "markdown",
      "metadata": {
        "id": "view-in-github",
        "colab_type": "text"
      },
      "source": [
        "<a href=\"https://colab.research.google.com/github/marciojr30/ALGESTDADOS_20251/blob/main/Notebook_M%C3%A1rcio_Algoritmo_e_Estruturas_de_dados_(IFES_NV).ipynb\" target=\"_parent\"><img src=\"https://colab.research.google.com/assets/colab-badge.svg\" alt=\"Open In Colab\"/></a>"
      ]
    },
    {
      "cell_type": "code",
      "execution_count": null,
      "metadata": {
        "colab": {
          "base_uri": "https://localhost:8080/"
        },
        "id": "a8oLfqFOZtda",
        "outputId": "3ee26709-773b-4b0c-80a1-754605ae4f2d"
      },
      "outputs": [
        {
          "output_type": "stream",
          "name": "stdout",
          "text": [
            "3570\n"
          ]
        }
      ],
      "source": [
        "#Soma de dois números conhecidos em Python\n",
        "num1 = 1930\n",
        "num2 = 1640\n",
        "resultado = num1 + num2\n",
        "print (resultado)\n"
      ]
    },
    {
      "cell_type": "code",
      "source": [
        "#Soma de dois números desconhecidos em Python\n",
        "num1 = int(input('digite o primeiro número: '))\n",
        "num2 = int(input('digite o segundo número: '))\n",
        "resultado = num1 + num2\n",
        "print (resultado)"
      ],
      "metadata": {
        "colab": {
          "base_uri": "https://localhost:8080/"
        },
        "id": "sMETew2nbQiy",
        "outputId": "f0edccb4-b466-4a03-fe99-9d1f8e622c54"
      },
      "execution_count": null,
      "outputs": [
        {
          "output_type": "stream",
          "name": "stdout",
          "text": [
            "digite o primeiro número: 1\n",
            "digite o segundo número: 2\n",
            "3\n"
          ]
        }
      ]
    },
    {
      "cell_type": "code",
      "source": [
        "#Crie um algoritmo em Python que calcule o valor do IMC de uma pessoa\n",
        "\n",
        "#entrada\n",
        "peso = float(input('digite o seu peso em kg: '))\n",
        "print(f'Seu peso é {peso} kg')\n",
        "altura = float(input('digite a sua altura em m: '))\n",
        "print(f'Sua altura é {altura} m')\n",
        "#processamento\n",
        "IMC = peso/(altura**2)\n",
        "#saída\n",
        "print(f'{IMC}%')"
      ],
      "metadata": {
        "colab": {
          "base_uri": "https://localhost:8080/"
        },
        "id": "IJQec_XN62Iq",
        "outputId": "b98c1bc4-8de2-43d4-ac99-b7a0d5b6cf5e"
      },
      "execution_count": null,
      "outputs": [
        {
          "output_type": "stream",
          "name": "stdout",
          "text": [
            "digite o seu peso em kg: 70\n",
            "Seu peso é 70.0 kg\n",
            "digite a sua altura em m: 1.7\n",
            "Sua altura é 1.7 m\n",
            "24.221453287197235%\n"
          ]
        }
      ]
    },
    {
      "cell_type": "code",
      "source": [
        "#Criar um programa que retorne o nome, a cidade e a idade de um usuário atrávés da sua data de nascimento.\n",
        "from datetime import datetime\n",
        "\n",
        "#Atribui um valor textual a variável nome\n",
        "nome = input('Digite o seu nome: ')\n",
        "\n",
        "#Atruibui um valor textual a variável nome\n",
        "cidade = input('Digite o nome da sua cidade: ')\n",
        "\n",
        "#Data de nascimento em formato de texto\n",
        "data_nasc = input('Digite a sua data de nascimento (DD/MM/YYYY): ')\n",
        "\n",
        "#Usando a biblioteca datetime - a função now pega o valor de hoje\n",
        "#Já a função strptime pega o valor em texto e converye em tipo de datetime\n",
        "idade = datetime.now() - datetime.strptime(data_nasc, '%d/%m/%Y')\n",
        "idade = idade.days // 365\n",
        "\n",
        "print(f'Seu nome é {nome}, sua cidade é {cidade} e sua idade é {idade} anos.')"
      ],
      "metadata": {
        "colab": {
          "base_uri": "https://localhost:8080/"
        },
        "id": "GaGp7DtDQ2LF",
        "outputId": "bf35e87a-b3d7-45f9-ce96-d6fb12e7555d"
      },
      "execution_count": 3,
      "outputs": [
        {
          "output_type": "stream",
          "name": "stdout",
          "text": [
            "Digite o seu nome: Márcio Alves Nascimento Júnior\n",
            "Digite o nome da sua cidade: São Gabriel da Palha - ES\n",
            "Digite a sua data de nascimento (DD/MM/YYYY): 30/05/2005\n",
            "Seu nome é Márcio Alves Nascimento Júnior, sua cidade é São Gabriel da Palha - ES e sua idade é 19 anos.\n"
          ]
        }
      ]
    }
  ]
}