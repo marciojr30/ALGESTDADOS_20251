{
  "nbformat": 4,
  "nbformat_minor": 0,
  "metadata": {
    "colab": {
      "provenance": [],
      "authorship_tag": "ABX9TyNjzuNmKiw0PV/cS9j+HoH6",
      "include_colab_link": true
    },
    "kernelspec": {
      "name": "python3",
      "display_name": "Python 3"
    },
    "language_info": {
      "name": "python"
    }
  },
  "cells": [
    {
      "cell_type": "markdown",
      "metadata": {
        "id": "view-in-github",
        "colab_type": "text"
      },
      "source": [
        "<a href=\"https://colab.research.google.com/github/marciojr30/ALGESTDADOS_20251/blob/main/Notebook_M%C3%A1rcio_Algoritmo_e_Estruturas_de_dados_(IFES_NV).ipynb\" target=\"_parent\"><img src=\"https://colab.research.google.com/assets/colab-badge.svg\" alt=\"Open In Colab\"/></a>"
      ]
    },
    {
      "cell_type": "code",
      "execution_count": null,
      "metadata": {
        "colab": {
          "base_uri": "https://localhost:8080/"
        },
        "id": "a8oLfqFOZtda",
        "outputId": "3ee26709-773b-4b0c-80a1-754605ae4f2d"
      },
      "outputs": [
        {
          "output_type": "stream",
          "name": "stdout",
          "text": [
            "3570\n"
          ]
        }
      ],
      "source": [
        "#Soma de dois números conhecidos em Python\n",
        "num1 = 1930\n",
        "num2 = 1640\n",
        "resultado = num1 + num2\n",
        "print (resultado)\n"
      ]
    },
    {
      "cell_type": "code",
      "source": [
        "#Soma de dois números desconhecidos em Python\n",
        "num1 = int(input('digite o primeiro número: '))\n",
        "num2 = int(input('digite o segundo número: '))\n",
        "resultado = num1 + num2\n",
        "print (resultado)"
      ],
      "metadata": {
        "colab": {
          "base_uri": "https://localhost:8080/"
        },
        "id": "sMETew2nbQiy",
        "outputId": "f0edccb4-b466-4a03-fe99-9d1f8e622c54"
      },
      "execution_count": null,
      "outputs": [
        {
          "output_type": "stream",
          "name": "stdout",
          "text": [
            "digite o primeiro número: 1\n",
            "digite o segundo número: 2\n",
            "3\n"
          ]
        }
      ]
    },
    {
      "cell_type": "code",
      "source": [
        "#Crie um algoritmo em Python que calcule o valor do IMC de uma pessoa\n",
        "\n",
        "#entrada\n",
        "peso = float(input('digite o seu peso em kg: '))\n",
        "print(f'Seu peso é {peso} kg')\n",
        "altura = float(input('digite a sua altura em m: '))\n",
        "print(f'Sua altura é {altura} m')\n",
        "#processamento\n",
        "IMC = peso/(altura**2)\n",
        "#saída\n",
        "print(f'{IMC}%')"
      ],
      "metadata": {
        "colab": {
          "base_uri": "https://localhost:8080/"
        },
        "id": "IJQec_XN62Iq",
        "outputId": "b98c1bc4-8de2-43d4-ac99-b7a0d5b6cf5e"
      },
      "execution_count": null,
      "outputs": [
        {
          "output_type": "stream",
          "name": "stdout",
          "text": [
            "digite o seu peso em kg: 70\n",
            "Seu peso é 70.0 kg\n",
            "digite a sua altura em m: 1.7\n",
            "Sua altura é 1.7 m\n",
            "24.221453287197235%\n"
          ]
        }
      ]
    },
    {
      "cell_type": "code",
      "source": [],
      "metadata": {
        "id": "SxlICBLCvJKw"
      },
      "execution_count": null,
      "outputs": []
    },
    {
      "cell_type": "code",
      "source": [
        "#Criar um programa que retorne o nome, a cidade e a idade de um usuário atrávés da sua data de nascimento.\n",
        "from datetime import datetime\n",
        "\n",
        "#Atribui um valor textual a variável nome\n",
        "nome = input('Digite o seu nome: ')\n",
        "\n",
        "#Atruibui um valor textual a variável nome\n",
        "cidade = input('Digite o nome da sua cidade: ')\n",
        "\n",
        "#Data de nascimento em formato de texto\n",
        "data_nasc = input('Digite a sua data de nascimento (DD/MM/YYYY): ')\n",
        "\n",
        "#Usando a biblioteca datetime - a função now pega o valor de hoje\n",
        "#Já a função strptime pega o valor em texto e converye em tipo de datetime\n",
        "idade = datetime.now() - datetime.strptime(data_nasc, '%d/%m/%Y')\n",
        "idade = idade.days // 365\n",
        "\n",
        "print(f'Seu nome é {nome}, sua cidade é {cidade} e sua idade é {idade} anos.')"
      ],
      "metadata": {
        "colab": {
          "base_uri": "https://localhost:8080/"
        },
        "id": "GaGp7DtDQ2LF",
        "outputId": "bf35e87a-b3d7-45f9-ce96-d6fb12e7555d"
      },
      "execution_count": null,
      "outputs": [
        {
          "output_type": "stream",
          "name": "stdout",
          "text": [
            "Digite o seu nome: Márcio Alves Nascimento Júnior\n",
            "Digite o nome da sua cidade: São Gabriel da Palha - ES\n",
            "Digite a sua data de nascimento (DD/MM/YYYY): 30/05/2005\n",
            "Seu nome é Márcio Alves Nascimento Júnior, sua cidade é São Gabriel da Palha - ES e sua idade é 19 anos.\n"
          ]
        }
      ]
    },
    {
      "cell_type": "code",
      "source": [
        "from datetime import datetime, date, time, timedelta\n",
        "import pytz\n",
        "\n",
        "#data_hora_atual = datetime.now()\n",
        "#print(\"Data e Hora Atual:\", data_hora_atual)\n",
        "\n",
        "fuso_horario = pytz.timezone('America/Sao_Paulo')\n",
        "data_hora_atual = datetime.now(fuso_horario)\n",
        "print(\"Data e Hora Atual:\", data_hora_atual.strftime('%d/%m/%Y e são %H:%M'))\n",
        "\n",
        "fuso_horario = pytz.timezone('Europe/Rome')\n",
        "data_hora_atual = datetime.now(fuso_horario)\n",
        "print(\"Data e Hora Atual:\", data_hora_atual.strftime('%d/%m/%Y e são %H:%M'))\n"
      ],
      "metadata": {
        "colab": {
          "base_uri": "https://localhost:8080/"
        },
        "id": "JnLjhOR4vND2",
        "outputId": "2639c2ed-1663-4734-b074-12624e06bac2"
      },
      "execution_count": null,
      "outputs": [
        {
          "output_type": "stream",
          "name": "stdout",
          "text": [
            "Data e Hora Atual: 07/03/2025 e são 15:23\n",
            "Data e Hora Atual: 07/03/2025 e são 19:23\n"
          ]
        }
      ]
    },
    {
      "cell_type": "code",
      "source": [],
      "metadata": {
        "id": "CIC1ladWYiHY"
      },
      "execution_count": null,
      "outputs": []
    },
    {
      "cell_type": "code",
      "source": [
        "#Exercícios de fixação\n",
        "\n",
        "from datetime import datetime, date, time, timedelta\n",
        "import pytz\n",
        "\n",
        "#1 Solicite a data e hora atual do sistema e exiba-a formatada no seguinte formato: \"dia de mês de ano, HH:MM:SS\".\n",
        "fuso_horario = pytz.timezone('America/Sao_Paulo')\n",
        "data_hora_atual = datetime.now(fuso_horario)\n",
        "print(\"Data e Hora Atual:\", data_hora_atual.strftime('%d do %m de %Y e são %H:%M:%S'))\n",
        "\n",
        "#2 Pedir ao usuário sua data de nascimento (no formato dd/mm/aaaa) e calcular sua idade atual.\n",
        "data_nasc = input('Digite a sua data de nascimento (DD/MM/YYYY): ')\n",
        "idade = datetime.now() - datetime.strptime(data_nasc, '%d/%m/%Y')\n",
        "idade = idade.days // 365\n",
        "print(f'Sua idade é {idade} anos.')\n",
        "\n",
        "#3 Peça ao usuário a data de um evento futuro e calcule quantos dias faltam para ele.\n",
        "data_event = input('Digite a data de um evento futuro (DD/MM/YYYY): ')\n",
        "data_event_date = datetime.strptime(data_event, '%d/%m/%Y').date()\n",
        "calc = (data_event_date - date.today()).days\n",
        "print(f'Faltam {calc} dias para o evento.')\n",
        "\n",
        "#4 Peça ao usuário uma data e informe qual o dia da semana correspondente.\n",
        "dias = ['Segunda-feira', 'Terça-feira', 'Quarta-feira', 'Quinta-feira', 'Sexta-feira', 'Sábado', 'Domingo']\n",
        "data_user = input('Digite a data desejada (dd/mm/aaaa): ')\n",
        "data_user  = datetime.strptime(data_user, '%d/%m/%Y')\n",
        "print(f'O dia da semana é: {dias[data_user.weekday()]}')\n",
        "\n",
        "#5 Exiba a data e hora atuais em três fusos horários diferentes: São Paulo, Nova York e Tóquio.\n",
        "fuso_horario = pytz.timezone('America/Sao_Paulo')\n",
        "data_hora_atual = datetime.now(fuso_horario)\n",
        "print(\"Data e Hora Atual de São Paulo:\", data_hora_atual.strftime('%d/%m/%Y e são %H:%M'))\n",
        "\n",
        "fuso_horario = pytz.timezone('America/New_York')\n",
        "data_hora_atual = datetime.now(fuso_horario)\n",
        "print(\"Data e Hora Atual de New York:\", data_hora_atual.strftime('%d/%m/%Y e são %H:%M'))\n",
        "\n",
        "fuso_horario = pytz.timezone('Asia/Tokyo')\n",
        "data_hora_atual = datetime.now(fuso_horario)\n",
        "print(\"Data e Hora Atual de Tokyo:\", data_hora_atual.strftime('%d/%m/%Y e são %H:%M'))"
      ],
      "metadata": {
        "colab": {
          "base_uri": "https://localhost:8080/"
        },
        "id": "4uNka4TQ85B6",
        "outputId": "34096e93-e7ec-4ac8-f720-17ab32daf45e"
      },
      "execution_count": null,
      "outputs": [
        {
          "output_type": "stream",
          "name": "stdout",
          "text": [
            "Data e Hora Atual: 08 do 03 de 2025 e são 16:57:17\n",
            "Digite a sua data de nascimento (DD/MM/YYYY): 30/05/2005\n",
            "Sua idade é 19 anos.\n",
            "Digite a data de um evento futuro (DD/MM/YYYY): 30/05/2025\n",
            "Faltam 83 dias para o evento.\n",
            "Digite a data desejada (dd/mm/aaaa): 30/05/2025\n",
            "O dia da semana é: Sexta-feira\n",
            "Data e Hora Atual de São Paulo: 08/03/2025 e são 16:57\n",
            "Data e Hora Atual de New York: 08/03/2025 e são 14:57\n",
            "Data e Hora Atual de Tokyo: 09/03/2025 e são 04:57\n"
          ]
        }
      ]
    },
    {
      "cell_type": "code",
      "source": [
        "#1 - Peça dois números ao usuário e exiba a soma.\n",
        "num1 = int(input('Digite o primeiro número: '))\n",
        "num2 = int(input('Digite o segundo número: '))\n",
        "soma = num1 + num2\n",
        "print(f'O resultado é {soma}')"
      ],
      "metadata": {
        "colab": {
          "base_uri": "https://localhost:8080/"
        },
        "id": "fvKfKENxYjum",
        "outputId": "174daddd-3b36-4c4a-fe2d-8ec481f4cc3e"
      },
      "execution_count": null,
      "outputs": [
        {
          "output_type": "stream",
          "name": "stdout",
          "text": [
            "Digite o primeiro número: 1\n",
            "Digite o segundo número: 2\n",
            "O resultado é 3\n"
          ]
        }
      ]
    },
    {
      "cell_type": "code",
      "source": [
        "#2 - Solicite o primeiro e o último nome do usuário e exiba o nome completo\n",
        "primeiro_nome = input('Digite seu primeiro nome: ')\n",
        "ultimo_nome = input('Digite seu sobrenome: ')\n",
        "print(f'{primeiro_nome} {ultimo_nome}')"
      ],
      "metadata": {
        "colab": {
          "base_uri": "https://localhost:8080/"
        },
        "id": "TokoGJLpZrP-",
        "outputId": "4f2b930f-c016-4f8a-e8c9-679aa6e1154e"
      },
      "execution_count": null,
      "outputs": [
        {
          "output_type": "stream",
          "name": "stdout",
          "text": [
            "Digite seu primeiro nome: Márcio\n",
            "Digite seu sobrenome: Alves Nascimento Júnior\n",
            "Márcio Alves Nascimento Júnior\n"
          ]
        }
      ]
    },
    {
      "cell_type": "code",
      "source": [
        "#3 - Peça uma palavra e um número ao usuário e exiba a palavra repetida esse número de vezes.\n",
        "palavra = input('Digite uma palavra: ')\n",
        "multiplicador = int(input('Digite quantas vezes repetir a palavra: '))\n",
        "print((palavra + '\\n') * multiplicador)"
      ],
      "metadata": {
        "colab": {
          "base_uri": "https://localhost:8080/"
        },
        "id": "3DLhAwlzaWjT",
        "outputId": "5c1455bf-c3cb-4d47-f443-d9e5d6dbbb37"
      },
      "execution_count": null,
      "outputs": [
        {
          "output_type": "stream",
          "name": "stdout",
          "text": [
            "Digite uma palavra: bola\n",
            "Digite quantas vezes repetir a palavra: 6\n",
            "bola\n",
            "bola\n",
            "bola\n",
            "bola\n",
            "bola\n",
            "bola\n",
            "\n"
          ]
        }
      ]
    },
    {
      "cell_type": "code",
      "source": [
        "#4 - Solicite um texto e exiba-o em letras maiúsculas.\n",
        "text = input('Digite um texto: ')\n",
        "print(text.upper())"
      ],
      "metadata": {
        "colab": {
          "base_uri": "https://localhost:8080/"
        },
        "id": "aPue9aILbhxo",
        "outputId": "a4581562-1c4f-4285-9910-ae7ece010c38"
      },
      "execution_count": null,
      "outputs": [
        {
          "output_type": "stream",
          "name": "stdout",
          "text": [
            "Digite um texto: terra\n",
            "TERRA\n"
          ]
        }
      ]
    },
    {
      "cell_type": "code",
      "source": [
        "#5 - Peça uma palavra e exiba quantos caracteres ela tem.\n",
        "text = input('Digite uma palavra: ')\n",
        "resultado = len(text)\n",
        "print(resultado)"
      ],
      "metadata": {
        "colab": {
          "base_uri": "https://localhost:8080/"
        },
        "id": "QsrNEbRqc1-I",
        "outputId": "f25f0079-1710-4481-c21f-bd3ada2ab182"
      },
      "execution_count": null,
      "outputs": [
        {
          "output_type": "stream",
          "name": "stdout",
          "text": [
            "Digite uma palavra: Barcelona\n",
            "9\n"
          ]
        }
      ]
    },
    {
      "cell_type": "code",
      "source": [
        "#6 - Mostre a data e a hora atuais.\n",
        "from datetime import datetime, date, time, timedelta\n",
        "import pytz\n",
        "\n",
        "fuso_horario = pytz.timezone('America/Sao_Paulo')\n",
        "data_hora_atual = datetime.now(fuso_horario)\n",
        "print(\"Data e Hora Atual:\", data_hora_atual.strftime('%d do %m de %Y e são %H:%M:%S'))"
      ],
      "metadata": {
        "colab": {
          "base_uri": "https://localhost:8080/"
        },
        "id": "ihDCSAOGfNir",
        "outputId": "a638d73b-18f6-4c37-97a3-07e627fc6628"
      },
      "execution_count": null,
      "outputs": [
        {
          "output_type": "stream",
          "name": "stdout",
          "text": [
            "Data e Hora Atual: 13 do 03 de 2025 e são 14:12:36\n"
          ]
        }
      ]
    },
    {
      "cell_type": "code",
      "source": [
        "#7 - Solicite o ano de nascimento do usuário e calcule a idade aproximada.\n",
        "from datetime import datetime\n",
        "\n",
        "data_nasc = int(input('Digite o seu ano de nascimento: '))\n",
        "data_atual = datetime.now().year\n",
        "calc = data_atual - data_nasc\n",
        "print(f' Sua idade é: {calc}')"
      ],
      "metadata": {
        "colab": {
          "base_uri": "https://localhost:8080/"
        },
        "id": "WbV1xMc_frms",
        "outputId": "56264a0b-e67e-4a8a-bea2-045343452d5f"
      },
      "execution_count": null,
      "outputs": [
        {
          "output_type": "stream",
          "name": "stdout",
          "text": [
            "Digite o seu ano de nascimento: 2005\n",
            " Sua idade é: 20\n"
          ]
        }
      ]
    },
    {
      "cell_type": "code",
      "source": [
        "#8 - Peça três números ao usuário e exiba a média aritmética.\n",
        "num1 = float(input('Digite o primeiro número: '))\n",
        "num2 = float(input('Digite o segundo número: '))\n",
        "num3 = float(input('Digite o terceiro número: '))\n",
        "result = (num1 + num2 + num3) / 3\n",
        "print(result)"
      ],
      "metadata": {
        "colab": {
          "base_uri": "https://localhost:8080/"
        },
        "id": "GwolV7VtjW1d",
        "outputId": "f8d53e82-3e45-4325-e4dc-cd634889ed4c"
      },
      "execution_count": null,
      "outputs": [
        {
          "output_type": "stream",
          "name": "stdout",
          "text": [
            "Digite o primeiro número: 3.5\n",
            "Digite o segundo número: 3.5\n",
            "Digite o terceiro número: 3.5\n",
            "3.5\n"
          ]
        }
      ]
    },
    {
      "cell_type": "code",
      "source": [
        "#9 - Solicite a data de nascimento do usuário no formato AAAA-MM-DD e calcule aproximadamente quantos dias ele já viveu.\n",
        "from datetime import datetime, date, time, timedelta\n",
        "import pytz\n",
        "\n",
        "data_nasc = input('Digite sua data de nascimento (dd/mm/aaaa): ')\n",
        "idade = datetime.now() - datetime.strptime(data_nasc, '%d/%m/%Y')\n",
        "idade = idade.days\n",
        "print(f'Você viveu {idade} dias.')\n"
      ],
      "metadata": {
        "id": "ACxPRYv2kUo1",
        "colab": {
          "base_uri": "https://localhost:8080/"
        },
        "outputId": "4eb3655f-3b6a-46a9-b00d-452860c7170c"
      },
      "execution_count": null,
      "outputs": [
        {
          "output_type": "stream",
          "name": "stdout",
          "text": [
            "Digite sua data de nascimento (dd/mm/aaaa): 30/05/2005\n",
            "Você viveu 7228 dias.\n"
          ]
        }
      ]
    },
    {
      "cell_type": "code",
      "source": [
        "#10 - Solicite uma data no formato AAAA-MM-DD e exiba-a no formato DD/MM/AAAA.\n",
        "from datetime import datetime\n",
        "\n",
        "data_nasc1 = input('Digite sua data de nascimento no formato (aaaa-mm-dd): ')\n",
        "data_nasc1 = datetime.strptime(data_nasc1, '%Y-%m-%d')\n",
        "data_nasc2 = datetime.strftime(data_nasc1, '%d/%m/%Y')\n",
        "print(data_nasc2)"
      ],
      "metadata": {
        "colab": {
          "base_uri": "https://localhost:8080/"
        },
        "id": "9p4lo67V01Ig",
        "outputId": "960be09f-76fd-4578-d21e-d5c64b4c7e66"
      },
      "execution_count": null,
      "outputs": [
        {
          "output_type": "stream",
          "name": "stdout",
          "text": [
            "Digite sua data de nascimento no formato (aaaa-mm-dd): 2005-05-30\n",
            "30/05/2005\n"
          ]
        }
      ]
    },
    {
      "cell_type": "code",
      "source": [
        "#11 - Solicite o raio de um círculo e calcule sua área.\n",
        "import math\n",
        "\n",
        "raio = float(input('Digite o raio do círculo em cm: '))\n",
        "calc = math.pi * pow(raio, 2)\n",
        "print(f'A área do seu círuclo é: {calc}')"
      ],
      "metadata": {
        "colab": {
          "base_uri": "https://localhost:8080/"
        },
        "id": "4x0j5ES94U6D",
        "outputId": "46e9bd03-3afc-4326-fcb8-84e09116f083"
      },
      "execution_count": null,
      "outputs": [
        {
          "output_type": "stream",
          "name": "stdout",
          "text": [
            "Digite o raio do círculo em cm: 5\n",
            "A área do seu círuclo é: 78.53981633974483\n"
          ]
        }
      ]
    },
    {
      "cell_type": "code",
      "source": [
        "#12 - Solicite o peso e a altura da pessoa e calcule o IMC.\n",
        "\n",
        "peso = float(input('Digite seu peso em kg: '))\n",
        "altura = float(input('Digite sua altura em m: '))\n",
        "calc = peso / pow(altura, 2)\n",
        "print(f'Seu IMC é: {calc}')"
      ],
      "metadata": {
        "colab": {
          "base_uri": "https://localhost:8080/"
        },
        "id": "9qIJlwOW57uf",
        "outputId": "6c4acafb-e788-429b-8dd1-d98880897ee3"
      },
      "execution_count": null,
      "outputs": [
        {
          "output_type": "stream",
          "name": "stdout",
          "text": [
            "Digite seu peso em kg: 70.5\n",
            "Digite sua altura em m: 1.74\n",
            "Seu IMC é: 23.285770907649624\n"
          ]
        }
      ]
    },
    {
      "cell_type": "code",
      "source": [
        "#13 - Peça a altura e a base de um trapézio e calcule a sua área.\n",
        "import math\n",
        "\n",
        "B = float(input('Digite a base maior: '))\n",
        "b = float(input('Digite a base menor: '))\n",
        "h = float(input('Digite a altura: '))\n",
        "calc = ((B + b)*h) / 2\n",
        "print(f'A área do trapézio é: {calc}.')"
      ],
      "metadata": {
        "colab": {
          "base_uri": "https://localhost:8080/"
        },
        "id": "zcnBVPnz6pw_",
        "outputId": "0f92bd79-7580-474a-9274-d0f4bacec375"
      },
      "execution_count": null,
      "outputs": [
        {
          "output_type": "stream",
          "name": "stdout",
          "text": [
            "Digite a base maior: 5\n",
            "Digite a base menor: 2\n",
            "Digite a altura: 3\n",
            "A área do trapézio é: 10.5.\n"
          ]
        }
      ]
    },
    {
      "cell_type": "code",
      "source": [
        "#14 - Solicite uma temperatura em Celsius e converta-a para Fahrenheit.\n",
        "\n",
        "temperatura_c = float(input('Digite a temperatura em Celsius: '))\n",
        "temperatura_f = ((9/5) * temperatura_c) + 32\n",
        "print(f'Sua temperatura em Fahrenheit é: {temperatura_f}')"
      ],
      "metadata": {
        "colab": {
          "base_uri": "https://localhost:8080/"
        },
        "id": "cVV2TIBPCeeA",
        "outputId": "afed2349-4f95-4886-ea09-67531eff0c7a"
      },
      "execution_count": null,
      "outputs": [
        {
          "output_type": "stream",
          "name": "stdout",
          "text": [
            "Digite a temperatura em Celsius: 30\n",
            "Sua temperatura em Fahrenheit é: 86.0\n"
          ]
        }
      ]
    },
    {
      "cell_type": "code",
      "source": [
        "#15 - Peça um número e exiba o fatorial dele.\n",
        "import math\n",
        "\n",
        "num1 = int(input('Digite um número: '))\n",
        "fatorial = 1\n",
        "for i in range(1, num1 + 1):\n",
        "  fatorial *= i\n",
        "print(f' fatorial de {num1} é {fatorial}.')"
      ],
      "metadata": {
        "colab": {
          "base_uri": "https://localhost:8080/"
        },
        "id": "_h9J8OU0DOkh",
        "outputId": "8e135785-cbf2-4ef7-ce33-7a6eeb65322e"
      },
      "execution_count": null,
      "outputs": [
        {
          "output_type": "stream",
          "name": "stdout",
          "text": [
            "Digite um número: 10\n",
            " fatorial de 10 é 3628800.\n"
          ]
        }
      ]
    },
    {
      "cell_type": "code",
      "source": [
        "#1 - Peça um número e informe se ele é maior que 10. Crie um algoritmo em Python para fazer essa verificação.\n",
        "\n",
        "num1 = float(input('Digite um número: '))\n",
        "\n",
        "if num1 > 10:\n",
        "  print('Este número é maior do que 10.')\n",
        "\n",
        "elif num1 == 10:\n",
        "  print('Este número é igual a 10.')\n",
        "\n",
        "else:\n",
        "  print('Este número é menor do que 10.')"
      ],
      "metadata": {
        "colab": {
          "base_uri": "https://localhost:8080/"
        },
        "id": "eXyqdDkTRvGU",
        "outputId": "5f0c1036-03dc-468d-dab8-2c43b74ac1cc"
      },
      "execution_count": null,
      "outputs": [
        {
          "output_type": "stream",
          "name": "stdout",
          "text": [
            "Digite um número: 11\n",
            "Este número é maior do que 10.\n"
          ]
        }
      ]
    },
    {
      "cell_type": "code",
      "source": [
        "#2 - Peça um número inteiro e informe se ele é par. Crie um algoritmo em Python que verifique se o número é divisível por 2.\n",
        "\n",
        "num1 = int(input('Digite um número: '))\n",
        "\n",
        "if num1 %2 == 0:\n",
        "  print('Este número é par!')\n",
        "\n",
        "else:\n",
        "  print('Este número é ímpar!')"
      ],
      "metadata": {
        "colab": {
          "base_uri": "https://localhost:8080/"
        },
        "id": "_G4Ya--VTdbL",
        "outputId": "494d5990-ae02-4ad1-f39c-f97322c6e58d"
      },
      "execution_count": null,
      "outputs": [
        {
          "output_type": "stream",
          "name": "stdout",
          "text": [
            "Digite um número: 6\n",
            "Este número é par!\n"
          ]
        }
      ]
    },
    {
      "cell_type": "code",
      "source": [
        "#3 - Peça um nome e informe se ele contém a letra \"a\". Crie um algoritmo em Python que faça essa verificação.\n",
        "\n",
        "nome = input('Digite seu primeiro nome: ')\n",
        "if 'a' in nome:\n",
        "  print('Seu nome contém a letra \"a\".')\n",
        "else:\n",
        "  print('Seu nome contém a letra \"a\".')"
      ],
      "metadata": {
        "colab": {
          "base_uri": "https://localhost:8080/"
        },
        "id": "iQN5hNvRZUqf",
        "outputId": "d6cf054a-f2b3-47ec-934c-677f7b30fc4c"
      },
      "execution_count": null,
      "outputs": [
        {
          "output_type": "stream",
          "name": "stdout",
          "text": [
            "Digite seu primeiro nome: Márcio\n",
            "Seu nome contém a letra \"a\".\n"
          ]
        }
      ]
    },
    {
      "cell_type": "code",
      "source": [
        "#4 - Peça um número e informe se ele é múltiplo de 5. Crie um algoritmo em Python que verifique se o número é divisível por 5.\n",
        "\n",
        "num1 = int(input('Digite um número: '))\n",
        "if num1 %5 == 0:\n",
        "  print(f'{num1} é divisível por 5!')\n",
        "else:\n",
        "  print(f'{num1} não é divisível por 5!')"
      ],
      "metadata": {
        "colab": {
          "base_uri": "https://localhost:8080/"
        },
        "id": "QCzJPoyRaEmI",
        "outputId": "26327987-6f3f-4a91-b0f7-87fcb42b27db"
      },
      "execution_count": null,
      "outputs": [
        {
          "output_type": "stream",
          "name": "stdout",
          "text": [
            "Digite um número: 5\n",
            "5 é divisível por 5!\n"
          ]
        }
      ]
    },
    {
      "cell_type": "code",
      "source": [
        "#5 - Peça a temperatura atual e informe se está quente (acima de 30°C) ou frio (30°C ou menos). Crie um algoritmo em Python para essa verificação.\n",
        "\n",
        "temp = float(input('Digite uma temperatura em graus Celsius: '))\n",
        "if temp > 30:\n",
        "  print(f'{temp} graus Celsius é quente.')\n",
        "else:\n",
        "  print(f'{temp} graus Celsius é frio.')"
      ],
      "metadata": {
        "colab": {
          "base_uri": "https://localhost:8080/"
        },
        "id": "AIaRz6FibOo3",
        "outputId": "f30cf370-5511-4173-e387-e7e35139322a"
      },
      "execution_count": null,
      "outputs": [
        {
          "output_type": "stream",
          "name": "stdout",
          "text": [
            "Digite uma temperatura em graus Celsius: 23.6\n",
            "23.6 graus Celsius é frio.\n"
          ]
        }
      ]
    },
    {
      "cell_type": "code",
      "source": [
        "#6 - Peça ao usuário para digitar \"S\" para continuar ou \"N\" para sair e informe a ação correspondente. Crie um algoritmo em Python que faça essa validação e exiba a mensagem correta.\n",
        "\n",
        "permissao = input('Digite \"S\" para continuar ou \"N\" para sair: ')\n",
        "permissao = permissao.upper()\n",
        "if 'S' in permissao:\n",
        "  print('Iremos continuar a operação.')\n",
        "elif 'N' in permissao:\n",
        "  print('Saindo...')\n",
        "else:\n",
        "  print('Opção inválida!')"
      ],
      "metadata": {
        "colab": {
          "base_uri": "https://localhost:8080/"
        },
        "id": "o5GerwizcM0o",
        "outputId": "364a59b7-36cc-4db8-b113-ab7742df8da0"
      },
      "execution_count": null,
      "outputs": [
        {
          "output_type": "stream",
          "name": "stdout",
          "text": [
            "Digite \"S\" para continuar ou \"N\" para sair: g\n",
            "Opção inválida!\n"
          ]
        }
      ]
    },
    {
      "cell_type": "code",
      "source": [
        "#7 - Peça um número e informe se ele é negativo, zero ou positivo. Crie um algoritmo em Python para classificar o número.\n",
        "\n",
        "num1 = float(input('Digite um número: '))\n",
        "\n",
        "if num1 > 0:\n",
        "  print('Este número é positivo.')\n",
        "\n",
        "elif num1 == 0:\n",
        "  print('Este número é nulo.')\n",
        "\n",
        "else:\n",
        "  print('Este número é ímpar.')"
      ],
      "metadata": {
        "colab": {
          "base_uri": "https://localhost:8080/"
        },
        "id": "GAc2n_sndpmi",
        "outputId": "79f16406-0735-4b33-f1b9-540bad5dffd9"
      },
      "execution_count": null,
      "outputs": [
        {
          "output_type": "stream",
          "name": "stdout",
          "text": [
            "Digite um número: -2\n",
            "Este número é ímpar.\n"
          ]
        }
      ]
    },
    {
      "cell_type": "code",
      "source": [
        "#8 - Peça um número de 1 a 7 e informe o dia da semana correspondente. Crie um algoritmo em Python que associe o número ao dia correto.\n",
        "\n",
        "num1 = int(input('Digite um número de 1 a 7 para o dia da semana correspondente:'))\n",
        "dia = ['Domingo', 'Segunda-feira', 'Terça-feira', 'Quarta-feira', 'Quinta-feira', 'Sexta-feira', 'Sábado']\n",
        "dia = dia[num1-1]\n",
        "print(f'O dia da semana é: {dia}' )"
      ],
      "metadata": {
        "colab": {
          "base_uri": "https://localhost:8080/"
        },
        "id": "dLpeGUDTe_YC",
        "outputId": "889f7260-1375-49ef-990d-df2bc234221f"
      },
      "execution_count": null,
      "outputs": [
        {
          "output_type": "stream",
          "name": "stdout",
          "text": [
            "Digite um número de 1 a 7 para o dia da semana correspondente:5\n",
            "O dia da semana é: Quinta-feira\n"
          ]
        }
      ]
    },
    {
      "cell_type": "code",
      "source": [
        "#9 - Peça um ano e informe se ele é bissexto. Crie um algoritmo em Python que verifique se o ano é divisível por 4 e não por 100, exceto se também for divisível por 400.\n",
        "\n",
        "ano = int(input('Digite um ano para descobrir se é um ano bissexto: '))\n",
        "if (ano%4 == 0 and ano%100 != 0) or ano%400 == 0:\n",
        "  print(f'{ano} é um ano bissexto!')\n",
        "else:\n",
        "  print(f'{ano} não é um ano bissexto!')"
      ],
      "metadata": {
        "colab": {
          "base_uri": "https://localhost:8080/"
        },
        "id": "ntq3V5-Fg4qu",
        "outputId": "91a53201-b3cd-489a-c2c9-b47b09e3f4ed"
      },
      "execution_count": null,
      "outputs": [
        {
          "output_type": "stream",
          "name": "stdout",
          "text": [
            "Digite um ano para descobrir se é um ano bissexto: 2000\n",
            "2000 é um ano bissexto!\n"
          ]
        }
      ]
    },
    {
      "cell_type": "code",
      "source": [
        "#10 - Peça a quantidade de horas trabalhadas e o valor por hora. Se trabalhou até 40 horas, calcule o salário normalmente (horas × valor por hora).\n",
        "#Se trabalhou mais de 40 horas, as horas extras devem ter um adicional de 50% (horas extras × valor por hora × 1.5). Crie um algoritmo em Python que realize esse cálculo corretamente.\n",
        "\n",
        "hrs = float(input('Digite a quantidade de horas trabalhadas por semana: '))\n",
        "salario_hr = float(input('Digite seu salário por hora trabalhada: '))\n",
        "salario_mes = hrs * salario_hr * 4\n",
        "hr_extra = (hrs - 40) * 1.5 * salario_hr\n",
        "\n",
        "if hrs <= 40:\n",
        "  print(salario_mes)\n",
        "elif hrs > 40:\n",
        "  print(salario_mes + hr_extra)"
      ],
      "metadata": {
        "colab": {
          "base_uri": "https://localhost:8080/"
        },
        "id": "Q6AfMDquh4gk",
        "outputId": "20c8aa78-2d93-47e8-fe8a-a04d98702f25"
      },
      "execution_count": null,
      "outputs": [
        {
          "output_type": "stream",
          "name": "stdout",
          "text": [
            "Digite a quantidade de horas trabalhadas por semana: 50\n",
            "Digite seu salário por hora trabalhada: 10\n",
            "2150.0\n"
          ]
        }
      ]
    },
    {
      "cell_type": "markdown",
      "source": [
        "27/03"
      ],
      "metadata": {
        "id": "HVpKY6HzQDRG"
      }
    },
    {
      "cell_type": "code",
      "source": [
        "#1 - Peça ao usuário três lados de um triângulo e classifique-o como equilátero, isósceles ou escaleno.\n",
        "lado1 = float(input('Digite um lado do triângulo qualquer: '))\n",
        "lado2 = float(input('Digite um lado do triângulo qualquer: '))\n",
        "lado3 = float(input('Digite um lado do triângulo qualquer: '))\n",
        "if lado1 == lado2 == lado3:\n",
        "  print('Este triângulo é equilátero.')\n",
        "elif lado1 == lado2 or lado1 == lado3 or lado2 == lado3:\n",
        "  print('Este triângulo é isósceles.')\n",
        "else:\n",
        "  print('Este triângulo é escaleno.')"
      ],
      "metadata": {
        "colab": {
          "base_uri": "https://localhost:8080/"
        },
        "id": "IMvgTUIoQG3W",
        "outputId": "b3cc5e53-d9b4-45e0-9fbe-6660f90ca85e"
      },
      "execution_count": null,
      "outputs": [
        {
          "output_type": "stream",
          "name": "stdout",
          "text": [
            "Digite um lado do triângulo qualquer: 2\n",
            "Digite um lado do triângulo qualquer: 3\n",
            "Digite um lado do triângulo qualquer: 4\n",
            "Este triângulo é escaleno.\n"
          ]
        }
      ]
    },
    {
      "cell_type": "code",
      "source": [
        "#2 - Peça ao usuário um horário no formato 24h (por exemplo, 13:45) e converta para o formato 12h com AM/PM.\n",
        "horario = input('Digite um horário no formtado 24h: ')\n",
        "if datetime.strptime(horario, '%H:%M').hour > 12:\n",
        "  hr = int(datetime.strptime(horario, '%H:%M').hour) - 12\n",
        "  min = int(datetime.strptime(horario, '%H:%M').minute)\n",
        "  print(f'{hr}:{min} PM')\n",
        "elif datetime.strptime(horario, '%H:%M'). hour == 12:\n",
        "  print(f'{horario} PM')\n",
        "else:\n",
        "  print(f'{horario} AM')"
      ],
      "metadata": {
        "colab": {
          "base_uri": "https://localhost:8080/"
        },
        "id": "axhpPWGmQJau",
        "outputId": "17860a11-a1b2-4b80-840f-48d8172374a5"
      },
      "execution_count": null,
      "outputs": [
        {
          "output_type": "stream",
          "name": "stdout",
          "text": [
            "Digite um horário no formtado 24h: 16:40\n",
            "4:40 PM\n"
          ]
        }
      ]
    },
    {
      "cell_type": "code",
      "source": [
        "#3 - Solicite a idade de um nadador e classifique-o em uma categoria:\n",
        "# - Até 7 anos → Mirim\n",
        "# - 8 a 10 anos → Infantil\n",
        "# - 11 a 13 anos → Juvenil\n",
        "# - 14 a 17 anos → Júnior\n",
        "# - 18 anos ou mais → Sênior\n",
        "idade = int(input('Digite a idade do atleta: '))\n",
        "if idade <= 7:\n",
        "  print('Categoria mirim.')\n",
        "elif 8 <= idade <= 10:\n",
        "  print('Categoria infantil.')\n",
        "elif 11 <= idade <= 13:\n",
        "  print('Categoria juvenil.')\n",
        "elif 14 <= idade <= 17:\n",
        "  print('Categoria júnior.')\n",
        "else:\n",
        "  print('Categoria Sênior.')"
      ],
      "metadata": {
        "colab": {
          "base_uri": "https://localhost:8080/"
        },
        "id": "xoVPFM3tQOxG",
        "outputId": "e34e8e93-e092-40d1-c08a-268940ec680f"
      },
      "execution_count": null,
      "outputs": [
        {
          "output_type": "stream",
          "name": "stdout",
          "text": [
            "Digite a idade do atleta: 19\n",
            "Categoria Sênior.\n"
          ]
        }
      ]
    },
    {
      "cell_type": "code",
      "source": [
        "#4 - Simule uma partida de Pedra, Papel e Tesoura entre o usuário e o computador (sem aleatoriedade, o jogador deve escolher as duas opções).\n",
        "jogada1 = input('Digite pedra papel ou tesoura: ')\n",
        "jogada2 = input('Digite pedra papel ou tesoura: ')\n",
        "jogada1 = jogada1.lower()\n",
        "jogada2 = jogada2.lower()\n",
        "if jogada1 == jogada2:\n",
        "  print('Empate.')\n",
        "elif 'pedra' in jogada1 and 'tesoura' in jogada2:\n",
        "  print('Jogador 1 ganhou!')\n",
        "elif 'pedra' in jogada1 and 'papel' in jogada2:\n",
        "  print('Jogador 1 perdeu!')\n",
        "elif 'tesoura' in jogada1 and 'papel' in jogada2:\n",
        "  print('Jogador 1 ganhou!')\n",
        "elif 'tesoura' in jogada1 and 'pedra' in jogada2:\n",
        "  print('Jogador 1 perdeu!')\n",
        "elif 'papel' in jogada1 and 'pedra' in jogada2:\n",
        "  print('Jogador 1 ganhou!')\n",
        "elif 'papel' in jogada1 and 'tesoura' in jogada2:\n",
        "  print('Jogador 1 perdeu!')\n",
        "else:\n",
        "  print('Jogada inválida!')"
      ],
      "metadata": {
        "id": "AgfM0ASIQRwO",
        "colab": {
          "base_uri": "https://localhost:8080/"
        },
        "outputId": "27e6c43a-b9cd-46fb-9f80-6647c4f6bad7"
      },
      "execution_count": null,
      "outputs": [
        {
          "output_type": "stream",
          "name": "stdout",
          "text": [
            "Digite pedra papel ou tesoura: papel\n",
            "Digite pedra papel ou tesoura: papel\n",
            "Empate.\n"
          ]
        }
      ]
    },
    {
      "cell_type": "code",
      "source": [
        "#5 - Peça uma nota de 0 a 10 e classifique-a:\n",
        "# - A (9-10)\n",
        "# - B (7-8.9)\n",
        "# - C (5-6.9)\n",
        "# - D (3-4.9)\n",
        "# - F (0-2.9)\n",
        "nota = float(input('Digite a nota adquirida: '))\n",
        "if 9 <= nota <= 10:\n",
        "  print('Nota A!')\n",
        "elif 7 <= nota < 9:\n",
        "  print('Nota B!')\n",
        "elif 5 <= nota < 7:\n",
        "  print('Nota C!')\n",
        "elif 3 <= nota < 5:\n",
        "  print('Nota D!')\n",
        "elif 0 <= nota < 3:\n",
        "  print('Nota F!')\n",
        "else:\n",
        "  print('Opção inválida.')"
      ],
      "metadata": {
        "id": "na8Jx26xQc72",
        "colab": {
          "base_uri": "https://localhost:8080/"
        },
        "outputId": "3663b0d9-1eca-46bb-caf0-c35d0e5deae1"
      },
      "execution_count": null,
      "outputs": [
        {
          "output_type": "stream",
          "name": "stdout",
          "text": [
            "Digite a nota adquirida: 10\n",
            "Nota A!\n"
          ]
        }
      ]
    },
    {
      "cell_type": "code",
      "source": [
        "#6 - Solicite o peso e altura do usuário e calcule o IMC. Classifique conforme a tabela:\n",
        "# - Abaixo do peso: < 18.5\n",
        "# - Normal: 18.5 - 24.9\n",
        "# - Sobrepeso: 25 - 29.9\n",
        "# - Obesidade: >= 30\n",
        "peso = float(input('Digite seu peso em kg: '))\n",
        "altura = float(input('Digite sua altura em metros: '))\n",
        "calc = peso / altura ** 2\n",
        "print(f'{calc:.2f}')\n",
        "if calc < 18.5:\n",
        "  print('Abaixo do peso.')\n",
        "elif 18.5 <= calc < 25:\n",
        "  print('Normal.')\n",
        "elif 25 <= calc < 30:\n",
        "  print('Sobrepeso.')\n",
        "else:\n",
        "  print('Obeso.')"
      ],
      "metadata": {
        "id": "cvMQOVQSQkdI",
        "colab": {
          "base_uri": "https://localhost:8080/"
        },
        "outputId": "c8923894-7b66-4917-b483-f3f415fac913"
      },
      "execution_count": null,
      "outputs": [
        {
          "output_type": "stream",
          "name": "stdout",
          "text": [
            "Digite seu peso em kg: 70\n",
            "Digite sua altura em metros: 1.7\n",
            "24.22\n",
            "Normal.\n"
          ]
        }
      ]
    },
    {
      "cell_type": "code",
      "source": [
        "#7 - Peça uma letra ao usuário e diga se é vogal ou consoante.\n",
        "letra = input('Digite uma letra qualquer: ')\n",
        "letra = letra.lower()\n",
        "vogal = ['a', 'e', 'i', 'o', 'u']\n",
        "if letra in vogal:\n",
        "  print(f'{letra} é uma vogal.')\n",
        "else:\n",
        "  print(f'{letra} é uma consoante.')"
      ],
      "metadata": {
        "id": "Rm8cOY79Qp0-",
        "colab": {
          "base_uri": "https://localhost:8080/"
        },
        "outputId": "01a5b6b4-bca4-4b80-ad75-6c584306f9ff"
      },
      "execution_count": null,
      "outputs": [
        {
          "output_type": "stream",
          "name": "stdout",
          "text": [
            "Digite uma letra qualquer: c\n",
            "c é uma consoante.\n"
          ]
        }
      ]
    },
    {
      "cell_type": "code",
      "source": [
        "#8 - Solicite o valor da compra e aplique descontos:\n",
        "# - Até R$ 100,00 → sem desconto\n",
        "# - De R$ 100,01 a R$ 500,00 → 10% de desconto\n",
        "# - Acima de R$ 500,00 → 20% de desconto\n",
        "valor = float(input('Digite o preço do produto: '))\n",
        "if valor < 100:\n",
        "  print(f'O valor de R${valor:.2f} não tem descomto.')\n",
        "elif 100 <= valor < 500:\n",
        "  desconto10 = valor * 0.9\n",
        "  print(f'O valor de R${valor:.2f} com desconto de 10% ficará R${desconto10:.2f}!')\n",
        "else:\n",
        "  desconto20 = valor * 0.8\n",
        "  print(f'O valor de R${valor:.2f} com desconto de 20% ficará R${desconto20:.2f}!')"
      ],
      "metadata": {
        "id": "u77MwpR3Qx_e",
        "colab": {
          "base_uri": "https://localhost:8080/"
        },
        "outputId": "b8db751b-d70a-4fe2-f30d-ad9d565a85be"
      },
      "execution_count": 5,
      "outputs": [
        {
          "output_type": "stream",
          "name": "stdout",
          "text": [
            "Digite o preço do produto: 500\n",
            "O valor de R$500.00 com desconto de 20% ficará R$400.00!\n"
          ]
        }
      ]
    },
    {
      "cell_type": "code",
      "source": [
        "#9 - Crie um programa que calcula o preço do estacionamento:\n",
        "from datetime import datetime\n",
        "import math\n",
        "# - Até 2h → R$ 5,00 por hora\n",
        "# - De 2h a 5h → R$ 4,00 por hora\n",
        "# - Mais de 5h → R$ 3,00 por hora\n",
        "hr_utilizada = input('Digite o tempo de utilização do serviço em HH:MM: ')\n",
        "hr_int = int(datetime.strptime(hr_utilizada, '%H:%M').hour)\n",
        "min_int = (int(datetime.strptime(hr_utilizada, '%H:%M').minute)) / 60\n",
        "tempo_int = math.ceil(hr_int + min_int)\n",
        "print(tempo_int)\n",
        "if tempo_int <= 2:\n",
        "  valor1 = tempo_int * 5\n",
        "  print(f'O valor a ser pago é R${valor1:.2f}.')\n",
        "elif 2 < tempo_int <= 5:\n",
        "  valor2 = tempo_int * 4\n",
        "  print(f'O valor a ser pago é R${valor2:.2f}.')\n",
        "else:\n",
        "  valor3 = tempo_int * 3\n",
        "  print(f'O valor a ser pago é R${valor3:.2f}.')"
      ],
      "metadata": {
        "id": "TcSQ7bexQ1oH",
        "colab": {
          "base_uri": "https://localhost:8080/"
        },
        "outputId": "fcc8c2a6-fc22-42cb-f4e3-667a4dd9b385"
      },
      "execution_count": 18,
      "outputs": [
        {
          "output_type": "stream",
          "name": "stdout",
          "text": [
            "Digite o tempo de utilização do serviço em HH:MM: 2:20\n",
            "3\n",
            "O valor a ser pago é R$12.00.\n"
          ]
        }
      ]
    },
    {
      "cell_type": "code",
      "source": [
        "#10 - Peça ao usuário um número e classifique-o:\n",
        "# - Positivo e par\n",
        "# - Positivo e ímpar\n",
        "# - Negativo e par\n",
        "# - Negativo e ímpar\n",
        "# - Zero\n",
        "num1 = float(input('Digite um número qualquer: '))\n",
        "if num1 == 0:\n",
        "  print('Seu número é igual a zero.')\n",
        "elif num1 > 0 and num1%2 == 0:\n",
        "  print('Seu número é positivo e par.')\n",
        "elif num1 > 0 and num1%2 != 0:\n",
        "  print('Seu número é positivo e ímpar.')\n",
        "elif num1 < 0 and num1%2 == 0:\n",
        "  print('Seu número é negativo e par.')\n",
        "elif num1 < 0 and num1%2 != 0:\n",
        "  print('Seu número é negativo e ímpar.')\n",
        "else:\n",
        "  print('Informação inválida!')"
      ],
      "metadata": {
        "id": "dnbN35_6RDUi",
        "colab": {
          "base_uri": "https://localhost:8080/"
        },
        "outputId": "39e278ec-50c3-4095-dcac-0fb3e434ea68"
      },
      "execution_count": 23,
      "outputs": [
        {
          "output_type": "stream",
          "name": "stdout",
          "text": [
            "Digite um número qualquer: 2\n",
            "Seu número é positivo e par.\n"
          ]
        }
      ]
    },
    {
      "cell_type": "code",
      "source": [
        "#11 - Solicite o consumo de energia em kWh e calcule a tarifa:\n",
        "# - Até 100 kWh → R$ 0,50 por kWh\n",
        "# - De 101 a 300 kWh → R$ 0,75 por kWh\n",
        "# - Acima de 300 kWh → R$ 1,00 por kWh\n",
        "consumo = int(input('Digite o consumo de energia em kWh'))\n",
        "if consumo <= 100:\n",
        "  valor1 = consumo * 0.5\n",
        "  print(f'O valor a ser pago é R${valor1:.2f}')\n",
        "elif 100 < consumo <= 300:\n",
        "  valor2 = consumo * 0.75\n",
        "  print(f'O valor a ser pago é R${valor2:.2f}')\n",
        "else:\n",
        "  print(f'O valor a ser pago é R${consumo:.2f}')"
      ],
      "metadata": {
        "id": "pGC7Me3LRK6q",
        "colab": {
          "base_uri": "https://localhost:8080/"
        },
        "outputId": "91f26267-c28b-4034-f881-ffda3bb54796"
      },
      "execution_count": 30,
      "outputs": [
        {
          "output_type": "stream",
          "name": "stdout",
          "text": [
            "Digite o consumo de energia em kWh400\n",
            "O valor a ser pago é R$400.00\n"
          ]
        }
      ]
    },
    {
      "cell_type": "code",
      "source": [
        "#12 - Peça a temperatura em °C e classifique:\n",
        "# - Muito frio (< 10°C)\n",
        "# - Frio (10°C a 20°C)\n",
        "# - Agradável (21°C a 30°C)\n",
        "# - Quente (31°C a 40°C)\n",
        "# - Muito quente (> 40°C)\n",
        "temp = int(input('Digite uma temperatura em graus Celsius qualquer: '))\n",
        "if temp <= 10:\n",
        "  print('Muito frio!')\n",
        "elif 10 < temp <= 20:\n",
        "  print('Frio!')\n",
        "elif 20 < temp <= 30:\n",
        "  print('Agradável.')\n",
        "elif 30 < temp <= 40:\n",
        "  print('Quente!')\n",
        "else:\n",
        "  print('Muito quente!!!!')"
      ],
      "metadata": {
        "id": "la2dW5xHRSnu",
        "colab": {
          "base_uri": "https://localhost:8080/"
        },
        "outputId": "9b7c58aa-c343-4eea-a33d-d2e24f99705e"
      },
      "execution_count": 32,
      "outputs": [
        {
          "output_type": "stream",
          "name": "stdout",
          "text": [
            "Digite uma temperatura em graus Celsius qualquer: -78\n",
            "Muito frio!\n"
          ]
        }
      ]
    },
    {
      "cell_type": "code",
      "source": [
        "#13 - Solicite um CPF ao usuário (somente números). Verifique se tem exatamente 11 dígitos e exiba \"CPF válido\" ou \"CPF inválido\".\n",
        "cpf = input('Digite o seu CPF (somente números): ')\n",
        "if len(cpf) == 11:\n",
        "  print('CPF válido.')\n",
        "else:\n",
        "  print('CPF inválido!')"
      ],
      "metadata": {
        "id": "02Y3bmi9Rb-_",
        "colab": {
          "base_uri": "https://localhost:8080/"
        },
        "outputId": "6e956fe2-5e7d-4a45-9901-1ff43d6abf68"
      },
      "execution_count": 33,
      "outputs": [
        {
          "output_type": "stream",
          "name": "stdout",
          "text": [
            "Digite o seu CPF (somente números): 00100100101\n",
            "CPF válido.\n"
          ]
        }
      ]
    },
    {
      "cell_type": "code",
      "source": [
        "#14 - Peça a velocidade de um carro e classifique:\n",
        "# - Até 40 km/h → Muito lento\n",
        "# - 41 a 60 km/h → Velocidade moderada\n",
        "# - 61 a 80 km/h → Rápido\n",
        "# - Acima de 80 km/h → Muito rápido\n",
        "v = int(input('Digite a velocidade detctada: '))\n",
        "if v <= 40:\n",
        "  print('Muito lento.')\n",
        "elif 40 < v <= 60:\n",
        "  print('Velocidade moderada.')\n",
        "elif 60 < v <= 80:\n",
        "  print('Rápido.')\n",
        "else:\n",
        "  print('Muito rápido!')"
      ],
      "metadata": {
        "id": "DQvdFzlHRgp0",
        "colab": {
          "base_uri": "https://localhost:8080/"
        },
        "outputId": "9abbd462-ff91-4d06-b4bc-f03b69914c74"
      },
      "execution_count": 35,
      "outputs": [
        {
          "output_type": "stream",
          "name": "stdout",
          "text": [
            "Digite a velocidade detctada: 50\n",
            "Velocidade moderada.\n"
          ]
        }
      ]
    },
    {
      "cell_type": "code",
      "source": [
        "#15 - Solicite uma placa de veículo e verifique se ela segue o formato ABC1D23 (três letras, um número, uma letra e dois números). Caso contrário, exiba \"Placa inválida\".\n",
        "placa = input('Digite a placa do veículo: ')\n"
      ],
      "metadata": {
        "id": "wLbp9_q4Rnek"
      },
      "execution_count": null,
      "outputs": []
    }
  ]
}