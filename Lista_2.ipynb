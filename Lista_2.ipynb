{
  "cells": [
    {
      "cell_type": "markdown",
      "metadata": {
        "id": "view-in-github",
        "colab_type": "text"
      },
      "source": [
        "<a href=\"https://colab.research.google.com/github/marciojr30/ALGESTDADOS_20251/blob/main/Lista_2.ipynb\" target=\"_parent\"><img src=\"https://colab.research.google.com/assets/colab-badge.svg\" alt=\"Open In Colab\"/></a>"
      ]
    },
    {
      "cell_type": "markdown",
      "source": [
        "Lista 02\n",
        "Alunos: Jesse Jarvin Gruenewald Nucum - 20251beciv0040 e Márcio Alves Nascimento Júnior - 20251beciv0091"
      ],
      "metadata": {
        "id": "M-glNqA2nd_l"
      }
    },
    {
      "cell_type": "code",
      "source": [
        "#01 Crie um algoritmo que receba o horário (hora e minuto) de entrada e saída de um funcionário em um dia de trabalho.\n",
        "#Calcule o tempo total trabalhado em horas e minutos, considerando que ele teve uma pausa de 1h para almoço, e diga se ele cumpriu uma jornada de pelo menos 8h diárias.\n",
        "from datetime import datetime\n",
        "import math\n",
        "\n",
        "horário_chegada= input('Digite o a hora de chegada no trabalho %H:%M: ')\n",
        "horário_saida = input('Digite o a hora de saída do trabalho %H:%M: ')\n",
        "\n",
        "hora= int(datetime.strptime(horário_chegada, '%H:%M').hour)*60\n",
        "minuto= (int(datetime.strptime(horário_chegada, '%H:%M').minute))\n",
        "soma1=hora+minuto\n",
        "\n",
        "hora_2= int(datetime.strptime(horário_saida, '%H:%M').hour)*60\n",
        "minuto_2= (int(datetime.strptime(horário_saida, '%H:%M').minute))\n",
        "soma2=hora_2+minuto_2\n",
        "\n",
        "atraso= soma2-soma1\n",
        "if atraso>60 or atraso==60:\n",
        "  calc=atraso%60\n",
        "  print(f'Tempo de trabalho com horário de almoço: {math.floor(atraso/60)} horas e {calc} min')\n",
        "else:\n",
        "  print()\n",
        "\n",
        "if ((atraso/60) - 1)>=8:\n",
        "  print(f'Cumpriu a jornada de trabalho, trabalhando {math.floor((atraso/60) - 1)} horas e {calc} min.')\n",
        "else:\n",
        "  print(f'NÂO umpriu a jornada de trabalho, tabalhando apenas {math.floor((atraso/60) - 1)} horas {calc} min.')"
      ],
      "metadata": {
        "colab": {
          "base_uri": "https://localhost:8080/"
        },
        "id": "3J9MH_IF9Ycs",
        "outputId": "86a59345-b84d-4922-f411-db2eb96e1c6a"
      },
      "execution_count": null,
      "outputs": [
        {
          "output_type": "stream",
          "name": "stdout",
          "text": [
            "Digite o a hora de chegada no trabalho %H:%M: 7:58\n",
            "Digite o a hora de saída do trabalho %H:%M: 17:32\n",
            "Tempo de trabalho com horário de almoço: 9 horas e 34 min\n",
            "Cumpriu a jornada de trabalho, trabalhando 8 horas e 34 min.\n"
          ]
        }
      ]
    },
    {
      "cell_type": "code",
      "source": [
        "#02 Crie um algoritmo que receba a data de nascimento (dia, mês e ano) de uma pessoa e a data atual, e diga com precisão sua idade em anos, meses e dias.\n",
        "#Use condicionais para lidar com casos em que o mês ou dia ainda não tenha sido atingido no ano corrente.\n",
        "\n",
        "dia_nasc = int(input('Dia de nascimento: '))\n",
        "mes_nasc = int(input('Mês de nascimento: '))\n",
        "ano_nasc = int(input('Ano de nascimento: '))\n",
        "\n",
        "dia_atual = int(input('Dia atual: '))\n",
        "mes_atual = int(input('Mês atual: '))\n",
        "ano_atual = int(input('Ano atual: '))\n",
        "\n",
        "anos = ano_atual - ano_nasc\n",
        "meses = mes_atual - mes_nasc\n",
        "dias = dia_atual - dia_nasc\n",
        "\n",
        "if dias < 0:\n",
        "  meses -= 1\n",
        "\n",
        "  dias_mes_anterior = [31, 28 + int((ano_atual % 4 == 0 and ano_atual % 100 != 0) or (ano_atual % 400 == 0)), 31, 30, 31, 30, 31, 31, 30, 31, 30, 31]\n",
        "  dias += dias_mes_anterior[mes_atual - 2] if mes_atual > 1 else dias_mes_anterior[11]\n",
        "\n",
        "if meses < 0:\n",
        "        anos -= 1\n",
        "        meses += 12\n",
        "else:\n",
        "  print()\n",
        "\n",
        "if meses!=0 and dias!=0:\n",
        "  print(f'Faltam: {11-(meses)} meses e {30-(dias)} dias')\n",
        "\n",
        "  if meses<(12-(meses)):\n",
        "    print(f'Já fez aniversário esse ano!!')\n",
        "\n",
        "  else:\n",
        "    print(f'Ainda vai fazer aniversário esse ano!!')\n",
        "\n",
        "else:\n",
        "  print()\n",
        "\n",
        "print(f'Idade: {anos} anos, {meses} meses e {dias} dias')"
      ],
      "metadata": {
        "id": "IBk_cFJkLVr4",
        "colab": {
          "base_uri": "https://localhost:8080/"
        },
        "outputId": "f5f96148-facb-4a24-a9d4-78dfa80f9294"
      },
      "execution_count": null,
      "outputs": [
        {
          "output_type": "stream",
          "name": "stdout",
          "text": [
            "Dia de nascimento: 27\n",
            "Mês de nascimento: 06\n",
            "Ano de nascimento: 2005\n",
            "Dia atual: 08\n",
            "Mês atual: 05\n",
            "Ano atual: 2025\n",
            "Faltam: 1 meses e 19 dias\n",
            "Ainda vai fazer aniversário esse ano!!\n",
            "Idade: 19 anos, 10 meses e 11 dias\n"
          ]
        }
      ]
    },
    {
      "cell_type": "code",
      "source": [
        "#03 Elabore um algoritmo que simule um monitor de qualidade do ar. O usuário informará 3 valores de índice de poluentes de diferentes horários de um mesmo dia.\n",
        "#O programa deve calcular a média e classificar como \"bom\", \"moderado\", \"ruim\", \"muito ruim\" ou \"péssimo\", com base em faixas fornecidas pelo código.\n",
        "\n",
        "def classificar_qualidade_ar(media):\n",
        "    if 0 <= media <= 50:\n",
        "        return 'Bom'\n",
        "    elif 51 <= media <= 100:\n",
        "        return 'Moderado'\n",
        "    elif 101 <= media <= 150:\n",
        "        return 'Ruim'\n",
        "    elif 151 <= media <= 200:\n",
        "        return 'Muito Ruim'\n",
        "    else:\n",
        "        return 'Péssimo'\n",
        "\n",
        "print('Monitor de Qualidade do Ar')\n",
        "valores = []\n",
        "for i in range(1, 4):\n",
        "    valor = float(input(f'Digite o índice de poluentes do horário {i} (valor não negativo): '))\n",
        "    valores.append(valor)\n",
        "\n",
        "media = sum(valores) / len(valores)\n",
        "\n",
        "classificacao = classificar_qualidade_ar(media)\n",
        "\n",
        "print(f'Valores informados: {valores}')\n",
        "print(f'Média do índice de poluentes: {media:.2f}')\n",
        "print(f'Classificação da qualidade do ar: {classificacao}')"
      ],
      "metadata": {
        "id": "sSMDnvucLV7x",
        "colab": {
          "base_uri": "https://localhost:8080/"
        },
        "outputId": "022d7dbe-9e5b-45e5-8f95-487a039e71d4"
      },
      "execution_count": null,
      "outputs": [
        {
          "output_type": "stream",
          "name": "stdout",
          "text": [
            "Monitor de Qualidade do Ar\n",
            "Digite o índice de poluentes do horário 1 (valor não negativo): 49\n",
            "Digite o índice de poluentes do horário 2 (valor não negativo): 32\n",
            "Digite o índice de poluentes do horário 3 (valor não negativo): 22\n",
            "Valores informados: [49.0, 32.0, 22.0]\n",
            "Média do índice de poluentes: 34.33\n",
            "Classificação da qualidade do ar: Bom\n"
          ]
        }
      ]
    },
    {
      "cell_type": "code",
      "source": [
        "#04 Desenvolva um algoritmo que simule a geração de um extrato de abastecimento de combustível.\n",
        "# O usuário deve informar o valor em reais que abasteceu, o preço do litro e a quilometragem inicial e final da viagem.\n",
        "#Calcule quantos litros foram colocados e a média de km/l, informando se o carro teve desempenho bom (acima de 12 km/l), médio (8-12 km/l) ou ruim (abaixo de 8 km/l).\n",
        "\n",
        "valor= float(input('Digite qual foi o valor do abastecimento: '))\n",
        "preço= float(input('Digite o preço do litro de combustível: '))\n",
        "km_inicial= float(input('Quilometragem inicial do carro: '))\n",
        "km_final= float(input('Quilometragem final do carro: '))\n",
        "\n",
        "litros=valor/preço\n",
        "km= (km_final-km_inicial)/litros\n",
        "\n",
        "if km>12:\n",
        "  print(f'Foram colocados {litros:.2f} litros de combustível, o desempenho do carro foi bom e a média de km/l foi de {km:.0f}.')\n",
        "\n",
        "elif km>8:\n",
        "  print(f'Foram colocados {litros:.2f} litros de combustível, o desempenho do carro foi médio e a média de km/l foi de {km:.0f}.')\n",
        "\n",
        "else:\n",
        "  print(f'Foram colocados {litros:.2f} litros de combustível, o desempenho do carro foi ruim e a média de km/l foi de {km:.0f}.')"
      ],
      "metadata": {
        "colab": {
          "base_uri": "https://localhost:8080/"
        },
        "id": "sESRb9IeLWHw",
        "outputId": "1bd718b0-ea1c-4be5-cdb1-91a614892253"
      },
      "execution_count": null,
      "outputs": [
        {
          "output_type": "stream",
          "name": "stdout",
          "text": [
            "Digite qual foi o valor do abastecimento: 100\n",
            "Digite o preço do litro de combustível: 6.79\n",
            "Quilometragem inicial do carro: 2950\n",
            "Quilometragem final do carro: 3150\n",
            "Foram colocados 14.73 litros de combustível, o desempenho do carro foi bom e a média de km/l foi de 14.\n"
          ]
        }
      ]
    },
    {
      "cell_type": "code",
      "source": [
        "#05 Crie um algoritmo que pergunte o nome e o tempo total (em minutos) gasto por uma pessoa em atividades físicas durante 7 dias.\n",
        "#Ao final, mostre a média diária, a soma total e diga se ela atingiu o mínimo recomendado de 150 minutos semanais.\n",
        "\n",
        "ativ1= input('Digite a atividade física diária: ')\n",
        "tempo_ativ1=int(input('Digite o tempo da atividade física em minutos: '))\n",
        "\n",
        "ativ2= input('Digite a atividade física diária: ')\n",
        "tempo_ativ2=int(input('Digite o tempo da atividade física em minutos: '))\n",
        "\n",
        "ativ3= input('Digite a atividade física diária: ')\n",
        "tempo_ativ3=int(input('Digite o tempo da atividade física em minutos: '))\n",
        "\n",
        "ativ4= input('Digite a atividade física diária: ')\n",
        "tempo_ativ4=int(input('Digite o tempo da atividade física em minutos: '))\n",
        "\n",
        "ativ5= input('Digite a atividade física diária: ')\n",
        "tempo_ativ5=int(input('Digite o tempo da atividade física em minutos: '))\n",
        "\n",
        "ativ6= input('Digite a atividade física diária: ')\n",
        "tempo_ativ6=int(input('Digite o tempo da atividade física em minutos: '))\n",
        "\n",
        "ativ7= input('Digite a atividade física diária: ')\n",
        "\n",
        "tempo_ativ7=int(input('Digite o tempo da atividade física em minutos: '))\n",
        "\n",
        "lista= [ativ1,ativ2,ativ3,ativ4,ativ5,ativ6,ativ7]\n",
        "soma= tempo_ativ1+tempo_ativ2+tempo_ativ3+tempo_ativ4+tempo_ativ5+tempo_ativ6+tempo_ativ7\n",
        "print(f'tempo total foi de: {soma} min')\n",
        "\n",
        "print(f'A média diária foi de: {(soma/3):.0f} min')\n",
        "\n",
        "print(f'A tividades da semana: {lista}')\n",
        "\n",
        "if soma>=150:\n",
        "  print('Atingiu o tempo mínimo recomendade de tempo de atividade físicas semanais.')\n",
        "\n",
        "else:\n",
        "  print('Não tingiu o tempo mínimo recomendade de tempo de atividade físicas semanais.')\n"
      ],
      "metadata": {
        "id": "a-WA3lCyLWSj",
        "colab": {
          "base_uri": "https://localhost:8080/"
        },
        "outputId": "3c43086c-4166-492e-aa81-0b8e50780aed"
      },
      "execution_count": null,
      "outputs": [
        {
          "output_type": "stream",
          "name": "stdout",
          "text": [
            "Digite a atividade física diária: corrida\n",
            "Digite o tempo da atividade física em minutos: 50\n",
            "Digite a atividade física diária: caminhada\n",
            "Digite o tempo da atividade física em minutos: 90\n",
            "Digite a atividade física diária: pedal\n",
            "Digite o tempo da atividade física em minutos: 40\n",
            "Digite a atividade física diária: natação,\n",
            "Digite o tempo da atividade física em minutos: 40\n",
            "Digite a atividade física diária: futebol\n",
            "Digite o tempo da atividade física em minutos: 90\n",
            "Digite a atividade física diária: corrida\n",
            "Digite o tempo da atividade física em minutos: 30\n",
            "Digite a atividade física diária: volei\n",
            "Digite o tempo da atividade física em minutos: 60\n",
            "tempo total foi de: 400 min\n",
            "A média diária foi de: 133 min\n",
            "A tividades da semana: ['corrida', 'caminhada', 'pedal', 'natação,', 'futebol', 'corrida', 'volei']\n",
            "Atingiu o tempo mínimo recomendade de tempo de atividade físicas semanais.\n"
          ]
        }
      ]
    },
    {
      "cell_type": "code",
      "source": [
        "#06 Desenvolva um algoritmo que simule o acompanhamento de consumo de água em uma residência. O usuário informará o valor do hidrômetro no início e no fim do mês.\n",
        "#O sistema calculará o total consumido e o valor a pagar, seguindo uma tabela de faixas de consumo (ex: até 10 m³, tarifa fixa; de 11 a 20, valor extra por m³; acima de 20, tarifa mais alta).\n",
        "\n",
        "hidrometro_inicio= float(input('Digite qual foi o valor hidrômetro no ínicio do mês: '))\n",
        "hidrometro_fim= float(input('Digite qual foi o valor hidrômetro no final do mês: '))\n",
        "\n",
        "consumo= hidrometro_fim-hidrometro_inicio\n",
        "\n",
        "#Tarifas\n",
        "tarifa1= 3.5\n",
        "tarifa2= tarifa1+1.25\n",
        "tarifa3= tarifa2+2.65\n",
        "\n",
        "if consumo<=10:\n",
        "  print(f'O valor da tarifa é R${consumo*tarifa1:.2f}.')\n",
        "\n",
        "elif consumo<=20:\n",
        "  print(f'O valor da tarifa é R${consumo*tarifa2:.2f}.')\n",
        "\n",
        "else:\n",
        "  print(f'O valor da tarifa é R${consumo*tarifa3:.2f}.')\n"
      ],
      "metadata": {
        "id": "HtIhu3ptLWkc",
        "colab": {
          "base_uri": "https://localhost:8080/"
        },
        "outputId": "0e64c3b5-d83b-4684-831a-d84791b4d6a8"
      },
      "execution_count": null,
      "outputs": [
        {
          "output_type": "stream",
          "name": "stdout",
          "text": [
            "Digite qual foi o valor hidrômetro no ínicio do mês: 15\n",
            "Digite qual foi o valor hidrômetro no final do mês: 79\n",
            "O valor da tarifa é R$473.60.\n"
          ]
        }
      ]
    },
    {
      "cell_type": "code",
      "source": [
        "#07 Elabore um algoritmo que simule a pontualidade de voos. Receba o horário previsto e o horário real de chegada (hora e minuto).\n",
        "#Informe o tempo de atraso ou adiantamento e classifique o voo como “pontual” (diferença ≤ 5 min), “ligeiramente atrasado/adiantado” (até 30 min) ou “muito atrasado/adiantado” (> 30 min).\n",
        "from datetime import datetime\n",
        "import math\n",
        "\n",
        "horário_correto= input('Digite o a hora prevista de chegada %H:%M: ')\n",
        "horário_real = input('Digite o a hora real de chegada %H:%M: ')\n",
        "\n",
        "hora_corret= int(datetime.strptime(horário_correto, '%H:%M').hour)*60\n",
        "minuto_corret= (int(datetime.strptime(horário_correto, '%H:%M').minute))\n",
        "soma1=hora_corret+minuto_corret\n",
        "\n",
        "hora_real= int(datetime.strptime(horário_real, '%H:%M').hour)*60\n",
        "minuto_real= (int(datetime.strptime(horário_real, '%H:%M').minute))\n",
        "soma2=hora_real+minuto_real\n",
        "\n",
        "atraso= soma2-soma1\n",
        "print(f'{atraso} min')\n",
        "if atraso>60 or atraso==60:\n",
        "  calc=atraso%60\n",
        "  print(f'{math.floor(atraso/60)} horas e {calc} min')\n",
        "else:\n",
        "  print()\n",
        "\n",
        "if atraso<= 5 and atraso>=-5:\n",
        "  print(f'Pontual.')\n",
        "\n",
        "elif -30<=atraso<-5:\n",
        "  print(f'Ligeiramente adiantado.')\n",
        "\n",
        "elif 5<atraso<30:\n",
        "  print(f'Ligeiramente atrasado.')\n",
        "\n",
        "elif atraso<-30:\n",
        "  print(f'Muito adiantado.')\n",
        "\n",
        "else:\n",
        "  print(f'muito atrasado.')\n"
      ],
      "metadata": {
        "id": "jT6w-Vz9LWx6",
        "colab": {
          "base_uri": "https://localhost:8080/"
        },
        "outputId": "b2dee9f2-4c3c-4701-c7e8-acf40c2ffc96"
      },
      "execution_count": null,
      "outputs": [
        {
          "output_type": "stream",
          "name": "stdout",
          "text": [
            "Digite o a hora prevista de chegada %H:%M: 17:55\n",
            "Digite o a hora real de chegada %H:%M: 18:14\n",
            "19 min\n",
            "\n",
            "Ligeiramente atrasado.\n"
          ]
        }
      ]
    },
    {
      "cell_type": "code",
      "source": [
        "#08 Crie um algoritmo que simule o cálculo de tempo total de tela (TV, celular, computador). Para cada dispositivo, o usuário informa quanto tempo usou por dia (em horas e minutos) por 3 dias.\n",
        "#O sistema deve apresentar o tempo total em horas e minutos, destacando o aparelho com maior uso e emitindo um alerta caso o total passe de 10 horas diárias.\n",
        "from datetime import datetime\n",
        "import math\n",
        "\n",
        "# Primeiro dia:\n",
        "entrada_tv_dia1 = input('Digite quanto tempo de tela do 1º dia na TV %H:%M: ')\n",
        "minutos_tv_dia1 = int(datetime.strptime(entrada_tv_dia1, '%H:%M').hour) * 60\n",
        "minutos_tv_dia1 += int(datetime.strptime(entrada_tv_dia1, '%H:%M').minute)\n",
        "\n",
        "entrada_celular_dia1 = input('Digite quanto tempo de tela do 1º dia no celular %H:%M: ')\n",
        "minutos_celular_dia1 = int(datetime.strptime(entrada_celular_dia1, '%H:%M').hour) * 60\n",
        "minutos_celular_dia1 += int(datetime.strptime(entrada_celular_dia1, '%H:%M').minute)\n",
        "\n",
        "entrada_pc_dia1 = input('Digite quanto tempo de tela do 1º dia no computador %H:%M: ')\n",
        "minutos_pc_dia1 = int(datetime.strptime(entrada_pc_dia1, '%H:%M').hour) * 60\n",
        "minutos_pc_dia1 += int(datetime.strptime(entrada_pc_dia1, '%H:%M').minute)\n",
        "\n",
        "# Segundo dia:\n",
        "entrada_tv_dia2 = input('Digite quanto tempo de tela do 2º dia na TV %H:%M: ')\n",
        "minutos_tv_dia2 = int(datetime.strptime(entrada_tv_dia2, '%H:%M').hour) * 60\n",
        "minutos_tv_dia2 += int(datetime.strptime(entrada_tv_dia2, '%H:%M').minute)\n",
        "\n",
        "entrada_celular_dia2 = input('Digite quanto tempo de tela do 2º dia no celular %H:%M: ')\n",
        "minutos_celular_dia2 = int(datetime.strptime(entrada_celular_dia2, '%H:%M').hour) * 60\n",
        "minutos_celular_dia2 += int(datetime.strptime(entrada_celular_dia2, '%H:%M').minute)\n",
        "\n",
        "entrada_pc_dia2 = input('Digite quanto tempo de tela do 2º dia no computador %H:%M: ')\n",
        "minutos_pc_dia2 = int(datetime.strptime(entrada_pc_dia2, '%H:%M').hour) * 60\n",
        "minutos_pc_dia2 += int(datetime.strptime(entrada_pc_dia2, '%H:%M').minute)\n",
        "\n",
        "# Terceiro dia:\n",
        "entrada_tv_dia3 = input('Digite quanto tempo de tela do 3º dia na TV %H:%M: ')\n",
        "minutos_tv_dia3 = int(datetime.strptime(entrada_tv_dia3, '%H:%M').hour) * 60\n",
        "minutos_tv_dia3 += int(datetime.strptime(entrada_tv_dia3, '%H:%M').minute)\n",
        "\n",
        "entrada_celular_dia3 = input('Digite quanto tempo de tela do 3º dia no celular %H:%M: ')\n",
        "minutos_celular_dia3 = int(datetime.strptime(entrada_celular_dia3, '%H:%M').hour) * 60\n",
        "minutos_celular_dia3 += int(datetime.strptime(entrada_celular_dia3, '%H:%M').minute)\n",
        "\n",
        "entrada_pc_dia3 = input('Digite quanto tempo de tela do 3º dia no computador %H:%M: ')\n",
        "minutos_pc_dia3 = int(datetime.strptime(entrada_pc_dia3, '%H:%M').hour) * 60\n",
        "minutos_pc_dia3 += int(datetime.strptime(entrada_pc_dia3, '%H:%M').minute)\n",
        "\n",
        "# Totais por dispositivo\n",
        "total_tv = minutos_tv_dia1 + minutos_tv_dia2 + minutos_tv_dia3\n",
        "total_celular = minutos_celular_dia1 + minutos_celular_dia2 + minutos_celular_dia3\n",
        "total_pc = minutos_pc_dia1 + minutos_pc_dia2 + minutos_pc_dia3\n",
        "\n",
        "# Média diária de tempo de tela\n",
        "media_diaria_tela = (total_tv + total_celular + total_pc) / 3\n",
        "\n",
        "# Exibindo tempo médio\n",
        "if media_diaria_tela >= 60:\n",
        "    resto_minutos = media_diaria_tela % 60\n",
        "    print(f'Tempo de tela diário é de: {math.floor(media_diaria_tela / 60)} horas e {resto_minutos:.0f} min')\n",
        "else:\n",
        "    print()\n",
        "\n",
        "# Verificando qual dispositivo teve mais uso\n",
        "if total_tv > total_celular and total_tv > total_pc:\n",
        "    print('O aparelho com mais tempo de tela foi a TV.')\n",
        "elif total_celular > total_tv and total_celular > total_pc:\n",
        "    print('O aparelho com mais tempo de tela foi o celular.')\n",
        "else:\n",
        "    print('O aparelho com mais tempo de tela foi o computador.')\n",
        "\n",
        "# Alerta de uso excessivo\n",
        "if (media_diaria_tela / 60) > 10:\n",
        "    print('CUIDADO, ESTÁ A TEMPO DEMAIS NAS TELAS.')\n",
        "else:\n",
        "    print()"
      ],
      "metadata": {
        "id": "XRvWWpKFLW-U",
        "colab": {
          "base_uri": "https://localhost:8080/"
        },
        "outputId": "cb3ac12b-b0e3-467b-9f26-d17fbb051c27"
      },
      "execution_count": null,
      "outputs": [
        {
          "output_type": "stream",
          "name": "stdout",
          "text": [
            "Digite quanto tempo de tela do 1º dia na TV %H:%M: 01:15\n",
            "Digite quanto tempo de tela do 1º dia no celular %H:%M: 2:00\n",
            "Digite quanto tempo de tela do 1º dia no computador %H:%M: 00:30\n",
            "Digite quanto tempo de tela do 2º dia na TV %H:%M: 00:54\n",
            "Digite quanto tempo de tela do 2º dia no celular %H:%M: 03:55\n",
            "Digite quanto tempo de tela do 2º dia no computador %H:%M: 2:10\n",
            "Digite quanto tempo de tela do 3º dia na TV %H:%M: 00:00\n",
            "Digite quanto tempo de tela do 3º dia no celular %H:%M: 5:48\n",
            "Digite quanto tempo de tela do 3º dia no computador %H:%M: 3:23\n",
            "Tempo de tela diário é de: 6 horas e 38 min\n",
            "O aparelho com mais tempo de tela foi o celular.\n",
            "\n"
          ]
        }
      ]
    },
    {
      "cell_type": "code",
      "source": [
        "#09 Elabore um algoritmo que simule o rendimento de um plantio de hortaliças. Receba a área (em m²), o tipo da planta (cenoura, alface ou couve) e o rendimento médio por m².\n",
        "#Calcule a produção esperada e diga se será suficiente para abastecer um mercado local (mínimo de 100 kg).\n",
        "\n",
        "# Entrada de dados\n",
        "area = float(input('Digite a área do plantio (em m²): '))\n",
        "tipo_planta = input('Digite o tipo da planta (cenoura, alface ou couve): ').lower()\n",
        "rendimento_por_m2 = float(input('Digite o rendimento médio por m² (em kg/m²): '))\n",
        "\n",
        "# Validação do tipo de planta\n",
        "plantas_validas = ['cenoura', 'alface', 'couve']\n",
        "if tipo_planta not in plantas_validas:\n",
        "    print('Erro: Tipo de planta inválido! Escolha entre cenoura, alface ou couve.')\n",
        "else:\n",
        "    # Cálculo da produção\n",
        "    #producao, suficiente = calcular_producao(area, tipo_planta, rendimento_por_m2)\n",
        "    producao = area * rendimento_por_m2\n",
        "    # Exibindo resultados\n",
        "    print(f'Resultados para o plantio de {tipo_planta}: ')\n",
        "    print(f'Área plantada: {area:.2f} m²')\n",
        "    print(f'Rendimento médio: {rendimento_por_m2:.2f} kg/m²')\n",
        "    print(f'Produção esperada: {producao:.2f} kg')\n",
        "\n",
        "    if producao >= 100:\n",
        "        print('A produção é suficiente para abastecer o mercado local (mínimo de 100 kg).')\n",
        "    else:\n",
        "        print('A produção NÃO é suficiente para abastecer o mercado local (mínimo de 100 kg).')"
      ],
      "metadata": {
        "id": "Yg3L6Zh8LXMK",
        "colab": {
          "base_uri": "https://localhost:8080/"
        },
        "outputId": "dc2f9c39-c92b-4910-f255-a555612fb7df"
      },
      "execution_count": null,
      "outputs": [
        {
          "output_type": "stream",
          "name": "stdout",
          "text": [
            "Digite a área do plantio (em m²): 100\n",
            "Digite o tipo da planta (cenoura, alface ou couve): alface\n",
            "Digite o rendimento médio por m² (em kg/m²): 5\n",
            "Resultados para o plantio de alface: \n",
            "Área plantada: 100.00 m²\n",
            "Rendimento médio: 5.00 kg/m²\n",
            "Produção esperada: 500.00 kg\n",
            "A produção é suficiente para abastecer o mercado local (mínimo de 100 kg).\n"
          ]
        }
      ]
    },
    {
      "cell_type": "code",
      "source": [
        "#10 Crie um algoritmo que simule um plano de leitura.\n",
        "#O usuário informa a quantidade de páginas de um livro, o tempo diário disponível para leitura (em minutos) e a velocidade média de leitura (páginas por minuto).\n",
        "#O programa deve estimar quantos dias ele levará para terminar e sugerir um cronograma diário.\n",
        "from datetime import datetime\n",
        "import math\n",
        "\n",
        "quant_pg_livro= int(input('Digite a qunatidade de páginas de uma livro: '))\n",
        "\n",
        "tempo_d= input('Digite o tempo diponível para leitura %H:%M: ')\n",
        "th= int(datetime.strptime(tempo_d, '%H:%M').hour)*60\n",
        "tmin= (int(datetime.strptime(tempo_d, '%H:%M').minute))\n",
        "td_total= th+tmin\n",
        "\n",
        "vel= int(input('Digite velocidade média de leitura (páginas por minuto): '))\n",
        "\n",
        "x = (quant_pg_livro) / (vel)\n",
        "\n",
        "dias_p_ler= x / td_total\n",
        "\n",
        "\n",
        "if dias_p_ler<1:\n",
        "  print(f'É necessário {x%td_total} min para ler o livro de {quant_pg_livro} páginas.')\n",
        "\n",
        "else:\n",
        "  print(f'É necessário {math.floor(dias_p_ler)} dias e {x%td_total} min para ler um livro de {quant_pg_livro} páginas.')\n"
      ],
      "metadata": {
        "id": "G5rsDDt7LXZ4",
        "colab": {
          "base_uri": "https://localhost:8080/"
        },
        "outputId": "9ada7eea-b426-4004-c05c-af1b1daafa0c"
      },
      "execution_count": null,
      "outputs": [
        {
          "output_type": "stream",
          "name": "stdout",
          "text": [
            "Digite a qunatidade de páginas de uma livro: 105\n",
            "Digite o tempo diponível para leitura %H:%M: 00:08\n",
            "Digite velocidade média de leitura (páginas por minuto): 2\n",
            "É necessário 6 dias e 4.5 min para ler um livro de 105 páginas.\n"
          ]
        }
      ]
    },
    {
      "cell_type": "code",
      "execution_count": null,
      "metadata": {
        "colab": {
          "base_uri": "https://localhost:8080/"
        },
        "id": "Nk-eMQ87webK",
        "outputId": "c5d75db9-1e3f-4930-e1b1-234fbb5db79e"
      },
      "outputs": [
        {
          "name": "stdout",
          "output_type": "stream",
          "text": [
            "Digite o número de pessoas na frente: 15\n",
            "Digite o tempo médio de atendimento por pessoa em minutos: 10\n",
            "O tempo total estimado de espera é de 2 horas e 30 minutos.\n",
            "É melhor voltar depois.\n"
          ]
        }
      ],
      "source": [
        "#11 Desenvolva um algoritmo que simule o tempo de espera em uma fila de atendimento. O usuário informa o número de pessoas na frente e o tempo médio de atendimento por pessoa.\n",
        "# O programa deve exibir o tempo total estimado de espera em horas e minutos e indicar se é melhor voltar depois.\n",
        "\n",
        "pessoas = int(input('Digite o número de pessoas na frente: '))\n",
        "tempo = int(input('Digite o tempo médio de atendimento por pessoa em minutos: '))\n",
        "\n",
        "tempo_total = pessoas * tempo\n",
        "tempo_total_horas = tempo_total // 60\n",
        "tempo_total_minutos = tempo_total % 60\n",
        "\n",
        "print(f'O tempo total estimado de espera é de {tempo_total_horas} horas e {tempo_total_minutos} minutos.')\n",
        "if tempo_total_horas > 0:\n",
        "    print('É melhor voltar depois.')\n",
        "else:\n",
        "    print('É melhor esperar.')"
      ]
    },
    {
      "cell_type": "code",
      "execution_count": null,
      "metadata": {
        "colab": {
          "base_uri": "https://localhost:8080/"
        },
        "id": "XOClv0QRwlCl",
        "outputId": "54923b5c-f5fc-469c-f0c0-b3f888423ed6"
      },
      "outputs": [
        {
          "name": "stdout",
          "output_type": "stream",
          "text": [
            "Digite a data de fabricação do produto DD/MM/YYYY: 01/04/2025\n",
            "Digite a validade do produto em dias: 10\n",
            "Produto vencido\n"
          ]
        }
      ],
      "source": [
        "#12 Elabore um algoritmo que ajude no controle de validade de alimentos. O usuário informa a data de fabricação e a validade (em dias).\n",
        "# O programa calcula quantos dias faltam para vencer e emite alertas em cores (texto) se estiver perto de vencer (menos de 5 dias) ou já vencido.\n",
        "\n",
        "from datetime import datetime, timedelta\n",
        "\n",
        "fabricacao = input('Digite a data de fabricação do produto DD/MM/YYYY: ')\n",
        "validade = int(input('Digite a validade do produto em dias: '))\n",
        "\n",
        "fabri = datetime.strptime(fabricacao, '%d/%m/%Y')\n",
        "vencimento = fabri + timedelta(days=validade)\n",
        "hoje = datetime.now()\n",
        "prazo = (vencimento - hoje).days\n",
        "\n",
        "if prazo > 5:\n",
        "  print(f'Faltam {prazo} dias para vencer o produto.')\n",
        "elif 0 < prazo <= 5:\n",
        "  print('Produto próximo ao vencimento')\n",
        "else:\n",
        "  print('Produto vencido')\n"
      ]
    },
    {
      "cell_type": "code",
      "execution_count": null,
      "metadata": {
        "colab": {
          "base_uri": "https://localhost:8080/"
        },
        "id": "maSMfYjzwlMM",
        "outputId": "9f19d9a3-8c83-4bb6-f604-4599a379a055"
      },
      "outputs": [
        {
          "name": "stdout",
          "output_type": "stream",
          "text": [
            "Digite a data do evento DD/MM/YYYY: 26/04/2026\n",
            "Faltam 368 dias para o evento!\n"
          ]
        }
      ],
      "source": [
        "#13 Crie um algoritmo que receba a data atual e a data de um evento (em qualquer ano) e informe quantos dias faltam. O programa deve considerar se o evento está no mesmo ano, em um ano futuro ou se já passou.\n",
        "\n",
        "evento = input('Digite a data do evento DD/MM/YYYY: ')\n",
        "hoje = datetime.now()\n",
        "data_evento = datetime.strptime(evento, '%d/%m/%Y')\n",
        "tempo = (data_evento - hoje).days\n",
        "\n",
        "if tempo < 0:\n",
        "  print('Evento já aconteceu!')\n",
        "elif tempo == 0:\n",
        "  print('Evento acontecerá hoje')\n",
        "else:\n",
        "  print(f'Faltam {tempo} dias para o evento!')"
      ]
    },
    {
      "cell_type": "code",
      "execution_count": null,
      "metadata": {
        "colab": {
          "base_uri": "https://localhost:8080/"
        },
        "id": "zuel7d8ewlTl",
        "outputId": "3fd489c1-6703-49d2-dfff-63743dda3894"
      },
      "outputs": [
        {
          "name": "stdout",
          "output_type": "stream",
          "text": [
            "Digite a idade da criança: 6\n",
            "Digite o tempo de tela diária em minutos: 121\n",
            "Tempo de tela exagerado para a idade!\n"
          ]
        }
      ],
      "source": [
        "#14 Desenvolva um algoritmo que ajude a controlar o tempo de tela de crianças. O usuário deve informar a idade da criança e o tempo de uso de dispositivos eletrônicos.\n",
        "# Com base na recomendação da OMS para cada faixa etária, diga se o uso está adequado ou exagerado.\n",
        "\n",
        "# Menos de 2 anos, nenhum tempo de tela\n",
        "# 2 a 5 anos, máximo de 1 hora por dia\n",
        "# 6 a 10 anos, máximo de 2 horas por dia\n",
        "\n",
        "idade = int(input('Digite a idade da criança: '))\n",
        "tela = int(input('Digite o tempo de tela diária em minutos: '))\n",
        "\n",
        "if idade < 2:\n",
        "  if tela <= 0:\n",
        "    print('Tempo de tela adequado para a idade!')\n",
        "  else:\n",
        "    print('Tempo de tela exagerado para a idade!')\n",
        "elif 2 <= idade <= 5:\n",
        "  if tela <= 60:\n",
        "    print('Tempo de tela adequado para a idade!')\n",
        "  else:\n",
        "    print('Tempo de tela exagerado para a idade!')\n",
        "else:\n",
        "  if tela <= 120:\n",
        "    print('Tempo de tela adequado para a idade!')\n",
        "  else:\n",
        "    print('Tempo de tela exagerado para a idade!')"
      ]
    },
    {
      "cell_type": "code",
      "execution_count": null,
      "metadata": {
        "colab": {
          "base_uri": "https://localhost:8080/"
        },
        "id": "HZOZe_BgwlcL",
        "outputId": "41f95d2d-64b1-402e-ae85-8783954190ef"
      },
      "outputs": [
        {
          "name": "stdout",
          "output_type": "stream",
          "text": [
            "Digite a hora de saídada viagem HH:MM: 17:00\n",
            "Digite o tempo de voo em minutos: 15\n",
            "Digite o tempo de espera em escalas em minutos: 45\n",
            "O tempo de viagem é de 1 horas e 0 minutos\n",
            "O horário de chegada é 18:00.\n"
          ]
        }
      ],
      "source": [
        "#15 Elabore um algoritmo que calcule o tempo exato de um voo com escalas. O usuário informa o horário de saída, o tempo de voo e o tempo total de espera em escalas.\n",
        "# O sistema deve calcular o horário final de chegada e a duração total da viagem.\n",
        "\n",
        "from datetime import datetime, timedelta\n",
        "hora_saida = input('Digite a hora de saídada viagem HH:MM: ')\n",
        "temp_voo = int(input('Digite o tempo de voo em minutos: '))\n",
        "temp_espera = int(input('Digite o tempo de espera em escalas em minutos: '))\n",
        "\n",
        "hora_saida = datetime.strptime(hora_saida, '%H:%M')\n",
        "temp_viagem = timedelta(minutes=temp_voo + temp_espera)\n",
        "temp_viagem_hora = (temp_voo + temp_espera) // 60\n",
        "temp_viagem_min = (temp_voo + temp_espera) % 60\n",
        "\n",
        "hora_chegada = hora_saida + temp_viagem\n",
        "\n",
        "\n",
        "print(f'O tempo de viagem é de {temp_viagem_hora} horas e {temp_viagem_min} minutos')\n",
        "print(f'O horário de chegada é {hora_chegada.strftime(\"%H:%M\")}.')"
      ]
    },
    {
      "cell_type": "code",
      "execution_count": null,
      "metadata": {
        "colab": {
          "base_uri": "https://localhost:8080/"
        },
        "id": "P7TKJR_0wlku",
        "outputId": "aa8da7d5-4707-410f-95f0-3d622d433705"
      },
      "outputs": [
        {
          "name": "stdout",
          "output_type": "stream",
          "text": [
            "Digite o valor da compra: 300\n",
            "A compra ficou no valor de 255.0 reais tendo 45.0 reais de desconto!\n"
          ]
        }
      ],
      "source": [
        "#16 Crie um algoritmo que calcule a economia gerada por um desconto progressivo.\n",
        "# O usuário informa o valor de uma compra e o sistema aplica descontos por faixa: até R$100 (5%), até R$200 (10%), acima disso (15%). Exiba o valor com desconto e a economia obtida.\n",
        "\n",
        "valor = float(input('Digite o valor da compra: '))\n",
        "\n",
        "if valor <= 100:\n",
        "  desconto = valor * 0.05\n",
        "  valor_desc = valor - desconto\n",
        "  print(f'A compra ficou no valor de {valor_desc} reais tendo {desconto} reais de desconto!')\n",
        "elif valor <= 200:\n",
        "  desconto2 = valor * 0.1\n",
        "  valor_desc2 = valor - desconto2\n",
        "  print(f'A compra ficou no valor de {valor_desc2} reais tendo {desconto2} reais de desconto!')\n",
        "else:\n",
        "  desconto3 = valor * 0.15\n",
        "  valor_desc3 = valor - desconto3\n",
        "  print(f'A compra ficou no valor de {valor_desc3} reais tendo {desconto3} reais de desconto!')"
      ]
    },
    {
      "cell_type": "code",
      "execution_count": null,
      "metadata": {
        "colab": {
          "base_uri": "https://localhost:8080/"
        },
        "id": "YXxGrepUwltd",
        "outputId": "baa54b7b-c0b5-437a-a2ec-1ad38467a8e7"
      },
      "outputs": [
        {
          "name": "stdout",
          "output_type": "stream",
          "text": [
            "Digite sua idade: 19\n",
            "Digite o tempo que pretende manter hábitos saudáveis (em anos): 15\n",
            "Sua expectativa de vida a mais é de 6 ano(s)!\n"
          ]
        }
      ],
      "source": [
        "#17 Elabore um algoritmo que simule a passagem de anos em um relógio biológico. O usuário informa a idade e o tempo (em anos) em que pretende manter hábitos saudáveis.\n",
        "# O sistema deve estimar, com base em dados simulados, quanto de expectativa de vida ele “ganharia” a mais, usando faixas de ganho por período.\n",
        "\n",
        "# 1 a 5 anos saudáveis → +1 ano de vida\n",
        "# 6 a 10 anos saudáveis → +3 anos de vida\n",
        "# 11 a 20 anos saudáveis → +6 anos de vida\n",
        "# Mais de 20 anos saudáveis → +10 anos de vida\n",
        "\n",
        "idade = int(input('Digite sua idade: '))\n",
        "tempo = int(input('Digite o tempo que pretende manter hábitos saudáveis (em anos): '))\n",
        "\n",
        "if 1 <= tempo <=5:\n",
        "  ganho = 1\n",
        "elif tempo <= 10:\n",
        "  ganho = 3\n",
        "elif tempo <= 20:\n",
        "  ganho = 6\n",
        "else:\n",
        "  ganho = 10\n",
        "\n",
        "print(f'Sua expectativa de vida a mais é de {ganho} ano(s)!')"
      ]
    },
    {
      "cell_type": "code",
      "execution_count": null,
      "metadata": {
        "colab": {
          "base_uri": "https://localhost:8080/"
        },
        "id": "jilKlsdwwl1l",
        "outputId": "c0bf62f7-1372-4896-adc2-15b6a930ef4a"
      },
      "outputs": [
        {
          "name": "stdout",
          "output_type": "stream",
          "text": [
            "Digite a hora que você precisa acordar HH:MM: 7:00\n",
            "Sugestão de dormir as 02:30\n",
            "Sugestão de dormir as 01:00\n",
            "Sugestão de dormir as 23:30\n"
          ]
        }
      ],
      "source": [
        "#18 Crie um algoritmo que simule o horário ideal de sono. O usuário informa a hora em que precisa acordar e o sistema sugere três horários para dormir com base em ciclos de 90 minutos (recomendação médica).\n",
        "from datetime import datetime, timedelta\n",
        "acordar = input('Digite a hora que você precisa acordar HH:MM: ')\n",
        "hora_acordar = datetime.strptime(acordar, '%H:%M')\n",
        "\n",
        "hora_dormir = hora_acordar - timedelta(minutes=270)\n",
        "hora_dormir1 = datetime.strftime(hora_dormir, '%H:%M')\n",
        "\n",
        "hora_dormir2 = hora_acordar - timedelta(minutes=360)\n",
        "hora_dormir_2 = datetime.strftime(hora_dormir2, '%H:%M')\n",
        "\n",
        "hora_dormir3 = hora_acordar - timedelta(minutes=450)\n",
        "hora_dormir_3 = datetime.strftime(hora_dormir3, '%H:%M')\n",
        "\n",
        "print(f'Sugestão de dormir as {hora_dormir1}')\n",
        "print(f'Sugestão de dormir as {hora_dormir_2}')\n",
        "print(f'Sugestão de dormir as {hora_dormir_3}')"
      ]
    },
    {
      "cell_type": "code",
      "execution_count": null,
      "metadata": {
        "colab": {
          "base_uri": "https://localhost:8080/"
        },
        "id": "NuC3aTHfwl80",
        "outputId": "094e2ba8-d5e0-41ea-a276-141a0fcd157f"
      },
      "outputs": [
        {
          "name": "stdout",
          "output_type": "stream",
          "text": [
            "Digite a quantidade de passos por minuto: 100\n",
            "Digite o tempo de caminhada em minutos: 50\n",
            "Digite seu peso em Kg: 65\n",
            "Você percorreu 3 quilômetro(s) e perdeu aproximadamente 195.0 calorias!\n"
          ]
        }
      ],
      "source": [
        "#19 Desenvolva um algoritmo que simule uma caminhada virtual. O usuário informa quantos passos dá por minuto e quanto tempo caminhou.\n",
        "# O programa calcula quantos quilômetros percorreu, sabendo que 1.300 passos equivalem a 1 km, e fornece uma estimativa de calorias gastas.\n",
        "\n",
        "passos = int(input('Digite a quantidade de passos por minuto: '))\n",
        "tempo = int(input('Digite o tempo de caminhada em minutos: '))\n",
        "peso = float(input('Digite seu peso em Kg: '))\n",
        "\n",
        "km = (passos * tempo) // 1300\n",
        "calorias = peso * km\n",
        "\n",
        "print(f'Você percorreu {km} quilômetro(s) e perdeu aproximadamente {calorias} calorias!')"
      ]
    },
    {
      "cell_type": "code",
      "execution_count": null,
      "metadata": {
        "colab": {
          "base_uri": "https://localhost:8080/"
        },
        "id": "DPLbG9GewmEj",
        "outputId": "05710eca-12d6-4f29-d082-b3dc9ff734e6"
      },
      "outputs": [
        {
          "output_type": "stream",
          "name": "stdout",
          "text": [
            "A hora atual é 8\n",
            "O minuto atual é 15\n",
            "Faltam 9 horas e 45 minutos para o por do sol!\n"
          ]
        }
      ],
      "source": [
        "#20 Elabore um algoritmo que leia a data e hora atual e informe em quanto tempo (em horas e minutos) acontecerá o pôr do sol, considerando que ele ocorrerá às 18h.\n",
        "# Se o horário atual for após esse horário, exiba que o sol já se pôs.\n",
        "\n",
        "from datetime import datetime, timedelta\n",
        "import pytz\n",
        "\n",
        "fuso_sp = pytz.timezone('America/Sao_Paulo')\n",
        "agora_sp = datetime.now(fuso_sp).hour\n",
        "agora_sp1 = datetime.now(fuso_sp).minute\n",
        "print(f'A hora atual é {agora_sp}')\n",
        "print(f'O minuto atual é {agora_sp1}')\n",
        "\n",
        "por_do_sol = 18\n",
        "\n",
        "if agora_sp >= por_do_sol:\n",
        "  print('O sol ja se pôs!')\n",
        "elif agora_sp == por_do_sol - 1:\n",
        "  tempo = 60 - agora_sp1\n",
        "  print(f'Faltam {tempo} minutos para o por do sol!')\n",
        "else:\n",
        "  hora = (por_do_sol - 1) - agora_sp\n",
        "  minuto = 60 - agora_sp1\n",
        "  print(f'Faltam {hora} horas e {minuto} minutos para o por do sol!')\n"
      ]
    },
    {
      "cell_type": "code",
      "execution_count": null,
      "metadata": {
        "id": "OF4PmjNMqVmW",
        "colab": {
          "base_uri": "https://localhost:8080/"
        },
        "outputId": "4cc96aad-df5f-4736-ca50-5745da868792"
      },
      "outputs": [
        {
          "output_type": "stream",
          "name": "stdout",
          "text": [
            "Digite o seu pedido [entrada(1), principal(2), sobremesa(3)]: 1\n",
            "Deseja continuar? (s/n)s\n",
            "Digite o seu pedido [entrada(1), principal(2), sobremesa(3)]: 2\n",
            "Deseja continuar? (s/n)s\n",
            "Digite o seu pedido [entrada(1), principal(2), sobremesa(3)]: 3\n",
            "Deseja continuar? (s/n)n\n",
            "Seu pedido ficará pronto em 2.0 horas.\n"
          ]
        }
      ],
      "source": [
        "#21 - Crie um algoritmo que simule o tempo de preparo de uma refeição. O usuário escolhe 3 pratos (entrada, principal, sobremesa), cada um com seu tempo de preparo. O sistema informa o tempo total e sugere uma ordem de preparo para otimizar o tempo, se possível.\n",
        "tempo = 0\n",
        "while True:\n",
        "  pedido = int(input('Digite o seu pedido [entrada(1), principal(2), sobremesa(3)]: '))\n",
        "  if pedido == 1:\n",
        "    tempo += 30\n",
        "  if pedido == 2:\n",
        "    tempo += 60\n",
        "  if pedido == 3:\n",
        "    tempo += 30\n",
        "  cont = input('Deseja continuar? (s/n)').lower()\n",
        "  if cont != 's':\n",
        "    break\n",
        "print(f'Seu pedido ficará pronto em {tempo/60} horas.')"
      ]
    },
    {
      "cell_type": "code",
      "source": [
        "#22 - Elabore um algoritmo que ajude um motorista a planejar uma viagem de ida e volta. Receba a distância (em km), o tempo de parada previsto na cidade de destino e a velocidade média. Calcule o tempo total da jornada e o tempo disponível para descanso antes do retorno.\n",
        "km = int(input('Digite a distância total da viagem em km: '))\n",
        "descanso = int(input('Digite o tempo de descanso necessário em min para : '))\n",
        "vmedia = int(input('Digite a velocidade média em km/h: '))\n",
        "tempo_total = km/vmedia\n",
        "print(f'O tempo gasto total da viagem será de {tempo_total + (descanso/60)} horas.')"
      ],
      "metadata": {
        "id": "fOaZ9eOaqmFj",
        "colab": {
          "base_uri": "https://localhost:8080/"
        },
        "outputId": "9b6f4ce7-1acb-470c-e4e0-740c322f04a1"
      },
      "execution_count": null,
      "outputs": [
        {
          "output_type": "stream",
          "name": "stdout",
          "text": [
            "Digite a distância total da viagem em km: 350\n",
            "Digite o tempo de descanso necessário em min para : 20\n",
            "Digite a velocidade média em km/h: 90\n",
            "O tempo gasto total da viagem será de 4.222222222222222 horas.\n"
          ]
        }
      ]
    },
    {
      "cell_type": "code",
      "source": [
        "#23 - Desenvolva um algoritmo que calcule quantos segundos faltam para o ano novo, recebendo a data e hora atual. O sistema deve considerar se o ano é bissexto ou não.\n",
        "from datetime import datetime, timedelta, date, time\n",
        "import pytz\n",
        "fuso_horario = pytz.timezone('America/Sao_Paulo')\n",
        "data_atual = datetime.now(fuso_horario).date()\n",
        "ano_novo = '01/01/2026'\n",
        "ano_novo1 = datetime.strptime(ano_novo, '%d/%m/%Y').date()\n",
        "calc = (ano_novo1 - data_atual).days\n",
        "print(f'Data atual: {data_atual}')\n",
        "print(f'Data do ano novo: {ano_novo1}')\n",
        "print(f'{calc} dias para o ano novo.')\n",
        "tempo = calc * 86400\n",
        "print(f'Ainda faltam {tempo} segundos para o ano novo.')"
      ],
      "metadata": {
        "id": "doNq3ldAqqUi",
        "colab": {
          "base_uri": "https://localhost:8080/"
        },
        "outputId": "277823e9-6a54-4443-b27d-7c9a6ab5cabd"
      },
      "execution_count": null,
      "outputs": [
        {
          "output_type": "stream",
          "name": "stdout",
          "text": [
            "Data atual: 2025-04-24\n",
            "Data do ano novo: 2026-01-01\n",
            "252 dias para o ano novo.\n",
            "Ainda faltam 21772800 segundos para o ano novo.\n"
          ]
        }
      ]
    },
    {
      "cell_type": "code",
      "source": [
        "#24 - Crie um algoritmo que simule a leitura de um termômetro inteligente. O usuário informa temperaturas de manhã, tarde e noite por 5 dias. O sistema deve exibir a maior e menor temperatura da semana, a média geral e se houve risco de insolação (temperaturas acima de 35ºC em dois períodos do mesmo dia).\n",
        "registro = []\n",
        "soma_manha = 0\n",
        "soma_tarde = 0\n",
        "soma_noite = 0\n",
        "insolacao = 0\n",
        "for i in range(5):\n",
        "  print(f'Dia {i+1} - Digite as temperaturas referentes a cada parte do dia em °C.')\n",
        "  manha = int(input('Manhã: '))\n",
        "  soma_manha += manha\n",
        "  tarde = int(input('Tarde: '))\n",
        "  soma_tarde += tarde\n",
        "  noite = int(input('Noite: '))\n",
        "  soma_noite += noite\n",
        "  registro.append(manha)\n",
        "  registro.append(tarde)\n",
        "  registro.append(noite)\n",
        "media = (soma_manha+soma_tarde+soma_noite)/15\n",
        "maior_temp = max(registro)\n",
        "menor_temp = min(registro)\n",
        "print('------------------')\n",
        "print('RESULTADOS')\n",
        "print('------------------')\n",
        "print(f'A média de temperatura da semnana foi {media:.2f}°C.')\n",
        "print(f'A maior temperatura registrada foi {maior_temp}°C.')\n",
        "print(f'A menor temperatura registrada foi {menor_temp}°C.')\n",
        "if manha > 35:\n",
        "  insolacao += 1\n",
        "if tarde > 35:\n",
        "  insolacao += 1\n",
        "if noite > 35:\n",
        "  insolacao += 1\n",
        "if insolacao <= 2:\n",
        "  print('Nesta semana não houve risco de insolação.')\n",
        "else:\n",
        "  print('Nesta semana houve risco de insolação.')"
      ],
      "metadata": {
        "id": "yitb3PRxqtkd",
        "colab": {
          "base_uri": "https://localhost:8080/"
        },
        "outputId": "f43a9f8e-f905-4911-f157-df180e62c1ee"
      },
      "execution_count": null,
      "outputs": [
        {
          "output_type": "stream",
          "name": "stdout",
          "text": [
            "Dia 1 - Digite as temperaturas referentes a cada parte do dia em °C.\n",
            "Manhã: 23\n",
            "Tarde: 30\n",
            "Noite: 24\n",
            "Dia 2 - Digite as temperaturas referentes a cada parte do dia em °C.\n",
            "Manhã: 26\n",
            "Tarde: 28\n",
            "Noite: 22\n",
            "Dia 3 - Digite as temperaturas referentes a cada parte do dia em °C.\n",
            "Manhã: 20\n",
            "Tarde: 26\n",
            "Noite: 18\n",
            "Dia 4 - Digite as temperaturas referentes a cada parte do dia em °C.\n",
            "Manhã: 28\n",
            "Tarde: 32\n",
            "Noite: 25\n",
            "Dia 5 - Digite as temperaturas referentes a cada parte do dia em °C.\n",
            "Manhã: 26\n",
            "Tarde: 33\n",
            "Noite: 27\n",
            "------------------\n",
            "RESULTADOS\n",
            "------------------\n",
            "A média de temperatura da semnana foi 25.87°C.\n",
            "A maior temperatura registrada foi 33°C.\n",
            "A menor temperatura registrada foi 18°C.\n",
            "Nesta semana não houve risco de insolação.\n"
          ]
        }
      ]
    },
    {
      "cell_type": "code",
      "source": [
        "#25 - Elabore um algoritmo que simule o deslocamento de um ciclista. O usuário informa a velocidade média (em km/h) e a duração da pedalada em dias diferentes. O programa calcula a distância total percorrida e destaca o dia de maior rendimento.\n",
        "dias = int(input('Quantos dias deseja registrar? '))\n",
        "distancias = []\n",
        "for i in range(dias):\n",
        "  print(f'Dia {i + 1}')\n",
        "  vmedia = int(input('Digite a velocidade média deste dia em km/h: '))\n",
        "  t = int(input('Digite o tempo da corrida deste dia em minutos: '))\n",
        "  dist_total = vmedia * (t/60)\n",
        "  print(f'A distância pecorrida do dia {i} foi {dist_total} km.')\n",
        "  distancias.append(dist_total)\n",
        "maior_rendimento = max(distancias)\n",
        "dia_maior_rendimento = distancias.index(maior_rendimento) + 1\n",
        "print('------------------')\n",
        "print('RESULTADOS')\n",
        "print('------------------')\n",
        "print(f'As distâncias registradas foram: {distancias}')\n",
        "print(f'O maior rendimento foi de {maior_rendimento} km.')\n",
        "print(f'O dia de maior rendimento foi o dia {dia_maior_rendimento}.')"
      ],
      "metadata": {
        "id": "JAzNJKteqxaF",
        "colab": {
          "base_uri": "https://localhost:8080/"
        },
        "outputId": "0b12fd17-ad02-4841-b750-dcb723cecdd3"
      },
      "execution_count": null,
      "outputs": [
        {
          "output_type": "stream",
          "name": "stdout",
          "text": [
            "Quantos dias deseja registrar? 3\n",
            "Dia 1\n",
            "Digite a velocidade média deste dia em km/h: 10\n",
            "Digite o tempo da corrida deste dia em minutos: 60\n",
            "A distância pecorrida do dia 0 foi 10.0 km.\n",
            "Dia 2\n",
            "Digite a velocidade média deste dia em km/h: 15\n",
            "Digite o tempo da corrida deste dia em minutos: 60\n",
            "A distância pecorrida do dia 1 foi 15.0 km.\n",
            "Dia 3\n",
            "Digite a velocidade média deste dia em km/h: 20\n",
            "Digite o tempo da corrida deste dia em minutos: 60\n",
            "A distância pecorrida do dia 2 foi 20.0 km.\n",
            "------------------\n",
            "RESULTADOS\n",
            "------------------\n",
            "As distâncias registradas foram: [10.0, 15.0, 20.0]\n",
            "O maior rendimento foi de 20.0 km.\n",
            "O dia de maior rendimento foi o dia 3.\n"
          ]
        }
      ]
    },
    {
      "cell_type": "code",
      "source": [
        "#26 - Crie um algoritmo que simule o registro de tempo de uso de energia por aparelhos domésticos. Para três aparelhos, o usuário informa a potência (em watts) e o tempo de uso diário (em horas). O sistema deve calcular o consumo mensal (em kWh) de cada aparelho e o total da residência.\n",
        "consumo = []\n",
        "for i in range(3):\n",
        "  print(f'Aparelho {i+1}:')\n",
        "  pot = int(input('Digite a potência do aparelho em watts: '))\n",
        "  t = int(input('Digite o tempo de uso diário do aparelho em horas: '))\n",
        "  mensal = (pot*t*30)/1000\n",
        "  consumo.append(mensal)\n",
        "  print(f'O consumo mensal do aparelho {i+1} é {mensal} kWh.')\n",
        "mensal_total = sum(consumo)\n",
        "print('------------------')\n",
        "print('RESULTADOS')\n",
        "print('------------------')\n",
        "for i in range(3):\n",
        "  print(f'Aparelho {i+1}: {consumo[i]} kWh')\n",
        "print(f'O consumo total da residência é de {mensal_total} kWh.')"
      ],
      "metadata": {
        "id": "PN2uMN15q4_2",
        "colab": {
          "base_uri": "https://localhost:8080/"
        },
        "outputId": "cbbe5193-8b03-4dde-81d3-daba2818c3df"
      },
      "execution_count": null,
      "outputs": [
        {
          "output_type": "stream",
          "name": "stdout",
          "text": [
            "Aparelho 1:\n",
            "Digite a potência do aparelho em watts: 100\n",
            "Digite o tempo de uso diário do aparelho em horas: 3\n",
            "O consumo mensal do aparelho 1 é 9.0 kWh.\n",
            "Aparelho 2:\n",
            "Digite a potência do aparelho em watts: 200\n",
            "Digite o tempo de uso diário do aparelho em horas: 2\n",
            "O consumo mensal do aparelho 2 é 12.0 kWh.\n",
            "Aparelho 3:\n",
            "Digite a potência do aparelho em watts: 300\n",
            "Digite o tempo de uso diário do aparelho em horas: 1\n",
            "O consumo mensal do aparelho 3 é 9.0 kWh.\n",
            "------------------\n",
            "RESULTADOS\n",
            "------------------\n",
            "Aparelho 1: 9.0 kWh\n",
            "Aparelho 2: 12.0 kWh\n",
            "Aparelho 3: 9.0 kWh\n",
            "O consumo total da residência é de 30.0 kWh.\n"
          ]
        }
      ]
    },
    {
      "cell_type": "code",
      "source": [
        "#27 - Desenvolva um algoritmo que receba a hora e minuto em que um paciente tomou um remédio e calcule os próximos 3 horários ideais para as próximas doses, considerando que o medicamento deve ser tomado a cada 8 horas.\n",
        "from datetime import datetime, date, time, timedelta\n",
        "hr = int(input('Digite a hora da primeira dose: '))\n",
        "min = int(input('Digite o minuto da primeira dose: '))\n",
        "hj = datetime.now().date()\n",
        "dose = datetime(hj.year, hj.month, hj.day, hr, min)\n",
        "print(f\"Dose 1: {dose.strftime('%d/%m/%Y %H:%M')}\")\n",
        "for i in range(1, 4):\n",
        "    prox_dose = dose + timedelta(hours=8*i)\n",
        "    print(f\"Dose {i+1}: {prox_dose.strftime('%d/%m/%Y %H:%M')}\")"
      ],
      "metadata": {
        "id": "XTebj39Pq8EX",
        "colab": {
          "base_uri": "https://localhost:8080/"
        },
        "outputId": "ff8da880-de19-409c-e94f-6566895bd4d5"
      },
      "execution_count": null,
      "outputs": [
        {
          "output_type": "stream",
          "name": "stdout",
          "text": [
            "Digite a hora da primeira dose: 15\n",
            "Digite o minuto da primeira dose: 30\n",
            "Dose 1: 28/04/2025 15:30\n",
            "Dose 2: 28/04/2025 23:30\n",
            "Dose 3: 29/04/2025 07:30\n",
            "Dose 4: 29/04/2025 15:30\n"
          ]
        }
      ]
    },
    {
      "cell_type": "code",
      "source": [
        "#28 - Elabore um algoritmo que receba a hora atual e diga quanto tempo falta para o início de um filme, que sempre começa às 20h em ponto. Se já passou desse horário, informe quanto tempo de filme a pessoa perdeu, assumindo que o filme tem 2h de duração.\n",
        "from datetime import datetime, date, time, timedelta\n",
        "import pytz\n",
        "fuso = pytz.timezone('America/Sao_Paulo')\n",
        "data_hr_atual = datetime.now(fuso)\n",
        "hr_atual = (data_hr_atual).time()\n",
        "print(hr_atual.strftime('%H:%M:%S'))\n",
        "print(f\"Hora atual: {data_hr_atual.strftime('%d/%m/%Y %H:%M:%S')}\")\n",
        "hj = datetime.now(fuso).date()\n",
        "filme = datetime(hj.year, hj.month, hj.day, 20, 0).time()\n",
        "filme_fim = (datetime(hj.year, hj.month, hj.day, 20, 0) + timedelta(hours = 2)).time()\n",
        "print(filme)\n",
        "print(filme_fim)\n",
        "if hr_atual < filme:\n",
        "  t_falta = (datetime.combine(date.today(), filme) - datetime.combine(date.today(), hr_atual))\n",
        "  print(f\"O filme começará daqui {t_falta}.\")\n",
        "elif hr_atual > filme and hr_atual < filme_fim:\n",
        "  t_perdido = (datetime.combine(date.today(), hr_atual) - datetime.combine(date.today(), filme))\n",
        "  print(f'Você perdeu {t_perdido} do filme.')\n",
        "else:\n",
        "  print('O filme já acabou.')"
      ],
      "metadata": {
        "id": "1cT-8Rm0q_bX",
        "colab": {
          "base_uri": "https://localhost:8080/"
        },
        "outputId": "f18ac607-72cd-4a9f-c987-11f5bd90bb0e"
      },
      "execution_count": null,
      "outputs": [
        {
          "output_type": "stream",
          "name": "stdout",
          "text": [
            "19:08:14\n",
            "Hora atual: 28/04/2025 19:08:14\n",
            "20:00:00\n",
            "22:00:00\n",
            "O filme começará daqui 0:51:45.584708.\n"
          ]
        }
      ]
    },
    {
      "cell_type": "code",
      "source": [
        "#29 - Crie um algoritmo que ajude a calcular o tempo ideal de estudo. O usuário informa o total de horas disponíveis na semana e a quantidade de disciplinas. O sistema calcula quantas horas deve dedicar a cada matéria e alerta se alguma ficar com menos de 1h.\n",
        "t_disponivel = int(input('Digite o tempo disponível para estudo durante a semana em horas: '))\n",
        "num_materias = int(input('Digite o número de matérias a serem estudadas na semana: '))\n",
        "t_materias = t_disponivel / num_materias\n",
        "if t_materias > 1:\n",
        "  print(f'Você terá que se dedicar {t_materias} horas por dia.')\n",
        "else:\n",
        "  print('Menos de 1h por dia!')"
      ],
      "metadata": {
        "id": "iXtP6doBrDFb",
        "colab": {
          "base_uri": "https://localhost:8080/"
        },
        "outputId": "ae55aea9-f43e-4756-a827-3ac890e86ab5"
      },
      "execution_count": null,
      "outputs": [
        {
          "output_type": "stream",
          "name": "stdout",
          "text": [
            "Digite o tempo disponível para estudo durante a semana em horas: 15\n",
            "Digite o número de matérias a serem estudadas na semana: 4\n",
            "Você terá que se dedicar 3.75 horas por dia.\n"
          ]
        }
      ]
    },
    {
      "cell_type": "code",
      "source": [
        "#30 - Desenvolva um algoritmo que simule o acompanhamento de produtividade de um trabalhador remoto. Receba o número de tarefas concluídas por dia durante 5 dias e calcule a média. Se a produtividade cair por dois dias consecutivos, o sistema emite um alerta.\n",
        "produtividade = []\n",
        "for i in range(5):\n",
        "  print(f'Dia {i+1}:')\n",
        "  tarefas = int(input('Digite o número de tarefas concluídas: '))\n",
        "  produtividade.append(tarefas)\n",
        "media = sum(produtividade) / 5\n",
        "print(f'O número de tarefas realizda na semana foi de {sum(produtividade)} tarefas.')\n",
        "print(f'A média de atividades realizadas na semana foi de {media:.0f} tarefas.')\n",
        "for i in range(1, 5):\n",
        "    if produtividade[i] < produtividade[i-1]:\n",
        "        if i >= 2 and produtividade[i-1] < produtividade[i-2]:\n",
        "            queda_consecutiva = True\n",
        "            break\n",
        "if queda_consecutiva:\n",
        "  print('Houve queda de produtividade por dois dias consecutivos!')\n",
        "else:\n",
        "  print('Produtividade estável durante a semana.')"
      ],
      "metadata": {
        "id": "gsTmFcWQrGr7",
        "colab": {
          "base_uri": "https://localhost:8080/"
        },
        "outputId": "ff331e4d-3be3-4ad3-9c65-fc158ef8eae7"
      },
      "execution_count": null,
      "outputs": [
        {
          "output_type": "stream",
          "name": "stdout",
          "text": [
            "Dia 1:\n",
            "Digite o número de tarefas concluídas: 5\n",
            "Dia 2:\n",
            "Digite o número de tarefas concluídas: 6\n",
            "Dia 3:\n",
            "Digite o número de tarefas concluídas: 3\n",
            "Dia 4:\n",
            "Digite o número de tarefas concluídas: 2\n",
            "Dia 5:\n",
            "Digite o número de tarefas concluídas: 7\n",
            "O número de tarefas realizda na semana foi de 23 tarefas.\n",
            "A média de atividades realizadas na semana foi de 5 tarefas.\n",
            "Houve queda de produtividade por dois dias consecutivos!\n"
          ]
        }
      ]
    }
  ],
  "metadata": {
    "colab": {
      "provenance": [],
      "include_colab_link": true
    },
    "kernelspec": {
      "display_name": "Python 3",
      "name": "python3"
    },
    "language_info": {
      "name": "python"
    }
  },
  "nbformat": 4,
  "nbformat_minor": 0
}