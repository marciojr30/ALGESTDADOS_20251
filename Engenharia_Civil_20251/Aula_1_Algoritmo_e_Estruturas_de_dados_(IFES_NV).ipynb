{
  "nbformat": 4,
  "nbformat_minor": 0,
  "metadata": {
    "colab": {
      "provenance": [],
      "authorship_tag": "ABX9TyOafjdlNAsnhwr3igA3KgR2",
      "include_colab_link": true
    },
    "kernelspec": {
      "name": "python3",
      "display_name": "Python 3"
    },
    "language_info": {
      "name": "python"
    }
  },
  "cells": [
    {
      "cell_type": "markdown",
      "metadata": {
        "id": "view-in-github",
        "colab_type": "text"
      },
      "source": [
        "<a href=\"https://colab.research.google.com/github/marciojr30/ALGESTDADOS_20251/blob/main/Engenharia_Civil_20251/Aula_1_Algoritmo_e_Estruturas_de_dados_(IFES_NV).ipynb\" target=\"_parent\"><img src=\"https://colab.research.google.com/assets/colab-badge.svg\" alt=\"Open In Colab\"/></a>"
      ]
    },
    {
      "cell_type": "code",
      "execution_count": null,
      "metadata": {
        "colab": {
          "base_uri": "https://localhost:8080/"
        },
        "id": "a8oLfqFOZtda",
        "outputId": "3ee26709-773b-4b0c-80a1-754605ae4f2d"
      },
      "outputs": [
        {
          "output_type": "stream",
          "name": "stdout",
          "text": [
            "3570\n"
          ]
        }
      ],
      "source": [
        "#Soma de dois números conhecidos em Python\n",
        "num1 = 1930\n",
        "num2 = 1640\n",
        "resultado = num1 + num2\n",
        "print (resultado)\n"
      ]
    },
    {
      "cell_type": "code",
      "source": [
        "#Soma de dois números desconhecidos em Python\n",
        "num1 = int(input('digite o primeiro número: '))\n",
        "num2 = int(input('digite o segundo número: '))\n",
        "resultado = num1 + num2\n",
        "print (resultado)"
      ],
      "metadata": {
        "colab": {
          "base_uri": "https://localhost:8080/"
        },
        "id": "sMETew2nbQiy",
        "outputId": "f0edccb4-b466-4a03-fe99-9d1f8e622c54"
      },
      "execution_count": null,
      "outputs": [
        {
          "output_type": "stream",
          "name": "stdout",
          "text": [
            "digite o primeiro número: 1\n",
            "digite o segundo número: 2\n",
            "3\n"
          ]
        }
      ]
    }
  ]
}